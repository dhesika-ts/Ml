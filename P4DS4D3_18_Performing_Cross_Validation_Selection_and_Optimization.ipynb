{
 "cells": [
  {
   "cell_type": "markdown",
   "id": "ea5f0928",
   "metadata": {
    "papermill": {
     "duration": 0.008711,
     "end_time": "2023-04-25T09:37:00.672154",
     "exception": false,
     "start_time": "2023-04-25T09:37:00.663443",
     "status": "completed"
    },
    "tags": []
   },
   "source": [
    "# Pondering the Problem of Fitting a Model"
   ]
  },
  {
   "cell_type": "markdown",
   "id": "7093b893",
   "metadata": {
    "papermill": {
     "duration": 0.00739,
     "end_time": "2023-04-25T09:37:00.687437",
     "exception": false,
     "start_time": "2023-04-25T09:37:00.680047",
     "status": "completed"
    },
    "tags": []
   },
   "source": [
    "## Dividing between training, test and validation"
   ]
  },
  {
   "cell_type": "code",
   "execution_count": 1,
   "id": "5f544e99",
   "metadata": {
    "execution": {
     "iopub.execute_input": "2023-04-25T09:37:00.704676Z",
     "iopub.status.busy": "2023-04-25T09:37:00.704278Z",
     "iopub.status.idle": "2023-04-25T09:37:05.690584Z",
     "shell.execute_reply": "2023-04-25T09:37:05.689482Z"
    },
    "papermill": {
     "duration": 4.998611,
     "end_time": "2023-04-25T09:37:05.693657",
     "exception": false,
     "start_time": "2023-04-25T09:37:00.695046",
     "status": "completed"
    },
    "tags": []
   },
   "outputs": [
    {
     "name": "stdout",
     "output_type": "stream",
     "text": [
      "(20640, 8) (20640,)\n"
     ]
    }
   ],
   "source": [
    "from sklearn.datasets import fetch_california_housing\n",
    "import pandas as pd\n",
    "\n",
    "def load_california_housing_data():\n",
    "    dataset = fetch_california_housing()\n",
    "    X = pd.DataFrame(data=dataset.data, \n",
    "                     columns=dataset.feature_names)\n",
    "    y = pd.Series(data=dataset.target, name=\"target\")\n",
    "    return X, y\n",
    "\n",
    "X, y = load_california_housing_data()\n",
    "\n",
    "print(X.shape, y.shape)"
   ]
  },
  {
   "cell_type": "code",
   "execution_count": 2,
   "id": "31416dcd",
   "metadata": {
    "execution": {
     "iopub.execute_input": "2023-04-25T09:37:05.712421Z",
     "iopub.status.busy": "2023-04-25T09:37:05.711333Z",
     "iopub.status.idle": "2023-04-25T09:37:06.148713Z",
     "shell.execute_reply": "2023-04-25T09:37:06.147163Z"
    },
    "papermill": {
     "duration": 0.449703,
     "end_time": "2023-04-25T09:37:06.151330",
     "exception": false,
     "start_time": "2023-04-25T09:37:05.701627",
     "status": "completed"
    },
    "tags": []
   },
   "outputs": [
    {
     "name": "stdout",
     "output_type": "stream",
     "text": [
      "R-squared value: 0.47\n"
     ]
    }
   ],
   "source": [
    "from sklearn.neighbors import KNeighborsRegressor\n",
    "\n",
    "knn_model = KNeighborsRegressor(n_jobs=-1)\n",
    "knn_model.fit(X, y)\n",
    "\n",
    "r2 = knn_model.score(X, y)\n",
    "\n",
    "print(f\"R-squared value: {r2:.2f}\")"
   ]
  },
  {
   "cell_type": "code",
   "execution_count": 3,
   "id": "41e8470b",
   "metadata": {
    "execution": {
     "iopub.execute_input": "2023-04-25T09:37:06.170613Z",
     "iopub.status.busy": "2023-04-25T09:37:06.169831Z",
     "iopub.status.idle": "2023-04-25T09:37:06.185021Z",
     "shell.execute_reply": "2023-04-25T09:37:06.182800Z"
    },
    "papermill": {
     "duration": 0.027979,
     "end_time": "2023-04-25T09:37:06.187779",
     "exception": false,
     "start_time": "2023-04-25T09:37:06.159800",
     "status": "completed"
    },
    "tags": []
   },
   "outputs": [
    {
     "name": "stdout",
     "output_type": "stream",
     "text": [
      "Training set shape: (16512, 8)\n",
      "Testing set shape: (4128, 8)\n"
     ]
    }
   ],
   "source": [
    "from sklearn.model_selection import train_test_split\n",
    "\n",
    "X_train, X_test, y_train, y_test = train_test_split(\n",
    "    X, y, test_size=0.20, random_state=0)\n",
    "\n",
    "print(f\"Training set shape: {X_train.shape}\")\n",
    "print(f\"Testing set shape: {X_test.shape}\")"
   ]
  },
  {
   "cell_type": "code",
   "execution_count": 4,
   "id": "b6d2b771",
   "metadata": {
    "execution": {
     "iopub.execute_input": "2023-04-25T09:37:06.205752Z",
     "iopub.status.busy": "2023-04-25T09:37:06.205300Z",
     "iopub.status.idle": "2023-04-25T09:37:06.445922Z",
     "shell.execute_reply": "2023-04-25T09:37:06.444453Z"
    },
    "papermill": {
     "duration": 0.253693,
     "end_time": "2023-04-25T09:37:06.449468",
     "exception": false,
     "start_time": "2023-04-25T09:37:06.195775",
     "status": "completed"
    },
    "tags": []
   },
   "outputs": [
    {
     "name": "stdout",
     "output_type": "stream",
     "text": [
      "Train mean squared error: 0.73442\n"
     ]
    }
   ],
   "source": [
    "from sklearn.metrics import mean_squared_error\n",
    "\n",
    "knn_model.fit(X_train, y_train)\n",
    "\n",
    "preds_train = knn_model.predict(X_train)\n",
    "preds_test = knn_model.predict(X_test)\n",
    "\n",
    "train_mse = mean_squared_error(y_true=y_train, y_pred=preds_train)\n",
    "print(f\"Train mean squared error: {train_mse:.5f}\")"
   ]
  },
  {
   "cell_type": "code",
   "execution_count": 5,
   "id": "636a37e9",
   "metadata": {
    "execution": {
     "iopub.execute_input": "2023-04-25T09:37:06.468035Z",
     "iopub.status.busy": "2023-04-25T09:37:06.467570Z",
     "iopub.status.idle": "2023-04-25T09:37:06.476285Z",
     "shell.execute_reply": "2023-04-25T09:37:06.474737Z"
    },
    "papermill": {
     "duration": 0.021245,
     "end_time": "2023-04-25T09:37:06.479314",
     "exception": false,
     "start_time": "2023-04-25T09:37:06.458069",
     "status": "completed"
    },
    "tags": []
   },
   "outputs": [
    {
     "name": "stdout",
     "output_type": "stream",
     "text": [
      "Test mean squared error: 1.11733\n"
     ]
    }
   ],
   "source": [
    "test_mse = mean_squared_error(y_true=y_test, \n",
    "                              y_pred=preds_test)\n",
    "print(f\"Test mean squared error: {test_mse:.5f}\")"
   ]
  },
  {
   "cell_type": "markdown",
   "id": "50e7cdc0",
   "metadata": {
    "papermill": {
     "duration": 0.007622,
     "end_time": "2023-04-25T09:37:06.496221",
     "exception": false,
     "start_time": "2023-04-25T09:37:06.488599",
     "status": "completed"
    },
    "tags": []
   },
   "source": [
    "# Cross-validating"
   ]
  },
  {
   "cell_type": "markdown",
   "id": "7d414631",
   "metadata": {
    "papermill": {
     "duration": 0.008212,
     "end_time": "2023-04-25T09:37:06.512353",
     "exception": false,
     "start_time": "2023-04-25T09:37:06.504141",
     "status": "completed"
    },
    "tags": []
   },
   "source": [
    "## Using cross-validation on k folds"
   ]
  },
  {
   "cell_type": "code",
   "execution_count": 6,
   "id": "7a58b066",
   "metadata": {
    "execution": {
     "iopub.execute_input": "2023-04-25T09:37:06.531797Z",
     "iopub.status.busy": "2023-04-25T09:37:06.530577Z",
     "iopub.status.idle": "2023-04-25T09:37:08.693051Z",
     "shell.execute_reply": "2023-04-25T09:37:08.691466Z"
    },
    "papermill": {
     "duration": 2.175835,
     "end_time": "2023-04-25T09:37:08.696288",
     "exception": false,
     "start_time": "2023-04-25T09:37:06.520453",
     "status": "completed"
    },
    "tags": []
   },
   "outputs": [
    {
     "name": "stdout",
     "output_type": "stream",
     "text": [
      "cv mean squared error: 1.10818 std: 0.02739\n"
     ]
    }
   ],
   "source": [
    "from sklearn.model_selection import cross_val_score, KFold\n",
    "import numpy as np\n",
    "\n",
    "cv = KFold(n_splits=10, shuffle=True, random_state=0)\n",
    "scores = cross_val_score(knn_model, X, y, cv=cv,\n",
    "    scoring='neg_mean_squared_error', n_jobs=-1)\n",
    "\n",
    "mean_mse = np.mean(np.abs(scores))\n",
    "std_mse = np.std(scores)\n",
    "\n",
    "print(f\"cv mean squared error: {mean_mse:.5f} std: {std_mse:.5f}\")"
   ]
  },
  {
   "cell_type": "markdown",
   "id": "0d0804c6",
   "metadata": {
    "papermill": {
     "duration": 0.007699,
     "end_time": "2023-04-25T09:37:08.712226",
     "exception": false,
     "start_time": "2023-04-25T09:37:08.704527",
     "status": "completed"
    },
    "tags": []
   },
   "source": [
    "## Sampling stratifications for complex data"
   ]
  },
  {
   "cell_type": "code",
   "execution_count": 7,
   "id": "97e06491",
   "metadata": {
    "execution": {
     "iopub.execute_input": "2023-04-25T09:37:08.730770Z",
     "iopub.status.busy": "2023-04-25T09:37:08.730262Z",
     "iopub.status.idle": "2023-04-25T09:37:09.116114Z",
     "shell.execute_reply": "2023-04-25T09:37:09.114801Z"
    },
    "papermill": {
     "duration": 0.398806,
     "end_time": "2023-04-25T09:37:09.119018",
     "exception": false,
     "start_time": "2023-04-25T09:37:08.720212",
     "status": "completed"
    },
    "tags": []
   },
   "outputs": [
    {
     "data": {
      "image/png": "[encoded data removed]",
      "text/plain": [
       "<Figure size 640x480 with 2 Axes>"
      ]
     },
     "metadata": {},
     "output_type": "display_data"
    }
   ],
   "source": [
    "import matplotlib.pyplot as plt\n",
    "import pandas as pd\n",
    "\n",
    "plt.hexbin(X.Longitude, X.Latitude, C=y, gridsize=50, \n",
    "           cmap='Oranges')\n",
    "cb = plt.colorbar()\n",
    "cb.set_label('Median House Value')\n",
    "plt.xlabel('Longitude'); plt.ylabel('Latitude')\n",
    "plt.show()\n"
   ]
  },
  {
   "cell_type": "markdown",
   "id": "d1c64d24",
   "metadata": {
    "papermill": {
     "duration": 0.008989,
     "end_time": "2023-04-25T09:37:09.137324",
     "exception": false,
     "start_time": "2023-04-25T09:37:09.128335",
     "status": "completed"
    },
    "tags": []
   },
   "source": [
    "see: https://www.kaggle.com/competitions/playground-series-s3e1/discussion/376210\n",
    "https://www.kaggle.com/code/dmitryuarov/ps-s3e1-coordinates-key-to-victory"
   ]
  },
  {
   "cell_type": "code",
   "execution_count": 8,
   "id": "b8ee8825",
   "metadata": {
    "execution": {
     "iopub.execute_input": "2023-04-25T09:37:09.157912Z",
     "iopub.status.busy": "2023-04-25T09:37:09.157367Z",
     "iopub.status.idle": "2023-04-25T09:37:11.131707Z",
     "shell.execute_reply": "2023-04-25T09:37:11.130201Z"
    },
    "papermill": {
     "duration": 1.988076,
     "end_time": "2023-04-25T09:37:11.134838",
     "exception": false,
     "start_time": "2023-04-25T09:37:09.146762",
     "status": "completed"
    },
    "tags": []
   },
   "outputs": [],
   "source": [
    "from sklearn.cluster import KMeans\n",
    "\n",
    "coordinates = X[[\"Latitude\",\"Longitude\"]]\n",
    "\n",
    "clustering = KMeans(n_clusters=20, n_init=10, \n",
    "                    random_state=0)\n",
    "clustering.fit(coordinates)\n",
    "\n",
    "area = clustering.predict(coordinates)"
   ]
  },
  {
   "cell_type": "code",
   "execution_count": 9,
   "id": "d0d41b84",
   "metadata": {
    "execution": {
     "iopub.execute_input": "2023-04-25T09:37:11.190212Z",
     "iopub.status.busy": "2023-04-25T09:37:11.188808Z",
     "iopub.status.idle": "2023-04-25T09:37:11.742283Z",
     "shell.execute_reply": "2023-04-25T09:37:11.740892Z"
    },
    "papermill": {
     "duration": 0.585046,
     "end_time": "2023-04-25T09:37:11.745092",
     "exception": false,
     "start_time": "2023-04-25T09:37:11.160046",
     "status": "completed"
    },
    "tags": []
   },
   "outputs": [
    {
     "data": {
      "image/png": "[encoded data removed]",
      "text/plain": [
       "<Figure size 640x480 with 1 Axes>"
      ]
     },
     "metadata": {},
     "output_type": "display_data"
    }
   ],
   "source": [
    "df_area = pd.DataFrame({\"area\": area, \"median_house_value\": y})\n",
    "df_area.boxplot(\"median_house_value\", by=\"area\");"
   ]
  },
  {
   "cell_type": "code",
   "execution_count": 10,
   "id": "71306b95",
   "metadata": {
    "execution": {
     "iopub.execute_input": "2023-04-25T09:37:11.768347Z",
     "iopub.status.busy": "2023-04-25T09:37:11.767884Z",
     "iopub.status.idle": "2023-04-25T09:37:13.096667Z",
     "shell.execute_reply": "2023-04-25T09:37:13.094728Z"
    },
    "papermill": {
     "duration": 1.344004,
     "end_time": "2023-04-25T09:37:13.099455",
     "exception": false,
     "start_time": "2023-04-25T09:37:11.755451",
     "status": "completed"
    },
    "tags": []
   },
   "outputs": [
    {
     "name": "stdout",
     "output_type": "stream",
     "text": [
      "10 folds cv mean squared error: 1.09899 std: 0.04505\n"
     ]
    }
   ],
   "source": [
    "from sklearn.model_selection import StratifiedKFold\n",
    "from sklearn.metrics import mean_squared_error\n",
    "\n",
    "skf = StratifiedKFold(n_splits=10, shuffle=True, \n",
    "                      random_state=0)\n",
    "scores = list()\n",
    "\n",
    "for train_index, test_index in skf.split(X, area):\n",
    "    X_train, X_test = X.iloc[train_index], \\\n",
    "        X.iloc[test_index]\n",
    "    y_train, y_test = y[train_index], y[test_index]\n",
    "    knn_model.fit(X_train, y_train)\n",
    "    y_pred = knn_model.predict(X_test)\n",
    "    scores.append(mean_squared_error(y_true=y_test,\n",
    "                                     y_pred=y_pred))\n",
    "\n",
    "print('%i folds cv mean squared error: %.5f std: %.5f' % \n",
    "      (len(scores),np.mean(np.abs(scores)),\n",
    "       np.std(scores)))"
   ]
  },
  {
   "cell_type": "markdown",
   "id": "238b3fce",
   "metadata": {
    "papermill": {
     "duration": 0.010003,
     "end_time": "2023-04-25T09:37:13.119451",
     "exception": false,
     "start_time": "2023-04-25T09:37:13.109448",
     "status": "completed"
    },
    "tags": []
   },
   "source": [
    "# Selecting Variables Like a Pro"
   ]
  },
  {
   "cell_type": "code",
   "execution_count": 11,
   "id": "008994ad",
   "metadata": {
    "execution": {
     "iopub.execute_input": "2023-04-25T09:37:13.142419Z",
     "iopub.status.busy": "2023-04-25T09:37:13.141122Z",
     "iopub.status.idle": "2023-04-25T09:37:13.153761Z",
     "shell.execute_reply": "2023-04-25T09:37:13.152261Z"
    },
    "papermill": {
     "duration": 0.027311,
     "end_time": "2023-04-25T09:37:13.156776",
     "exception": false,
     "start_time": "2023-04-25T09:37:13.129465",
     "status": "completed"
    },
    "tags": []
   },
   "outputs": [],
   "source": [
    "df_area = pd.get_dummies(area, prefix=\"area\")\n",
    "df_X = pd.concat([X, df_area], axis=1)"
   ]
  },
  {
   "cell_type": "markdown",
   "id": "33836942",
   "metadata": {
    "papermill": {
     "duration": 0.009541,
     "end_time": "2023-04-25T09:37:13.176361",
     "exception": false,
     "start_time": "2023-04-25T09:37:13.166820",
     "status": "completed"
    },
    "tags": []
   },
   "source": [
    "## Selecting on univariate measures"
   ]
  },
  {
   "cell_type": "code",
   "execution_count": 12,
   "id": "239bd748",
   "metadata": {
    "execution": {
     "iopub.execute_input": "2023-04-25T09:37:13.198403Z",
     "iopub.status.busy": "2023-04-25T09:37:13.198002Z",
     "iopub.status.idle": "2023-04-25T09:37:13.245374Z",
     "shell.execute_reply": "2023-04-25T09:37:13.243952Z"
    },
    "papermill": {
     "duration": 0.063327,
     "end_time": "2023-04-25T09:37:13.249769",
     "exception": false,
     "start_time": "2023-04-25T09:37:13.186442",
     "status": "completed"
    },
    "tags": []
   },
   "outputs": [
    {
     "name": "stdout",
     "output_type": "stream",
     "text": [
      "F-score: +0.688 for feature MedInc\n",
      "F-score: +0.106 for feature HouseAge\n",
      "F-score: +0.152 for feature AveRooms\n",
      "F-score: -0.047 for feature AveBedrms\n",
      "F-score: -0.025 for feature Population\n",
      "F-score: -0.024 for feature AveOccup\n",
      "F-score: -0.144 for feature Latitude\n",
      "F-score: -0.046 for feature Longitude\n",
      "F-score: -0.047 for feature area_0\n",
      "F-score: +0.188 for feature area_1\n",
      "F-score: -0.129 for feature area_2\n",
      "F-score: -0.155 for feature area_3\n",
      "F-score: -0.167 for feature area_4\n",
      "F-score: -0.065 for feature area_5\n",
      "F-score: -0.111 for feature area_6\n",
      "F-score: -0.025 for feature area_7\n",
      "F-score: +0.101 for feature area_8\n",
      "F-score: +0.158 for feature area_9\n",
      "F-score: +0.045 for feature area_10\n",
      "F-score: -0.108 for feature area_11\n",
      "F-score: -0.011 for feature area_12\n",
      "F-score: +0.087 for feature area_13\n",
      "F-score: -0.180 for feature area_14\n",
      "F-score: -0.159 for feature area_15\n",
      "F-score: +0.217 for feature area_16\n",
      "F-score: -0.146 for feature area_17\n",
      "F-score: -0.094 for feature area_18\n",
      "F-score: -0.137 for feature area_19\n"
     ]
    }
   ],
   "source": [
    "from sklearn.feature_selection import r_regression\n",
    "\n",
    "correlations = r_regression(df_X, y)\n",
    "for n, s in zip(df_X.columns, correlations):\n",
    "    print(f\"F-score: {s:+2.3f} for feature {n}\")"
   ]
  },
  {
   "cell_type": "markdown",
   "id": "61ae0472",
   "metadata": {
    "papermill": {
     "duration": 0.025176,
     "end_time": "2023-04-25T09:37:13.300708",
     "exception": false,
     "start_time": "2023-04-25T09:37:13.275532",
     "status": "completed"
    },
    "tags": []
   },
   "source": [
    "## Employing forward and backward selection"
   ]
  },
  {
   "cell_type": "code",
   "execution_count": 13,
   "id": "97a4d6de",
   "metadata": {
    "execution": {
     "iopub.execute_input": "2023-04-25T09:37:13.356281Z",
     "iopub.status.busy": "2023-04-25T09:37:13.354352Z",
     "iopub.status.idle": "2023-04-25T09:39:00.729165Z",
     "shell.execute_reply": "2023-04-25T09:39:00.728098Z"
    },
    "papermill": {
     "duration": 107.415163,
     "end_time": "2023-04-25T09:39:00.741911",
     "exception": false,
     "start_time": "2023-04-25T09:37:13.326748",
     "status": "completed"
    },
    "tags": []
   },
   "outputs": [
    {
     "name": "stdout",
     "output_type": "stream",
     "text": [
      "Selected features: ['MedInc', 'HouseAge', 'AveRooms', 'AveBedrms', 'AveOccup', 'area_0', 'area_3', 'area_4', 'area_5', 'area_8', 'area_10', 'area_14', 'area_17', 'area_19']\n",
      "CPU times: total: 48 s\n",
      "Wall time: 1min 45s\n"
     ]
    }
   ],
   "source": [
    "%%time\n",
    "from sklearn.feature_selection \\\n",
    "    import SequentialFeatureSelector\n",
    "\n",
    "selector = SequentialFeatureSelector(\n",
    "    estimator=knn_model,\n",
    "    direction='forward',\n",
    "    cv=3,\n",
    "    scoring='neg_mean_squared_error',\n",
    "    n_features_to_select=14\n",
    ")\n",
    "\n",
    "selector.fit(df_X, y)\n",
    "feature_mask = selector.support_\n",
    "selected = [feature for feature, \n",
    "            support in zip(df_X.columns, \n",
    "                           feature_mask) if support]\n",
    "print(f\"Selected features: {selected}\")"
   ]
  },
  {
   "cell_type": "markdown",
   "id": "ab17077a",
   "metadata": {
    "papermill": {
     "duration": 0.009842,
     "end_time": "2023-04-25T09:39:00.761983",
     "exception": false,
     "start_time": "2023-04-25T09:39:00.752141",
     "status": "completed"
    },
    "tags": []
   },
   "source": [
    "# Pumping up your hyper-parameters"
   ]
  },
  {
   "cell_type": "markdown",
   "id": "3094d27b",
   "metadata": {
    "papermill": {
     "duration": 0.009735,
     "end_time": "2023-04-25T09:39:00.782133",
     "exception": false,
     "start_time": "2023-04-25T09:39:00.772398",
     "status": "completed"
    },
    "tags": []
   },
   "source": [
    "## Implementing a grid search"
   ]
  },
  {
   "cell_type": "code",
   "execution_count": 14,
   "id": "3d998e23",
   "metadata": {
    "execution": {
     "iopub.execute_input": "2023-04-25T09:39:00.805198Z",
     "iopub.status.busy": "2023-04-25T09:39:00.804176Z",
     "iopub.status.idle": "2023-04-25T09:39:00.809486Z",
     "shell.execute_reply": "2023-04-25T09:39:00.808382Z"
    },
    "papermill": {
     "duration": 0.020239,
     "end_time": "2023-04-25T09:39:00.812408",
     "exception": false,
     "start_time": "2023-04-25T09:39:00.792169",
     "status": "completed"
    },
    "tags": []
   },
   "outputs": [],
   "source": [
    "knn_model = KNeighborsRegressor(n_jobs=1)"
   ]
  },
  {
   "cell_type": "code",
   "execution_count": 15,
   "id": "835dadd5",
   "metadata": {
    "execution": {
     "iopub.execute_input": "2023-04-25T09:39:00.837140Z",
     "iopub.status.busy": "2023-04-25T09:39:00.835746Z",
     "iopub.status.idle": "2023-04-25T09:39:00.842769Z",
     "shell.execute_reply": "2023-04-25T09:39:00.841390Z"
    },
    "papermill": {
     "duration": 0.022403,
     "end_time": "2023-04-25T09:39:00.845547",
     "exception": false,
     "start_time": "2023-04-25T09:39:00.823144",
     "status": "completed"
    },
    "tags": []
   },
   "outputs": [],
   "source": [
    "param_grid = {'n_neighbors': [1, 3, 5, 7, 10, 25, 50, 100],\n",
    "              'weights': ['uniform', 'distance'],\n",
    "              'metric': ['euclidean', 'manhattan',\n",
    "                         'cosine']}"
   ]
  },
  {
   "cell_type": "code",
   "execution_count": 16,
   "id": "64b65307",
   "metadata": {
    "execution": {
     "iopub.execute_input": "2023-04-25T09:39:00.868628Z",
     "iopub.status.busy": "2023-04-25T09:39:00.867730Z",
     "iopub.status.idle": "2023-04-25T09:39:01.391661Z",
     "shell.execute_reply": "2023-04-25T09:39:01.390223Z"
    },
    "papermill": {
     "duration": 0.538432,
     "end_time": "2023-04-25T09:39:01.394325",
     "exception": false,
     "start_time": "2023-04-25T09:39:00.855893",
     "status": "completed"
    },
    "tags": []
   },
   "outputs": [
    {
     "name": "stdout",
     "output_type": "stream",
     "text": [
      "Baseline with default parameters: 0.538\n"
     ]
    }
   ],
   "source": [
    "from sklearn.model_selection import cross_val_score\n",
    "\n",
    "score_metric = 'neg_mean_squared_error'\n",
    "scores = cross_val_score(\n",
    "    knn_model,\n",
    "    X=df_X.loc[:, feature_mask],\n",
    "    y=y,\n",
    "    cv=10,\n",
    "    scoring=score_metric,\n",
    "    n_jobs=-1\n",
    ")\n",
    "\n",
    "baseline_score = np.mean(np.abs(scores))\n",
    "print(f\"Baseline with default parameters: {baseline_score:.3f}\")"
   ]
  },
  {
   "cell_type": "code",
   "execution_count": 17,
   "id": "7dc74190",
   "metadata": {
    "execution": {
     "iopub.execute_input": "2023-04-25T09:39:01.418745Z",
     "iopub.status.busy": "2023-04-25T09:39:01.418291Z",
     "iopub.status.idle": "2023-04-25T09:48:18.664291Z",
     "shell.execute_reply": "2023-04-25T09:48:18.662971Z"
    },
    "papermill": {
     "duration": 557.27336,
     "end_time": "2023-04-25T09:48:18.678189",
     "exception": false,
     "start_time": "2023-04-25T09:39:01.404829",
     "status": "completed"
    },
    "tags": []
   },
   "outputs": [
    {
     "name": "stderr",
     "output_type": "stream",
     "text": [
      "C:\\Users\\John\\anaconda3\\lib\\site-packages\\sklearn\\model_selection\\_search.py:952: UserWarning: One or more of the train scores are non-finite: [ 0.00000000e+00  0.00000000e+00 -2.46120279e-01  0.00000000e+00\n",
      " -3.08398354e-01  0.00000000e+00 -3.39110395e-01  0.00000000e+00\n",
      " -3.64953427e-01  0.00000000e+00 -4.15728226e-01  0.00000000e+00\n",
      " -4.46200275e-01  0.00000000e+00 -4.80452551e-01  0.00000000e+00\n",
      "  0.00000000e+00  0.00000000e+00 -2.45320785e-01  0.00000000e+00\n",
      " -3.05044242e-01  0.00000000e+00 -3.34751601e-01  0.00000000e+00\n",
      " -3.60495664e-01  0.00000000e+00 -4.10149430e-01  0.00000000e+00\n",
      " -4.45031987e-01  0.00000000e+00 -4.84498230e-01  0.00000000e+00\n",
      "             nan -1.79902758e-34 -2.44616609e-01 -1.45692155e-21\n",
      " -3.00812506e-01 -1.96540343e-21 -3.27108945e-01 -2.42138786e-21\n",
      " -3.50582641e-01 -3.02392894e-21 -3.92173463e-01 -5.81192895e-21\n",
      " -4.17868341e-01 -9.91016115e-21 -4.45438810e-01 -1.72908282e-20]\n",
      "  warnings.warn(\n"
     ]
    },
    {
     "name": "stdout",
     "output_type": "stream",
     "text": [
      "CPU times: total: 5.58 s\n",
      "Wall time: 1h 11min 29s\n"
     ]
    },
    {
     "data": {
      "text/html": [
       "<style>#sk-container-id-1 {color: black;background-color: white;}#sk-container-id-1 pre{padding: 0;}#sk-container-id-1 div.sk-toggleable {background-color: white;}#sk-container-id-1 label.sk-toggleable__label {cursor: pointer;display: block;width: 100%;margin-bottom: 0;padding: 0.3em;box-sizing: border-box;text-align: center;}#sk-container-id-1 label.sk-toggleable__label-arrow:before {content: \"▸\";float: left;margin-right: 0.25em;color: #696969;}#sk-container-id-1 label.sk-toggleable__label-arrow:hover:before {color: black;}#sk-container-id-1 div.sk-estimator:hover label.sk-toggleable__label-arrow:before {color: black;}#sk-container-id-1 div.sk-toggleable__content {max-height: 0;max-width: 0;overflow: hidden;text-align: left;background-color: #f0f8ff;}#sk-container-id-1 div.sk-toggleable__content pre {margin: 0.2em;color: black;border-radius: 0.25em;background-color: #f0f8ff;}#sk-container-id-1 input.sk-toggleable__control:checked~div.sk-toggleable__content {max-height: 200px;max-width: 100%;overflow: auto;}#sk-container-id-1 input.sk-toggleable__control:checked~label.sk-toggleable__label-arrow:before {content: \"▾\";}#sk-container-id-1 div.sk-estimator input.sk-toggleable__control:checked~label.sk-toggleable__label {background-color: #d4ebff;}#sk-container-id-1 div.sk-label input.sk-toggleable__control:checked~label.sk-toggleable__label {background-color: #d4ebff;}#sk-container-id-1 input.sk-hidden--visually {border: 0;clip: rect(1px 1px 1px 1px);clip: rect(1px, 1px, 1px, 1px);height: 1px;margin: -1px;overflow: hidden;padding: 0;position: absolute;width: 1px;}#sk-container-id-1 div.sk-estimator {font-family: monospace;background-color: #f0f8ff;border: 1px dotted black;border-radius: 0.25em;box-sizing: border-box;margin-bottom: 0.5em;}#sk-container-id-1 div.sk-estimator:hover {background-color: #d4ebff;}#sk-container-id-1 div.sk-parallel-item::after {content: \"\";width: 100%;border-bottom: 1px solid gray;flex-grow: 1;}#sk-container-id-1 div.sk-label:hover label.sk-toggleable__label {background-color: #d4ebff;}#sk-container-id-1 div.sk-serial::before {content: \"\";position: absolute;border-left: 1px solid gray;box-sizing: border-box;top: 0;bottom: 0;left: 50%;z-index: 0;}#sk-container-id-1 div.sk-serial {display: flex;flex-direction: column;align-items: center;background-color: white;padding-right: 0.2em;padding-left: 0.2em;position: relative;}#sk-container-id-1 div.sk-item {position: relative;z-index: 1;}#sk-container-id-1 div.sk-parallel {display: flex;align-items: stretch;justify-content: center;background-color: white;position: relative;}#sk-container-id-1 div.sk-item::before, #sk-container-id-1 div.sk-parallel-item::before {content: \"\";position: absolute;border-left: 1px solid gray;box-sizing: border-box;top: 0;bottom: 0;left: 50%;z-index: -1;}#sk-container-id-1 div.sk-parallel-item {display: flex;flex-direction: column;z-index: 1;position: relative;background-color: white;}#sk-container-id-1 div.sk-parallel-item:first-child::after {align-self: flex-end;width: 50%;}#sk-container-id-1 div.sk-parallel-item:last-child::after {align-self: flex-start;width: 50%;}#sk-container-id-1 div.sk-parallel-item:only-child::after {width: 0;}#sk-container-id-1 div.sk-dashed-wrapped {border: 1px dashed gray;margin: 0 0.4em 0.5em 0.4em;box-sizing: border-box;padding-bottom: 0.4em;background-color: white;}#sk-container-id-1 div.sk-label label {font-family: monospace;font-weight: bold;display: inline-block;line-height: 1.2em;}#sk-container-id-1 div.sk-label-container {text-align: center;}#sk-container-id-1 div.sk-container {/* jupyter's `normalize.less` sets `[hidden] { display: none; }` but bootstrap.min.css set `[hidden] { display: none !important; }` so we also need the `!important` here to be able to override the default hidden behavior on the sphinx rendered scikit-learn.org. See: https://github.com/scikit-learn/scikit-learn/issues/21755 */display: inline-block !important;position: relative;}#sk-container-id-1 div.sk-text-repr-fallback {display: none;}</style><div id=\"sk-container-id-1\" class=\"sk-top-container\"><div class=\"sk-text-repr-fallback\"><pre>GridSearchCV(cv=10, estimator=KNeighborsRegressor(n_jobs=1), n_jobs=-1,\n",
       "             param_grid={&#x27;metric&#x27;: [&#x27;euclidean&#x27;, &#x27;manhattan&#x27;, &#x27;cosine&#x27;],\n",
       "                         &#x27;n_neighbors&#x27;: [1, 3, 5, 7, 10, 25, 50, 100],\n",
       "                         &#x27;weights&#x27;: [&#x27;uniform&#x27;, &#x27;distance&#x27;]},\n",
       "             return_train_score=True, scoring=&#x27;neg_mean_squared_error&#x27;)</pre><b>In a Jupyter environment, please rerun this cell to show the HTML representation or trust the notebook. <br />On GitHub, the HTML representation is unable to render, please try loading this page with nbviewer.org.</b></div><div class=\"sk-container\" hidden><div class=\"sk-item sk-dashed-wrapped\"><div class=\"sk-label-container\"><div class=\"sk-label sk-toggleable\"><input class=\"sk-toggleable__control sk-hidden--visually\" id=\"sk-estimator-id-1\" type=\"checkbox\" ><label for=\"sk-estimator-id-1\" class=\"sk-toggleable__label sk-toggleable__label-arrow\">GridSearchCV</label><div class=\"sk-toggleable__content\"><pre>GridSearchCV(cv=10, estimator=KNeighborsRegressor(n_jobs=1), n_jobs=-1,\n",
       "             param_grid={&#x27;metric&#x27;: [&#x27;euclidean&#x27;, &#x27;manhattan&#x27;, &#x27;cosine&#x27;],\n",
       "                         &#x27;n_neighbors&#x27;: [1, 3, 5, 7, 10, 25, 50, 100],\n",
       "                         &#x27;weights&#x27;: [&#x27;uniform&#x27;, &#x27;distance&#x27;]},\n",
       "             return_train_score=True, scoring=&#x27;neg_mean_squared_error&#x27;)</pre></div></div></div><div class=\"sk-parallel\"><div class=\"sk-parallel-item\"><div class=\"sk-item\"><div class=\"sk-label-container\"><div class=\"sk-label sk-toggleable\"><input class=\"sk-toggleable__control sk-hidden--visually\" id=\"sk-estimator-id-2\" type=\"checkbox\" ><label for=\"sk-estimator-id-2\" class=\"sk-toggleable__label sk-toggleable__label-arrow\">estimator: KNeighborsRegressor</label><div class=\"sk-toggleable__content\"><pre>KNeighborsRegressor(n_jobs=1)</pre></div></div></div><div class=\"sk-serial\"><div class=\"sk-item\"><div class=\"sk-estimator sk-toggleable\"><input class=\"sk-toggleable__control sk-hidden--visually\" id=\"sk-estimator-id-3\" type=\"checkbox\" ><label for=\"sk-estimator-id-3\" class=\"sk-toggleable__label sk-toggleable__label-arrow\">KNeighborsRegressor</label><div class=\"sk-toggleable__content\"><pre>KNeighborsRegressor(n_jobs=1)</pre></div></div></div></div></div></div></div></div></div></div>"
      ],
      "text/plain": [
       "GridSearchCV(cv=10, estimator=KNeighborsRegressor(n_jobs=1), n_jobs=-1,\n",
       "             param_grid={'metric': ['euclidean', 'manhattan', 'cosine'],\n",
       "                         'n_neighbors': [1, 3, 5, 7, 10, 25, 50, 100],\n",
       "                         'weights': ['uniform', 'distance']},\n",
       "             return_train_score=True, scoring='neg_mean_squared_error')"
      ]
     },
     "execution_count": 17,
     "metadata": {},
     "output_type": "execute_result"
    }
   ],
   "source": [
    "%%time\n",
    "from sklearn.model_selection import GridSearchCV\n",
    "\n",
    "search = GridSearchCV(\n",
    "    estimator=knn_model,\n",
    "    param_grid=param_grid,\n",
    "    scoring=score_metric,\n",
    "    n_jobs=-1,\n",
    "    refit=True,\n",
    "    return_train_score=True,\n",
    "    cv=10\n",
    ")\n",
    "\n",
    "search.fit(df_X.loc[:, feature_mask], y)"
   ]
  },
  {
   "cell_type": "code",
   "execution_count": 18,
   "id": "7436438b",
   "metadata": {
    "execution": {
     "iopub.execute_input": "2023-04-25T09:48:18.701210Z",
     "iopub.status.busy": "2023-04-25T09:48:18.700815Z",
     "iopub.status.idle": "2023-04-25T09:48:18.706120Z",
     "shell.execute_reply": "2023-04-25T09:48:18.705258Z"
    },
    "papermill": {
     "duration": 0.019528,
     "end_time": "2023-04-25T09:48:18.708342",
     "exception": false,
     "start_time": "2023-04-25T09:48:18.688814",
     "status": "completed"
    },
    "tags": []
   },
   "outputs": [
    {
     "name": "stdout",
     "output_type": "stream",
     "text": [
      "Best parameters: {'metric': 'cosine', 'n_neighbors': 50, 'weights': 'distance'}\n",
      "CV mean squared error of best parameters: 0.481\n"
     ]
    }
   ],
   "source": [
    "print(f\"Best parameters: {search.best_params_}\")\n",
    "print(f\"CV mean squared error of best parameters: {abs(search.best_score_):.3f}\")"
   ]
  },
  {
   "cell_type": "code",
   "execution_count": 19,
   "id": "000a10a1",
   "metadata": {
    "execution": {
     "iopub.execute_input": "2023-04-25T09:48:18.731264Z",
     "iopub.status.busy": "2023-04-25T09:48:18.730831Z",
     "iopub.status.idle": "2023-04-25T09:48:18.737170Z",
     "shell.execute_reply": "2023-04-25T09:48:18.735839Z"
    },
    "papermill": {
     "duration": 0.020577,
     "end_time": "2023-04-25T09:48:18.739486",
     "exception": false,
     "start_time": "2023-04-25T09:48:18.718909",
     "status": "completed"
    },
    "tags": []
   },
   "outputs": [
    {
     "name": "stdout",
     "output_type": "stream",
     "text": [
      "dict_keys(['mean_fit_time', 'std_fit_time', 'mean_score_time', 'std_score_time', 'param_metric', 'param_n_neighbors', 'param_weights', 'params', 'split0_test_score', 'split1_test_score', 'split2_test_score', 'split3_test_score', 'split4_test_score', 'split5_test_score', 'split6_test_score', 'split7_test_score', 'split8_test_score', 'split9_test_score', 'mean_test_score', 'std_test_score', 'rank_test_score', 'split0_train_score', 'split1_train_score', 'split2_train_score', 'split3_train_score', 'split4_train_score', 'split5_train_score', 'split6_train_score', 'split7_train_score', 'split8_train_score', 'split9_train_score', 'mean_train_score', 'std_train_score'])\n"
     ]
    }
   ],
   "source": [
    "print(search.cv_results_.keys())"
   ]
  },
  {
   "cell_type": "code",
   "execution_count": 20,
   "id": "c084a612",
   "metadata": {
    "execution": {
     "iopub.execute_input": "2023-04-25T09:48:18.762669Z",
     "iopub.status.busy": "2023-04-25T09:48:18.762159Z",
     "iopub.status.idle": "2023-04-25T09:50:01.309247Z",
     "shell.execute_reply": "2023-04-25T09:50:01.307787Z"
    },
    "papermill": {
     "duration": 102.56253,
     "end_time": "2023-04-25T09:50:01.312760",
     "exception": false,
     "start_time": "2023-04-25T09:48:18.750230",
     "status": "completed"
    },
    "tags": []
   },
   "outputs": [],
   "source": [
    "from sklearn.model_selection import validation_curve\n",
    "\n",
    "tuned_model = KNeighborsRegressor(**search.best_params_, \n",
    "                                  n_jobs=-1)\n",
    "\n",
    "train, test = validation_curve(tuned_model,\n",
    "    df_X.loc[:, feature_mask], y,\n",
    "    param_name='n_neighbors', param_range=range(10, 101, 10), \n",
    "    cv=3, scoring=score_metric, n_jobs=-1)"
   ]
  },
  {
   "cell_type": "code",
   "execution_count": 21,
   "id": "8ff86f5a",
   "metadata": {
    "execution": {
     "iopub.execute_input": "2023-04-25T09:50:01.338035Z",
     "iopub.status.busy": "2023-04-25T09:50:01.337163Z",
     "iopub.status.idle": "2023-04-25T09:50:01.575465Z",
     "shell.execute_reply": "2023-04-25T09:50:01.573995Z"
    },
    "papermill": {
     "duration": 0.254095,
     "end_time": "2023-04-25T09:50:01.578617",
     "exception": false,
     "start_time": "2023-04-25T09:50:01.324522",
     "status": "completed"
    },
    "tags": []
   },
   "outputs": [
    {
     "data": {
      "image/png": "[encoded data removed]",
      "text/plain": [
       "<Figure size 640x480 with 1 Axes>"
      ]
     },
     "metadata": {},
     "output_type": "display_data"
    }
   ],
   "source": [
    "import matplotlib.pyplot as plt\n",
    "\n",
    "mean_test = abs(np.mean(test, axis=1))\n",
    "\n",
    "x_ticks_labels = range(10, 101, 10)\n",
    "x_ticks_values = range(0, len(x_ticks_labels))\n",
    "plt.plot(x_ticks_values, mean_test, 'bD-.', \n",
    "         label='Cross-validation')\n",
    "plt.grid()\n",
    "plt.xlabel('Number of neighbors')\n",
    "plt.xticks(x_ticks_values, x_ticks_labels)\n",
    "plt.ylabel('Mean squared error')\n",
    "plt.legend(loc='upper right', numpoints=1)\n",
    "plt.show()"
   ]
  },
  {
   "cell_type": "markdown",
   "id": "eb36dd63",
   "metadata": {
    "papermill": {
     "duration": 0.010932,
     "end_time": "2023-04-25T09:50:01.601590",
     "exception": false,
     "start_time": "2023-04-25T09:50:01.590658",
     "status": "completed"
    },
    "tags": []
   },
   "source": [
    "## Trying a randomized search"
   ]
  },
  {
   "cell_type": "code",
   "execution_count": 22,
   "id": "0a3adb38",
   "metadata": {
    "execution": {
     "iopub.execute_input": "2023-04-25T09:50:01.626761Z",
     "iopub.status.busy": "2023-04-25T09:50:01.626002Z",
     "iopub.status.idle": "2023-04-25T09:51:42.508894Z",
     "shell.execute_reply": "2023-04-25T09:51:42.504542Z"
    },
    "papermill": {
     "duration": 100.907642,
     "end_time": "2023-04-25T09:51:42.520548",
     "exception": false,
     "start_time": "2023-04-25T09:50:01.612906",
     "status": "completed"
    },
    "tags": []
   },
   "outputs": [
    {
     "name": "stdout",
     "output_type": "stream",
     "text": [
      "Best parameters: {'metric': 'cosine', 'n_neighbors': 50, 'weights': 'distance'}\n",
      "CV mean squared error of best parameters: 0.481\n",
      "CPU times: total: 4.19 s\n",
      "Wall time: 9min 46s\n"
     ]
    }
   ],
   "source": [
    "%%time\n",
    "from sklearn.experimental import enable_halving_search_cv\n",
    "from sklearn.model_selection import HalvingGridSearchCV\n",
    "\n",
    "search = HalvingGridSearchCV(\n",
    "    estimator=knn_model,\n",
    "    param_grid=param_grid,\n",
    "    scoring=score_metric,\n",
    "    n_jobs=-1,\n",
    "    refit=True,\n",
    "    return_train_score=True,\n",
    "    cv=10,\n",
    "    factor=2,\n",
    "    max_resources='auto',\n",
    "    aggressive_elimination=True,\n",
    "    random_state=42\n",
    ")\n",
    "\n",
    "search.fit(df_X.loc[:, feature_mask], y)\n",
    "print(f\"Best parameters: {search.best_params_}\")\n",
    "best_score = abs(search.best_score_)\n",
    "print(f\"CV mean squared error of best parameters: \"\n",
    "      f\"{best_score:.3f}\")"
   ]
  },
  {
   "cell_type": "code",
   "execution_count": 23,
   "id": "b9d09ac8",
   "metadata": {
    "execution": {
     "iopub.execute_input": "2023-04-25T09:51:42.547750Z",
     "iopub.status.busy": "2023-04-25T09:51:42.547286Z",
     "iopub.status.idle": "2023-04-25T09:51:58.328704Z",
     "shell.execute_reply": "2023-04-25T09:51:58.327569Z"
    },
    "papermill": {
     "duration": 15.798409,
     "end_time": "2023-04-25T09:51:58.331009",
     "exception": false,
     "start_time": "2023-04-25T09:51:42.532600",
     "status": "completed"
    },
    "tags": []
   },
   "outputs": [
    {
     "name": "stdout",
     "output_type": "stream",
     "text": [
      "Best parameters: {'weights': 'distance', 'n_neighbors': 37, 'metric': 'cosine'}\n",
      "CV mean squared error of best parameters: 0.480\n",
      "CPU times: total: 922 ms\n",
      "Wall time: 14.8 s\n"
     ]
    }
   ],
   "source": [
    "%%time\n",
    "from sklearn.model_selection import RandomizedSearchCV\n",
    "\n",
    "param_grid = {'n_neighbors': range(1, 100),\n",
    "              'weights': ['uniform', 'distance'],\n",
    "              'metric': ['euclidean', 'manhattan', 'cosine']\n",
    "             }\n",
    "\n",
    "random_search = RandomizedSearchCV(\n",
    "    estimator=knn_model, \n",
    "    param_distributions=param_grid, \n",
    "    n_iter=10,\n",
    "    cv=10,\n",
    "    scoring=score_metric,\n",
    "    refit=True, \n",
    "    random_state=0,\n",
    "    n_jobs=-1\n",
    ")\n",
    "\n",
    "random_search.fit(df_X.loc[:, feature_mask], y)\n",
    "print(f\"Best parameters: {random_search.best_params_}\")\n",
    "best_score = abs(random_search.best_score_)\n",
    "print(f\"CV mean squared error of best parameters: \"\n",
    "      f\"{best_score:.3f}\")"
   ]
  },
  {
   "cell_type": "code",
   "execution_count": null,
   "id": "b1bb0d90",
   "metadata": {},
   "outputs": [],
   "source": []
  }
 ],
 "metadata": {
  "kernelspec": {
   "display_name": "Python 3 (ipykernel)",
   "language": "python",
   "name": "python3"
  },
  "language_info": {
   "codemirror_mode": {
    "name": "ipython",
    "version": 3
   },
   "file_extension": ".py",
   "mimetype": "text/x-python",
   "name": "python",
   "nbconvert_exporter": "python",
   "pygments_lexer": "ipython3",
   "version": "3.10.9"
  },
  "papermill": {
   "default_parameters": {},
   "duration": 912.410284,
   "end_time": "2023-04-25T09:52:00.967442",
   "environment_variables": {},
   "exception": null,
   "input_path": "__notebook__.ipynb",
   "output_path": "__notebook__.ipynb",
   "parameters": {},
   "start_time": "2023-04-25T09:36:48.557158",
   "version": "2.4.0"
  }
 },
 "nbformat": 4,
 "nbformat_minor": 5
}
