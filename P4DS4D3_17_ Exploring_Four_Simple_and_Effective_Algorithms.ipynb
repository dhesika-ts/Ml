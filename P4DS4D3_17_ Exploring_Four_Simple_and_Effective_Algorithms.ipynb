{
 "cells": [
  {
   "cell_type": "markdown",
   "id": "de26791d",
   "metadata": {
    "papermill": {
     "duration": 0.008055,
     "end_time": "2023-04-15T13:57:58.164837",
     "exception": false,
     "start_time": "2023-04-15T13:57:58.156782",
     "status": "completed"
    },
    "tags": []
   },
   "source": [
    "# Guessing the number: linear regression"
   ]
  },
  {
   "cell_type": "markdown",
   "id": "206a45cd",
   "metadata": {
    "papermill": {
     "duration": 0.007679,
     "end_time": "2023-04-15T13:57:58.179469",
     "exception": false,
     "start_time": "2023-04-15T13:57:58.171790",
     "status": "completed"
    },
    "tags": []
   },
   "source": [
    "## Using more variables"
   ]
  },
  {
   "cell_type": "code",
   "execution_count": 1,
   "id": "5e6404fa",
   "metadata": {
    "execution": {
     "iopub.execute_input": "2023-04-15T13:57:58.195711Z",
     "iopub.status.busy": "2023-04-15T13:57:58.195305Z",
     "iopub.status.idle": "2023-04-15T13:57:59.997850Z",
     "shell.execute_reply": "2023-04-15T13:57:59.996501Z"
    },
    "papermill": {
     "duration": 1.814426,
     "end_time": "2023-04-15T13:58:00.001163",
     "exception": false,
     "start_time": "2023-04-15T13:57:58.186737",
     "status": "completed"
    },
    "tags": []
   },
   "outputs": [],
   "source": [
    "from sklearn.datasets import fetch_california_housing\n",
    "import pandas as pd\n",
    "\n",
    "def load_california_housing_data():\n",
    "    dataset = fetch_california_housing()\n",
    "    X = pd.DataFrame(data=dataset.data, \n",
    "                     columns=dataset.feature_names)\n",
    "    y = pd.Series(data=dataset.target, name=\"target\")\n",
    "    return X, y\n",
    "\n",
    "X, y = load_california_housing_data()"
   ]
  },
  {
   "cell_type": "code",
   "execution_count": 2,
   "id": "cddcee06",
   "metadata": {
    "execution": {
     "iopub.execute_input": "2023-04-15T13:58:00.017779Z",
     "iopub.status.busy": "2023-04-15T13:58:00.017365Z",
     "iopub.status.idle": "2023-04-15T13:58:00.222238Z",
     "shell.execute_reply": "2023-04-15T13:58:00.220466Z"
    },
    "papermill": {
     "duration": 0.219174,
     "end_time": "2023-04-15T13:58:00.227639",
     "exception": false,
     "start_time": "2023-04-15T13:58:00.008465",
     "status": "completed"
    },
    "tags": []
   },
   "outputs": [
    {
     "data": {
      "text/html": [
       "<style>#sk-container-id-1 {color: black;background-color: white;}#sk-container-id-1 pre{padding: 0;}#sk-container-id-1 div.sk-toggleable {background-color: white;}#sk-container-id-1 label.sk-toggleable__label {cursor: pointer;display: block;width: 100%;margin-bottom: 0;padding: 0.3em;box-sizing: border-box;text-align: center;}#sk-container-id-1 label.sk-toggleable__label-arrow:before {content: \"▸\";float: left;margin-right: 0.25em;color: #696969;}#sk-container-id-1 label.sk-toggleable__label-arrow:hover:before {color: black;}#sk-container-id-1 div.sk-estimator:hover label.sk-toggleable__label-arrow:before {color: black;}#sk-container-id-1 div.sk-toggleable__content {max-height: 0;max-width: 0;overflow: hidden;text-align: left;background-color: #f0f8ff;}#sk-container-id-1 div.sk-toggleable__content pre {margin: 0.2em;color: black;border-radius: 0.25em;background-color: #f0f8ff;}#sk-container-id-1 input.sk-toggleable__control:checked~div.sk-toggleable__content {max-height: 200px;max-width: 100%;overflow: auto;}#sk-container-id-1 input.sk-toggleable__control:checked~label.sk-toggleable__label-arrow:before {content: \"▾\";}#sk-container-id-1 div.sk-estimator input.sk-toggleable__control:checked~label.sk-toggleable__label {background-color: #d4ebff;}#sk-container-id-1 div.sk-label input.sk-toggleable__control:checked~label.sk-toggleable__label {background-color: #d4ebff;}#sk-container-id-1 input.sk-hidden--visually {border: 0;clip: rect(1px 1px 1px 1px);clip: rect(1px, 1px, 1px, 1px);height: 1px;margin: -1px;overflow: hidden;padding: 0;position: absolute;width: 1px;}#sk-container-id-1 div.sk-estimator {font-family: monospace;background-color: #f0f8ff;border: 1px dotted black;border-radius: 0.25em;box-sizing: border-box;margin-bottom: 0.5em;}#sk-container-id-1 div.sk-estimator:hover {background-color: #d4ebff;}#sk-container-id-1 div.sk-parallel-item::after {content: \"\";width: 100%;border-bottom: 1px solid gray;flex-grow: 1;}#sk-container-id-1 div.sk-label:hover label.sk-toggleable__label {background-color: #d4ebff;}#sk-container-id-1 div.sk-serial::before {content: \"\";position: absolute;border-left: 1px solid gray;box-sizing: border-box;top: 0;bottom: 0;left: 50%;z-index: 0;}#sk-container-id-1 div.sk-serial {display: flex;flex-direction: column;align-items: center;background-color: white;padding-right: 0.2em;padding-left: 0.2em;position: relative;}#sk-container-id-1 div.sk-item {position: relative;z-index: 1;}#sk-container-id-1 div.sk-parallel {display: flex;align-items: stretch;justify-content: center;background-color: white;position: relative;}#sk-container-id-1 div.sk-item::before, #sk-container-id-1 div.sk-parallel-item::before {content: \"\";position: absolute;border-left: 1px solid gray;box-sizing: border-box;top: 0;bottom: 0;left: 50%;z-index: -1;}#sk-container-id-1 div.sk-parallel-item {display: flex;flex-direction: column;z-index: 1;position: relative;background-color: white;}#sk-container-id-1 div.sk-parallel-item:first-child::after {align-self: flex-end;width: 50%;}#sk-container-id-1 div.sk-parallel-item:last-child::after {align-self: flex-start;width: 50%;}#sk-container-id-1 div.sk-parallel-item:only-child::after {width: 0;}#sk-container-id-1 div.sk-dashed-wrapped {border: 1px dashed gray;margin: 0 0.4em 0.5em 0.4em;box-sizing: border-box;padding-bottom: 0.4em;background-color: white;}#sk-container-id-1 div.sk-label label {font-family: monospace;font-weight: bold;display: inline-block;line-height: 1.2em;}#sk-container-id-1 div.sk-label-container {text-align: center;}#sk-container-id-1 div.sk-container {/* jupyter's `normalize.less` sets `[hidden] { display: none; }` but bootstrap.min.css set `[hidden] { display: none !important; }` so we also need the `!important` here to be able to override the default hidden behavior on the sphinx rendered scikit-learn.org. See: https://github.com/scikit-learn/scikit-learn/issues/21755 */display: inline-block !important;position: relative;}#sk-container-id-1 div.sk-text-repr-fallback {display: none;}</style><div id=\"sk-container-id-1\" class=\"sk-top-container\"><div class=\"sk-text-repr-fallback\"><pre>Pipeline(steps=[(&#x27;scaler&#x27;, StandardScaler()), (&#x27;model&#x27;, LinearRegression())])</pre><b>In a Jupyter environment, please rerun this cell to show the HTML representation or trust the notebook. <br />On GitHub, the HTML representation is unable to render, please try loading this page with nbviewer.org.</b></div><div class=\"sk-container\" hidden><div class=\"sk-item sk-dashed-wrapped\"><div class=\"sk-label-container\"><div class=\"sk-label sk-toggleable\"><input class=\"sk-toggleable__control sk-hidden--visually\" id=\"sk-estimator-id-1\" type=\"checkbox\" ><label for=\"sk-estimator-id-1\" class=\"sk-toggleable__label sk-toggleable__label-arrow\">Pipeline</label><div class=\"sk-toggleable__content\"><pre>Pipeline(steps=[(&#x27;scaler&#x27;, StandardScaler()), (&#x27;model&#x27;, LinearRegression())])</pre></div></div></div><div class=\"sk-serial\"><div class=\"sk-item\"><div class=\"sk-estimator sk-toggleable\"><input class=\"sk-toggleable__control sk-hidden--visually\" id=\"sk-estimator-id-2\" type=\"checkbox\" ><label for=\"sk-estimator-id-2\" class=\"sk-toggleable__label sk-toggleable__label-arrow\">StandardScaler</label><div class=\"sk-toggleable__content\"><pre>StandardScaler()</pre></div></div></div><div class=\"sk-item\"><div class=\"sk-estimator sk-toggleable\"><input class=\"sk-toggleable__control sk-hidden--visually\" id=\"sk-estimator-id-3\" type=\"checkbox\" ><label for=\"sk-estimator-id-3\" class=\"sk-toggleable__label sk-toggleable__label-arrow\">LinearRegression</label><div class=\"sk-toggleable__content\"><pre>LinearRegression()</pre></div></div></div></div></div></div></div>"
      ],
      "text/plain": [
       "Pipeline(steps=[('scaler', StandardScaler()), ('model', LinearRegression())])"
      ]
     },
     "execution_count": 2,
     "metadata": {},
     "output_type": "execute_result"
    }
   ],
   "source": [
    "from sklearn.linear_model import LinearRegression\n",
    "from sklearn.preprocessing import StandardScaler\n",
    "from sklearn.pipeline import Pipeline\n",
    "\n",
    "regression = Pipeline(steps=[\n",
    "    ('scaler', StandardScaler()), # Scale the data\n",
    "    ('model', LinearRegression()) # Fit linear regression model\n",
    "])\n",
    "\n",
    "regression.fit(X, y)"
   ]
  },
  {
   "cell_type": "code",
   "execution_count": 3,
   "id": "d4ef7924",
   "metadata": {
    "execution": {
     "iopub.execute_input": "2023-04-15T13:58:00.267455Z",
     "iopub.status.busy": "2023-04-15T13:58:00.266704Z",
     "iopub.status.idle": "2023-04-15T13:58:00.292219Z",
     "shell.execute_reply": "2023-04-15T13:58:00.290440Z"
    },
    "papermill": {
     "duration": 0.051429,
     "end_time": "2023-04-15T13:58:00.297528",
     "exception": false,
     "start_time": "2023-04-15T13:58:00.246099",
     "status": "completed"
    },
    "tags": []
   },
   "outputs": [
    {
     "name": "stdout",
     "output_type": "stream",
     "text": [
      "0.606\n"
     ]
    }
   ],
   "source": [
    "score = regression.score(X, y)\n",
    "print(f\"{score:.3f}\")"
   ]
  },
  {
   "cell_type": "code",
   "execution_count": 4,
   "id": "0f83ff50",
   "metadata": {
    "execution": {
     "iopub.execute_input": "2023-04-15T13:58:00.337877Z",
     "iopub.status.busy": "2023-04-15T13:58:00.337167Z",
     "iopub.status.idle": "2023-04-15T13:58:00.354486Z",
     "shell.execute_reply": "2023-04-15T13:58:00.352514Z"
    },
    "papermill": {
     "duration": 0.043156,
     "end_time": "2023-04-15T13:58:00.359744",
     "exception": false,
     "start_time": "2023-04-15T13:58:00.316588",
     "status": "completed"
    },
    "tags": []
   },
   "outputs": [
    {
     "name": "stdout",
     "output_type": "stream",
     "text": [
      "MedInc      :   0.830\n",
      "HouseAge    :   0.119\n",
      "AveRooms    :  -0.266\n",
      "AveBedrms   :   0.306\n",
      "Population  :  -0.005\n",
      "AveOccup    :  -0.039\n",
      "Latitude    :  -0.900\n",
      "Longitude   :  -0.871\n"
     ]
    }
   ],
   "source": [
    "for feature, coefficient in zip(X.columns, \n",
    "                                regression['model'].coef_):\n",
    "    print(f\"{feature:12}: {coefficient:>7.3f}\")"
   ]
  },
  {
   "cell_type": "markdown",
   "id": "256ea8f0",
   "metadata": {
    "papermill": {
     "duration": 0.007993,
     "end_time": "2023-04-15T13:58:00.416132",
     "exception": false,
     "start_time": "2023-04-15T13:58:00.408139",
     "status": "completed"
    },
    "tags": []
   },
   "source": [
    "# Moving to Logistic Regression"
   ]
  },
  {
   "cell_type": "markdown",
   "id": "a56c42b5",
   "metadata": {
    "papermill": {
     "duration": 0.006944,
     "end_time": "2023-04-15T13:58:00.430772",
     "exception": false,
     "start_time": "2023-04-15T13:58:00.423828",
     "status": "completed"
    },
    "tags": []
   },
   "source": [
    "## Applying logistic regression"
   ]
  },
  {
   "cell_type": "code",
   "execution_count": 5,
   "id": "f004c542",
   "metadata": {
    "execution": {
     "iopub.execute_input": "2023-04-15T13:58:00.448191Z",
     "iopub.status.busy": "2023-04-15T13:58:00.446862Z",
     "iopub.status.idle": "2023-04-15T13:58:00.659214Z",
     "shell.execute_reply": "2023-04-15T13:58:00.658112Z"
    },
    "papermill": {
     "duration": 0.223961,
     "end_time": "2023-04-15T13:58:00.662118",
     "exception": false,
     "start_time": "2023-04-15T13:58:00.438157",
     "status": "completed"
    },
    "tags": []
   },
   "outputs": [],
   "source": [
    "import pandas as pd\n",
    "\n",
    "def load_palmer_penguins(only_numeric=True, \n",
    "                         no_missing=True, \n",
    "                         multiclass=True):\n",
    "    url = \"https://raw.githubusercontent.com/\"\n",
    "    url += \"allisonhorst/palmerpenguins/main/\"\n",
    "    url += \"inst/extdata/penguins.csv\"\n",
    "    numeric_features = [\"bill_length_mm\", \n",
    "                        \"bill_depth_mm\", \n",
    "                        \"flipper_length_mm\", \n",
    "                        \"body_mass_g\"]\n",
    "    categorical_features = [\"island\", \"sex\"]\n",
    "    data = pd.read_csv(url)\n",
    "    if no_missing:\n",
    "        data = data.dropna()\n",
    "    if multiclass:\n",
    "        target = data.species.replace({'Adelie':1, \n",
    "                                       'Gentoo':2, \n",
    "                                       'Chinstrap':3})\n",
    "    else:\n",
    "        target = data.species.replace({'Adelie':1, \n",
    "                                       'Gentoo':0, \n",
    "                                       'Chinstrap':0})\n",
    "    if only_numeric:\n",
    "        return data[numeric_features], target\n",
    "    else:\n",
    "        return data[numeric_features + \n",
    "                    categorical_features], target\n",
    "    \n",
    "X, y = load_palmer_penguins(only_numeric=True, \n",
    "                            no_missing=True, \n",
    "                            multiclass=False)"
   ]
  },
  {
   "cell_type": "code",
   "execution_count": 6,
   "id": "e785a571",
   "metadata": {},
   "outputs": [
    {
     "name": "stdout",
     "output_type": "stream",
     "text": [
      "Predicted class 0, real class 0\n",
      "with probability 0.987\n"
     ]
    }
   ],
   "source": [
    "from sklearn.linear_model import LogisticRegression\n",
    "\n",
    "logistic = Pipeline(steps=[\n",
    "    ('scaler', StandardScaler()),\n",
    "    ('model', LogisticRegression())])\n",
    "\n",
    "logistic.fit(X.iloc[:-1], y.iloc[:-1])\n",
    "\n",
    "excluded_row = X.iloc[[-1]]\n",
    "pred = logistic.predict(excluded_row)\n",
    "proba = logistic.predict_proba(excluded_row)\n",
    "print (f\"Predicted class {pred[0]}, real class \" +\n",
    "       f\"{y.iloc[-1]}\") \n",
    "print (f\"with probability {proba[0, 0]:.3f}\")"
   ]
  },
  {
   "cell_type": "markdown",
   "id": "1250a240",
   "metadata": {
    "papermill": {
     "duration": 0.007761,
     "end_time": "2023-04-15T13:58:00.811577",
     "exception": false,
     "start_time": "2023-04-15T13:58:00.803816",
     "status": "completed"
    },
    "tags": []
   },
   "source": [
    "## Considering the case when there are more classes"
   ]
  },
  {
   "cell_type": "code",
   "execution_count": 7,
   "id": "bf67cb43",
   "metadata": {
    "execution": {
     "iopub.execute_input": "2023-04-15T13:58:00.828737Z",
     "iopub.status.busy": "2023-04-15T13:58:00.828321Z",
     "iopub.status.idle": "2023-04-15T13:58:00.870100Z",
     "shell.execute_reply": "2023-04-15T13:58:00.868836Z"
    },
    "papermill": {
     "duration": 0.053495,
     "end_time": "2023-04-15T13:58:00.872898",
     "exception": false,
     "start_time": "2023-04-15T13:58:00.819403",
     "status": "completed"
    },
    "tags": []
   },
   "outputs": [],
   "source": [
    "from sklearn.model_selection import train_test_split\n",
    "\n",
    "X, y = load_palmer_penguins(only_numeric=True, \n",
    "                            no_missing=True, \n",
    "                            multiclass=True)\n",
    "X_train, X_test, y_train, y_test = train_test_split(\n",
    "    X, y, test_size=0.33, random_state=42)"
   ]
  },
  {
   "cell_type": "code",
   "execution_count": 8,
   "id": "1138695f",
   "metadata": {
    "execution": {
     "iopub.execute_input": "2023-04-15T13:58:00.890351Z",
     "iopub.status.busy": "2023-04-15T13:58:00.889561Z",
     "iopub.status.idle": "2023-04-15T13:58:00.955044Z",
     "shell.execute_reply": "2023-04-15T13:58:00.953628Z"
    },
    "papermill": {
     "duration": 0.077317,
     "end_time": "2023-04-15T13:58:00.957858",
     "exception": false,
     "start_time": "2023-04-15T13:58:00.880541",
     "status": "completed"
    },
    "tags": []
   },
   "outputs": [
    {
     "name": "stdout",
     "output_type": "stream",
     "text": [
      "One vs rest accuracy: 0.973\n",
      "One vs one accuracy: 0.982\n"
     ]
    }
   ],
   "source": [
    "from sklearn.multiclass import OneVsRestClassifier \n",
    "from sklearn.multiclass import OneVsOneClassifier\n",
    "ovr = OneVsRestClassifier(logistic).fit(X_train, y_train)\n",
    "ovo = OneVsOneClassifier(logistic).fit(X_train, y_train)\n",
    "print('One vs rest accuracy: %.3f' % ovr.score(X_test, y_test))\n",
    "print('One vs one accuracy: %.3f' % ovo.score(X_test, y_test))"
   ]
  },
  {
   "cell_type": "markdown",
   "id": "552ecd6d",
   "metadata": {
    "papermill": {
     "duration": 0.007506,
     "end_time": "2023-04-15T13:58:00.973291",
     "exception": false,
     "start_time": "2023-04-15T13:58:00.965785",
     "status": "completed"
    },
    "tags": []
   },
   "source": [
    "# Making Things as Simple as Naïve Bayes"
   ]
  },
  {
   "cell_type": "markdown",
   "id": "bf768731",
   "metadata": {
    "papermill": {
     "duration": 0.00741,
     "end_time": "2023-04-15T13:58:00.988440",
     "exception": false,
     "start_time": "2023-04-15T13:58:00.981030",
     "status": "completed"
    },
    "tags": []
   },
   "source": [
    "## Predicting text classifications"
   ]
  },
  {
   "cell_type": "code",
   "execution_count": 9,
   "id": "3846b968",
   "metadata": {
    "execution": {
     "iopub.execute_input": "2023-04-15T13:58:01.006142Z",
     "iopub.status.busy": "2023-04-15T13:58:01.005689Z",
     "iopub.status.idle": "2023-04-15T13:58:13.150241Z",
     "shell.execute_reply": "2023-04-15T13:58:13.149109Z"
    },
    "papermill": {
     "duration": 12.156913,
     "end_time": "2023-04-15T13:58:13.153318",
     "exception": false,
     "start_time": "2023-04-15T13:58:00.996405",
     "status": "completed"
    },
    "tags": []
   },
   "outputs": [],
   "source": [
    "import numpy as np\n",
    "from sklearn.datasets import fetch_20newsgroups\n",
    "from sklearn.feature_extraction.text \\\n",
    "    import CountVectorizer\n",
    "import sklearn.feature_extraction.text as txt\n",
    "from sklearn.naive_bayes import BernoulliNB, MultinomialNB\n",
    "from sklearn.metrics import accuracy_score\n",
    "\n",
    "newsgroups_train = fetch_20newsgroups(\n",
    "    subset='train', remove=('headers', 'footers', \n",
    "                            'quotes'))\n",
    "newsgroups_test = fetch_20newsgroups(\n",
    "    subset='test', remove=('headers', 'footers', \n",
    "                           'quotes'))"
   ]
  },
  {
   "cell_type": "code",
   "execution_count": 10,
   "id": "7043462a",
   "metadata": {
    "execution": {
     "iopub.execute_input": "2023-04-15T13:58:13.170782Z",
     "iopub.status.busy": "2023-04-15T13:58:13.170392Z",
     "iopub.status.idle": "2023-04-15T13:58:13.175908Z",
     "shell.execute_reply": "2023-04-15T13:58:13.174614Z"
    },
    "papermill": {
     "duration": 0.01759,
     "end_time": "2023-04-15T13:58:13.178666",
     "exception": false,
     "start_time": "2023-04-15T13:58:13.161076",
     "status": "completed"
    },
    "tags": []
   },
   "outputs": [],
   "source": [
    "bernoulli_nb = BernoulliNB(alpha=0.01)\n",
    "multinomial_nb = MultinomialNB(alpha=0.01)\n",
    "\n",
    "multinomial_vectorizer = CountVectorizer(\n",
    "    stop_words='english', binary=False)\n",
    "binary_vectorizer = CountVectorizer(\n",
    "    stop_words='english', binary=True)"
   ]
  },
  {
   "cell_type": "code",
   "execution_count": 11,
   "id": "1e3ee81a",
   "metadata": {
    "execution": {
     "iopub.execute_input": "2023-04-15T13:58:13.196108Z",
     "iopub.status.busy": "2023-04-15T13:58:13.195636Z",
     "iopub.status.idle": "2023-04-15T13:58:19.344615Z",
     "shell.execute_reply": "2023-04-15T13:58:19.343556Z"
    },
    "papermill": {
     "duration": 6.160808,
     "end_time": "2023-04-15T13:58:19.347219",
     "exception": false,
     "start_time": "2023-04-15T13:58:13.186411",
     "status": "completed"
    },
    "tags": []
   },
   "outputs": [],
   "source": [
    "train_targets = newsgroups_train.target\n",
    "test_targets = newsgroups_test.target\n",
    "\n",
    "multinomial_X = np.abs(\n",
    "    multinomial_vectorizer.fit_transform(\n",
    "        newsgroups_train.data))\n",
    "multinomial_Xt = np.abs(\n",
    "    multinomial_vectorizer.transform(\n",
    "        newsgroups_test.data))\n",
    "binary_X = binary_vectorizer.fit_transform(\n",
    "    newsgroups_train.data)\n",
    "binary_Xt = binary_vectorizer.transform(\n",
    "    newsgroups_test.data)"
   ]
  },
  {
   "cell_type": "code",
   "execution_count": 12,
   "id": "15f557a6",
   "metadata": {
    "execution": {
     "iopub.execute_input": "2023-04-15T13:58:19.365532Z",
     "iopub.status.busy": "2023-04-15T13:58:19.365093Z",
     "iopub.status.idle": "2023-04-15T13:58:19.689619Z",
     "shell.execute_reply": "2023-04-15T13:58:19.688065Z"
    },
    "papermill": {
     "duration": 0.336787,
     "end_time": "2023-04-15T13:58:19.692243",
     "exception": false,
     "start_time": "2023-04-15T13:58:19.355456",
     "status": "completed"
    },
    "tags": []
   },
   "outputs": [
    {
     "name": "stdout",
     "output_type": "stream",
     "text": [
      "Accuracy for BernoulliNB: 0.567\n",
      "Accuracy for MultinomialNB: 0.653\n"
     ]
    }
   ],
   "source": [
    "multinomial_nb.fit(multinomial_X, train_targets)\n",
    "bernoulli_nb.fit(binary_X, train_targets)\n",
    "\n",
    "\n",
    "for name, model, data in [\n",
    "    ('BernoulliNB', bernoulli_nb, binary_Xt),\n",
    "    ('MultinomialNB', multinomial_nb, multinomial_Xt)]:\n",
    "    accuracy = accuracy_score(\n",
    "        y_true=test_targets, y_pred=model.predict(data))\n",
    "    print(f\"Accuracy for {name}: {accuracy:.3f}\")"
   ]
  },
  {
   "cell_type": "code",
   "execution_count": 13,
   "id": "f86785d0",
   "metadata": {
    "execution": {
     "iopub.execute_input": "2023-04-15T13:58:19.710030Z",
     "iopub.status.busy": "2023-04-15T13:58:19.709574Z",
     "iopub.status.idle": "2023-04-15T13:58:20.251521Z",
     "shell.execute_reply": "2023-04-15T13:58:20.249841Z"
    },
    "papermill": {
     "duration": 0.554066,
     "end_time": "2023-04-15T13:58:20.254326",
     "exception": false,
     "start_time": "2023-04-15T13:58:19.700260",
     "status": "completed"
    },
    "tags": []
   },
   "outputs": [
    {
     "name": "stdout",
     "output_type": "stream",
     "text": [
      "training posts: 11314\n",
      "training words: 300972\n",
      "test posts: 7532\n"
     ]
    }
   ],
   "source": [
    "print(f'training posts: {len(newsgroups_train.data)}')\n",
    "D = {word: True for post in newsgroups_train.data \n",
    "     for word in post.split(' ')}\n",
    "print(f'training words: {len(D)}')\n",
    "print(f'test posts: {len(newsgroups_test.data)}')"
   ]
  },
  {
   "cell_type": "markdown",
   "id": "7e5d68c1",
   "metadata": {
    "papermill": {
     "duration": 0.007565,
     "end_time": "2023-04-15T13:58:20.270820",
     "exception": false,
     "start_time": "2023-04-15T13:58:20.263255",
     "status": "completed"
    },
    "tags": []
   },
   "source": [
    "# Learning Lazily with Nearest Neighbors"
   ]
  },
  {
   "cell_type": "markdown",
   "id": "92c852a1",
   "metadata": {
    "papermill": {
     "duration": 0.007986,
     "end_time": "2023-04-15T13:58:20.286721",
     "exception": false,
     "start_time": "2023-04-15T13:58:20.278735",
     "status": "completed"
    },
    "tags": []
   },
   "source": [
    "## Predicting after observing neighbors"
   ]
  },
  {
   "cell_type": "code",
   "execution_count": 14,
   "id": "b8061829",
   "metadata": {
    "execution": {
     "iopub.execute_input": "2023-04-15T13:58:20.305204Z",
     "iopub.status.busy": "2023-04-15T13:58:20.304751Z",
     "iopub.status.idle": "2023-04-15T13:58:20.405885Z",
     "shell.execute_reply": "2023-04-15T13:58:20.404573Z"
    },
    "papermill": {
     "duration": 0.114031,
     "end_time": "2023-04-15T13:58:20.409067",
     "exception": false,
     "start_time": "2023-04-15T13:58:20.295036",
     "status": "completed"
    },
    "tags": []
   },
   "outputs": [],
   "source": [
    "import matplotlib.pyplot as plt\n",
    "from sklearn.datasets import load_digits\n",
    "from sklearn.model_selection import train_test_split\n",
    "\n",
    "digits = load_digits()\n",
    "X_train, X_test, y_train, y_test = train_test_split(\n",
    "    digits.data, digits.target, \n",
    "    test_size=0.33, random_state=42)"
   ]
  },
  {
   "cell_type": "code",
   "execution_count": 15,
   "id": "15d3a0d3",
   "metadata": {
    "execution": {
     "iopub.execute_input": "2023-04-15T13:58:20.427420Z",
     "iopub.status.busy": "2023-04-15T13:58:20.426965Z",
     "iopub.status.idle": "2023-04-15T13:58:20.548477Z",
     "shell.execute_reply": "2023-04-15T13:58:20.547242Z"
    },
    "papermill": {
     "duration": 0.134028,
     "end_time": "2023-04-15T13:58:20.551343",
     "exception": false,
     "start_time": "2023-04-15T13:58:20.417315",
     "status": "completed"
    },
    "tags": []
   },
   "outputs": [
    {
     "data": {
      "text/html": [
       "<style>#sk-container-id-2 {color: black;background-color: white;}#sk-container-id-2 pre{padding: 0;}#sk-container-id-2 div.sk-toggleable {background-color: white;}#sk-container-id-2 label.sk-toggleable__label {cursor: pointer;display: block;width: 100%;margin-bottom: 0;padding: 0.3em;box-sizing: border-box;text-align: center;}#sk-container-id-2 label.sk-toggleable__label-arrow:before {content: \"▸\";float: left;margin-right: 0.25em;color: #696969;}#sk-container-id-2 label.sk-toggleable__label-arrow:hover:before {color: black;}#sk-container-id-2 div.sk-estimator:hover label.sk-toggleable__label-arrow:before {color: black;}#sk-container-id-2 div.sk-toggleable__content {max-height: 0;max-width: 0;overflow: hidden;text-align: left;background-color: #f0f8ff;}#sk-container-id-2 div.sk-toggleable__content pre {margin: 0.2em;color: black;border-radius: 0.25em;background-color: #f0f8ff;}#sk-container-id-2 input.sk-toggleable__control:checked~div.sk-toggleable__content {max-height: 200px;max-width: 100%;overflow: auto;}#sk-container-id-2 input.sk-toggleable__control:checked~label.sk-toggleable__label-arrow:before {content: \"▾\";}#sk-container-id-2 div.sk-estimator input.sk-toggleable__control:checked~label.sk-toggleable__label {background-color: #d4ebff;}#sk-container-id-2 div.sk-label input.sk-toggleable__control:checked~label.sk-toggleable__label {background-color: #d4ebff;}#sk-container-id-2 input.sk-hidden--visually {border: 0;clip: rect(1px 1px 1px 1px);clip: rect(1px, 1px, 1px, 1px);height: 1px;margin: -1px;overflow: hidden;padding: 0;position: absolute;width: 1px;}#sk-container-id-2 div.sk-estimator {font-family: monospace;background-color: #f0f8ff;border: 1px dotted black;border-radius: 0.25em;box-sizing: border-box;margin-bottom: 0.5em;}#sk-container-id-2 div.sk-estimator:hover {background-color: #d4ebff;}#sk-container-id-2 div.sk-parallel-item::after {content: \"\";width: 100%;border-bottom: 1px solid gray;flex-grow: 1;}#sk-container-id-2 div.sk-label:hover label.sk-toggleable__label {background-color: #d4ebff;}#sk-container-id-2 div.sk-serial::before {content: \"\";position: absolute;border-left: 1px solid gray;box-sizing: border-box;top: 0;bottom: 0;left: 50%;z-index: 0;}#sk-container-id-2 div.sk-serial {display: flex;flex-direction: column;align-items: center;background-color: white;padding-right: 0.2em;padding-left: 0.2em;position: relative;}#sk-container-id-2 div.sk-item {position: relative;z-index: 1;}#sk-container-id-2 div.sk-parallel {display: flex;align-items: stretch;justify-content: center;background-color: white;position: relative;}#sk-container-id-2 div.sk-item::before, #sk-container-id-2 div.sk-parallel-item::before {content: \"\";position: absolute;border-left: 1px solid gray;box-sizing: border-box;top: 0;bottom: 0;left: 50%;z-index: -1;}#sk-container-id-2 div.sk-parallel-item {display: flex;flex-direction: column;z-index: 1;position: relative;background-color: white;}#sk-container-id-2 div.sk-parallel-item:first-child::after {align-self: flex-end;width: 50%;}#sk-container-id-2 div.sk-parallel-item:last-child::after {align-self: flex-start;width: 50%;}#sk-container-id-2 div.sk-parallel-item:only-child::after {width: 0;}#sk-container-id-2 div.sk-dashed-wrapped {border: 1px dashed gray;margin: 0 0.4em 0.5em 0.4em;box-sizing: border-box;padding-bottom: 0.4em;background-color: white;}#sk-container-id-2 div.sk-label label {font-family: monospace;font-weight: bold;display: inline-block;line-height: 1.2em;}#sk-container-id-2 div.sk-label-container {text-align: center;}#sk-container-id-2 div.sk-container {/* jupyter's `normalize.less` sets `[hidden] { display: none; }` but bootstrap.min.css set `[hidden] { display: none !important; }` so we also need the `!important` here to be able to override the default hidden behavior on the sphinx rendered scikit-learn.org. See: https://github.com/scikit-learn/scikit-learn/issues/21755 */display: inline-block !important;position: relative;}#sk-container-id-2 div.sk-text-repr-fallback {display: none;}</style><div id=\"sk-container-id-2\" class=\"sk-top-container\"><div class=\"sk-text-repr-fallback\"><pre>KNeighborsClassifier()</pre><b>In a Jupyter environment, please rerun this cell to show the HTML representation or trust the notebook. <br />On GitHub, the HTML representation is unable to render, please try loading this page with nbviewer.org.</b></div><div class=\"sk-container\" hidden><div class=\"sk-item\"><div class=\"sk-estimator sk-toggleable\"><input class=\"sk-toggleable__control sk-hidden--visually\" id=\"sk-estimator-id-4\" type=\"checkbox\" checked><label for=\"sk-estimator-id-4\" class=\"sk-toggleable__label sk-toggleable__label-arrow\">KNeighborsClassifier</label><div class=\"sk-toggleable__content\"><pre>KNeighborsClassifier()</pre></div></div></div></div></div>"
      ],
      "text/plain": [
       "KNeighborsClassifier()"
      ]
     },
     "execution_count": 15,
     "metadata": {},
     "output_type": "execute_result"
    }
   ],
   "source": [
    "from sklearn.neighbors import KNeighborsClassifier\n",
    "knn = KNeighborsClassifier(n_neighbors=5, p=2)\n",
    "knn.fit(X_train, y_train)"
   ]
  },
  {
   "cell_type": "code",
   "execution_count": 16,
   "id": "1bd87468",
   "metadata": {
    "execution": {
     "iopub.execute_input": "2023-04-15T13:58:20.569425Z",
     "iopub.status.busy": "2023-04-15T13:58:20.569000Z",
     "iopub.status.idle": "2023-04-15T13:58:20.647867Z",
     "shell.execute_reply": "2023-04-15T13:58:20.645725Z"
    },
    "papermill": {
     "duration": 0.092791,
     "end_time": "2023-04-15T13:58:20.652374",
     "exception": false,
     "start_time": "2023-04-15T13:58:20.559583",
     "status": "completed"
    },
    "tags": []
   },
   "outputs": [
    {
     "name": "stdout",
     "output_type": "stream",
     "text": [
      "Accuracy: 0.993\n",
      "Prediction: [2 1 1 2 2 4 8 7 5 8 8 9 4 9 0]\n",
      "Actual:     [2 1 1 2 2 4 8 7 5 8 8 9 4 9 0]\n"
     ]
    }
   ],
   "source": [
    "print('Accuracy: %.3f' % knn.score(X_test, y_test) )\n",
    "print(f\"Prediction: {knn.predict(X_test[-15:,:])}\")\n",
    "print(f\"Actual:     {y_test[-15:]}\")"
   ]
  },
  {
   "cell_type": "markdown",
   "id": "4400b468",
   "metadata": {
    "papermill": {
     "duration": 0.021373,
     "end_time": "2023-04-15T13:58:20.694508",
     "exception": false,
     "start_time": "2023-04-15T13:58:20.673135",
     "status": "completed"
    },
    "tags": []
   },
   "source": [
    "## Choosing your k parameter wisely"
   ]
  },
  {
   "cell_type": "code",
   "execution_count": 17,
   "id": "5e9a42bb",
   "metadata": {
    "execution": {
     "iopub.execute_input": "2023-04-15T13:58:20.738621Z",
     "iopub.status.busy": "2023-04-15T13:58:20.737856Z",
     "iopub.status.idle": "2023-04-15T13:58:21.220986Z",
     "shell.execute_reply": "2023-04-15T13:58:21.219588Z"
    },
    "papermill": {
     "duration": 0.509947,
     "end_time": "2023-04-15T13:58:21.225300",
     "exception": false,
     "start_time": "2023-04-15T13:58:20.715353",
     "status": "completed"
    },
    "tags": []
   },
   "outputs": [
    {
     "name": "stdout",
     "output_type": "stream",
     "text": [
      "k=   1 \t accuracy= 0.985\n",
      "k=   3 \t accuracy= 0.990\n",
      "k=   5 \t accuracy= 0.993\n",
      "k=   7 \t accuracy= 0.990\n",
      "k=  10 \t accuracy= 0.983\n",
      "k=  50 \t accuracy= 0.929\n",
      "k= 100 \t accuracy= 0.899\n"
     ]
    }
   ],
   "source": [
    "for k in [1, 3, 5, 7, 10, 50, 100]:\n",
    "    kNN = KNeighborsClassifier(n_neighbors=k)\n",
    "    kNN.fit(X_train, y_train)\n",
    "    test_score = kNN.score(X_test, y_test)\n",
    "    print(f\"k= {k:3} \\t accuracy= {test_score:.3f}\")"
   ]
  },
  {
   "cell_type": "code",
   "execution_count": null,
   "id": "e7fd66ce",
   "metadata": {},
   "outputs": [],
   "source": []
  }
 ],
 "metadata": {
  "kernelspec": {
   "display_name": "Python 3 (ipykernel)",
   "language": "python",
   "name": "python3"
  },
  "language_info": {
   "codemirror_mode": {
    "name": "ipython",
    "version": 3
   },
   "file_extension": ".py",
   "mimetype": "text/x-python",
   "name": "python",
   "nbconvert_exporter": "python",
   "pygments_lexer": "ipython3",
   "version": "3.10.9"
  },
  "papermill": {
   "default_parameters": {},
   "duration": 34.53005,
   "end_time": "2023-04-15T13:58:22.081198",
   "environment_variables": {},
   "exception": null,
   "input_path": "__notebook__.ipynb",
   "output_path": "__notebook__.ipynb",
   "parameters": {},
   "start_time": "2023-04-15T13:57:47.551148",
   "version": "2.4.0"
  }
 },
 "nbformat": 4,
 "nbformat_minor": 5
}
