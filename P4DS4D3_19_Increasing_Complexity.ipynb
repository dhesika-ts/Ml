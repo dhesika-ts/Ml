{
 "cells": [
  {
   "cell_type": "markdown",
   "id": "10208a09",
   "metadata": {
    "papermill": {
     "duration": 0.019975,
     "end_time": "2023-05-13T06:31:27.965085",
     "exception": false,
     "start_time": "2023-05-13T06:31:27.945110",
     "status": "completed"
    },
    "tags": []
   },
   "source": [
    "# Using Non-linear Transformations"
   ]
  },
  {
   "cell_type": "markdown",
   "id": "997ebdb9",
   "metadata": {
    "papermill": {
     "duration": 0.017944,
     "end_time": "2023-05-13T06:31:28.002745",
     "exception": false,
     "start_time": "2023-05-13T06:31:27.984801",
     "status": "completed"
    },
    "tags": []
   },
   "source": [
    "## Doing variable transformations"
   ]
  },
  {
   "cell_type": "code",
   "execution_count": 1,
   "id": "08655971",
   "metadata": {
    "execution": {
     "iopub.execute_input": "2023-05-13T06:31:28.042463Z",
     "iopub.status.busy": "2023-05-13T06:31:28.041979Z",
     "iopub.status.idle": "2023-05-13T06:31:31.823772Z",
     "shell.execute_reply": "2023-05-13T06:31:31.821856Z"
    },
    "papermill": {
     "duration": 3.807619,
     "end_time": "2023-05-13T06:31:31.828871",
     "exception": false,
     "start_time": "2023-05-13T06:31:28.021252",
     "status": "completed"
    },
    "tags": []
   },
   "outputs": [
    {
     "name": "stdout",
     "output_type": "stream",
     "text": [
      ".. _california_housing_dataset:\n",
      "\n",
      "California Housing dataset\n",
      "--------------------------\n",
      "\n",
      "**Data Set Characteristics:**\n",
      "\n",
      "    :Number of Instances: 20640\n",
      "\n",
      "    :Number of Attributes: 8 numeric, predictive attributes and the target\n",
      "\n",
      "    :Attribute Information:\n",
      "        - MedInc        median income in block group\n",
      "        - HouseAge      median house age in block group\n",
      "        - AveRooms      average number of rooms per household\n",
      "        - AveBedrms     average number of bedrooms per household\n",
      "        - Population    block group population\n",
      "        - AveOccup      average number of household members\n",
      "        - Latitude      block group latitude\n",
      "        - Longitude     block group longitude\n",
      "\n",
      "    :Missing Attribute Values: None\n",
      "\n",
      "This dataset was obtained from the StatLib repository.\n",
      "https://www.dcc.fc.up.pt/~ltorgo/Regression/cal_housing.html\n",
      "\n",
      "The target variable is the median house value for California districts,\n",
      "expressed in hundreds of thousands of dollars ($100,000).\n",
      "\n",
      "This dataset was derived from the 1990 U.S. census, using one row per census\n",
      "block group. A block group is the smallest geographical unit for which the U.S.\n",
      "Census Bureau publishes sample data (a block group typically has a population\n",
      "of 600 to 3,000 people).\n",
      "\n",
      "An household is a group of people residing within a home. Since the average\n",
      "number of rooms and bedrooms in this dataset are provided per household, these\n",
      "columns may take surpinsingly large values for block groups with few households\n",
      "and many empty houses, such as vacation resorts.\n",
      "\n",
      "It can be downloaded/loaded using the\n",
      ":func:`sklearn.datasets.fetch_california_housing` function.\n",
      "\n",
      ".. topic:: References\n",
      "\n",
      "    - Pace, R. Kelley and Ronald Barry, Sparse Spatial Autoregressions,\n",
      "      Statistics and Probability Letters, 33 (1997) 291-297\n",
      "\n"
     ]
    }
   ],
   "source": [
    "from sklearn.datasets import fetch_california_housing\n",
    "import pandas as pd\n",
    "\n",
    "def load_california_housing_data():\n",
    "    dataset = fetch_california_housing()\n",
    "    X = pd.DataFrame(data=dataset.data, \n",
    "                     columns=dataset.feature_names)\n",
    "    y = pd.Series(data=dataset.target, name=\"target\")\n",
    "    print(dataset.DESCR)\n",
    "    return X, y\n",
    "\n",
    "X, y = load_california_housing_data()"
   ]
  },
  {
   "cell_type": "code",
   "execution_count": 2,
   "id": "d8cc04e9",
   "metadata": {
    "execution": {
     "iopub.execute_input": "2023-05-13T06:31:31.870038Z",
     "iopub.status.busy": "2023-05-13T06:31:31.869594Z",
     "iopub.status.idle": "2023-05-13T06:31:31.896236Z",
     "shell.execute_reply": "2023-05-13T06:31:31.894647Z"
    },
    "papermill": {
     "duration": 0.050851,
     "end_time": "2023-05-13T06:31:31.899675",
     "exception": false,
     "start_time": "2023-05-13T06:31:31.848824",
     "status": "completed"
    },
    "tags": []
   },
   "outputs": [],
   "source": [
    "X[\"AveOccup\"] = X[\"AveOccup\"].clip(upper=100)\n",
    "\n",
    "X['AveOccupRooms'] = X['AveOccup'] / X['AveRooms']\n",
    "X['AveOccupBedrms'] = X['AveOccup'] / X['AveBedrms']\n",
    "X['Rooms_capita'] = X['Population'] / X['AveRooms']\n",
    "X['Bedrms_capita'] =  X['Population'] / X['AveBedrms']\n",
    "X['Bedrms_pct'] = X['AveBedrms'] / X['AveRooms']"
   ]
  },
  {
   "cell_type": "code",
   "execution_count": 3,
   "id": "28b12f6b",
   "metadata": {
    "execution": {
     "iopub.execute_input": "2023-05-13T06:31:31.942198Z",
     "iopub.status.busy": "2023-05-13T06:31:31.941641Z",
     "iopub.status.idle": "2023-05-13T06:31:32.283364Z",
     "shell.execute_reply": "2023-05-13T06:31:32.281385Z"
    },
    "papermill": {
     "duration": 0.369637,
     "end_time": "2023-05-13T06:31:32.288451",
     "exception": false,
     "start_time": "2023-05-13T06:31:31.918814",
     "status": "completed"
    },
    "tags": []
   },
   "outputs": [
    {
     "name": "stdout",
     "output_type": "stream",
     "text": [
      "F score for the original feature 275.8\n",
      "F score for the transformed feature 1434.7\n"
     ]
    }
   ],
   "source": [
    "import numpy as np\n",
    "from sklearn.feature_selection import f_regression\n",
    "\n",
    "single_variable = X[\"AveOccup\"].values.reshape(-1, 1)\n",
    "F, pval = f_regression(single_variable, y)\n",
    "print(f'F score for the original feature {F[0]:.1f}')\n",
    "\n",
    "F, pval = f_regression(np.log1p(single_variable),y)\n",
    "print(f'F score for the transformed feature {F[0]:.1f}')"
   ]
  },
  {
   "cell_type": "markdown",
   "id": "76c2b6aa",
   "metadata": {
    "papermill": {
     "duration": 0.040797,
     "end_time": "2023-05-13T06:31:32.369610",
     "exception": false,
     "start_time": "2023-05-13T06:31:32.328813",
     "status": "completed"
    },
    "tags": []
   },
   "source": [
    "## Creating interactions between variables"
   ]
  },
  {
   "cell_type": "code",
   "execution_count": 4,
   "id": "941af727",
   "metadata": {
    "execution": {
     "iopub.execute_input": "2023-05-13T06:31:32.425503Z",
     "iopub.status.busy": "2023-05-13T06:31:32.424958Z",
     "iopub.status.idle": "2023-05-13T06:31:32.922804Z",
     "shell.execute_reply": "2023-05-13T06:31:32.921384Z"
    },
    "papermill": {
     "duration": 0.523208,
     "end_time": "2023-05-13T06:31:32.927470",
     "exception": false,
     "start_time": "2023-05-13T06:31:32.404262",
     "status": "completed"
    },
    "tags": []
   },
   "outputs": [
    {
     "name": "stdout",
     "output_type": "stream",
     "text": [
      "Baseline MSE: 0.507\n"
     ]
    }
   ],
   "source": [
    "from sklearn.linear_model import LinearRegression\n",
    "from sklearn.preprocessing import StandardScaler\n",
    "from sklearn.pipeline import Pipeline\n",
    "from sklearn.model_selection  import cross_val_score, KFold\n",
    "\n",
    "regression = Pipeline([(\"scaler\", StandardScaler()), (\"model\",LinearRegression())])\n",
    "crossvalidation = KFold(n_splits=10, shuffle=True, random_state=1)\n",
    "\n",
    "baseline = np.mean(cross_val_score(regression, X, y, \n",
    "                                   scoring='neg_mean_squared_error', \n",
    "                                   cv=crossvalidation))\n",
    "\n",
    "print(f'Baseline MSE: {abs(baseline):.3f}')"
   ]
  },
  {
   "cell_type": "code",
   "execution_count": 5,
   "id": "9937a631",
   "metadata": {
    "execution": {
     "iopub.execute_input": "2023-05-13T06:31:33.010025Z",
     "iopub.status.busy": "2023-05-13T06:31:33.009182Z",
     "iopub.status.idle": "2023-05-13T06:31:33.047572Z",
     "shell.execute_reply": "2023-05-13T06:31:33.046414Z"
    },
    "papermill": {
     "duration": 0.084091,
     "end_time": "2023-05-13T06:31:33.050922",
     "exception": false,
     "start_time": "2023-05-13T06:31:32.966831",
     "status": "completed"
    },
    "tags": []
   },
   "outputs": [],
   "source": [
    "from sklearn.preprocessing import PolynomialFeatures\n",
    "\n",
    "poly = PolynomialFeatures((2, 2), interaction_only=True, include_bias=False)\n",
    "features = [\"MedInc\", \"HouseAge\", \"Population\", \"AveRooms\", \"AveBedrms\", \"AveOccup\"]\n",
    "poly.fit(X[features])\n",
    "interactions = pd.DataFrame(poly.transform(X[features]), columns=poly.get_feature_names_out(features))\n"
   ]
  },
  {
   "cell_type": "code",
   "execution_count": 6,
   "id": "6ac092d0",
   "metadata": {
    "execution": {
     "iopub.execute_input": "2023-05-13T06:31:33.091567Z",
     "iopub.status.busy": "2023-05-13T06:31:33.090507Z",
     "iopub.status.idle": "2023-05-13T06:31:33.098948Z",
     "shell.execute_reply": "2023-05-13T06:31:33.097389Z"
    },
    "papermill": {
     "duration": 0.032384,
     "end_time": "2023-05-13T06:31:33.101947",
     "exception": false,
     "start_time": "2023-05-13T06:31:33.069563",
     "status": "completed"
    },
    "tags": []
   },
   "outputs": [
    {
     "name": "stdout",
     "output_type": "stream",
     "text": [
      "(20640, 15)\n"
     ]
    }
   ],
   "source": [
    "print(interactions.shape)"
   ]
  },
  {
   "cell_type": "code",
   "execution_count": 7,
   "id": "312f7164",
   "metadata": {
    "execution": {
     "iopub.execute_input": "2023-05-13T06:31:33.144589Z",
     "iopub.status.busy": "2023-05-13T06:31:33.143211Z",
     "iopub.status.idle": "2023-05-13T06:31:39.070836Z",
     "shell.execute_reply": "2023-05-13T06:31:39.068851Z"
    },
    "papermill": {
     "duration": 5.956226,
     "end_time": "2023-05-13T06:31:39.076684",
     "exception": false,
     "start_time": "2023-05-13T06:31:33.120458",
     "status": "completed"
    },
    "tags": []
   },
   "outputs": [
    {
     "name": "stdout",
     "output_type": "stream",
     "text": [
      "adding interaction MedInc HouseAge improves MSE to 0.504\n",
      "adding interaction MedInc Population improves MSE to 0.500\n",
      "adding interaction MedInc AveRooms improves MSE to 0.501\n",
      "adding interaction MedInc AveBedrms improves MSE to 0.506\n",
      "adding interaction MedInc AveOccup improves MSE to 0.507\n",
      "adding interaction HouseAge Population improves MSE to 0.506\n",
      "adding interaction Population AveOccup improves MSE to 0.490\n"
     ]
    }
   ],
   "source": [
    "for col in interactions:\n",
    "    Xt = pd.concat([X, interactions[col]], axis=1)\n",
    "    \n",
    "    test = np.mean(cross_val_score(regression, Xt, y, \n",
    "                                   scoring='neg_mean_squared_error', \n",
    "                                   cv=crossvalidation))\n",
    "    if test > baseline:\n",
    "        print(f\"adding interaction {col} improves MSE to {abs(test):0.3f}\")"
   ]
  },
  {
   "cell_type": "markdown",
   "id": "f5f17d55",
   "metadata": {
    "papermill": {
     "duration": 0.041024,
     "end_time": "2023-05-13T06:31:39.159559",
     "exception": false,
     "start_time": "2023-05-13T06:31:39.118535",
     "status": "completed"
    },
    "tags": []
   },
   "source": [
    "# Regularizing linear models"
   ]
  },
  {
   "cell_type": "markdown",
   "id": "243cfc9a",
   "metadata": {
    "papermill": {
     "duration": 0.018995,
     "end_time": "2023-05-13T06:31:39.212478",
     "exception": false,
     "start_time": "2023-05-13T06:31:39.193483",
     "status": "completed"
    },
    "tags": []
   },
   "source": [
    "## Relying on ridge regression"
   ]
  },
  {
   "cell_type": "code",
   "execution_count": 8,
   "id": "b0dc0959",
   "metadata": {
    "execution": {
     "iopub.execute_input": "2023-05-13T06:31:39.253547Z",
     "iopub.status.busy": "2023-05-13T06:31:39.252984Z",
     "iopub.status.idle": "2023-05-13T06:31:52.263184Z",
     "shell.execute_reply": "2023-05-13T06:31:52.261166Z"
    },
    "papermill": {
     "duration": 13.037325,
     "end_time": "2023-05-13T06:31:52.269205",
     "exception": false,
     "start_time": "2023-05-13T06:31:39.231880",
     "status": "completed"
    },
    "tags": []
   },
   "outputs": [
    {
     "name": "stdout",
     "output_type": "stream",
     "text": [
      "Best parameters: {'model__alpha': 263.6650898730355}\n",
      "CV MSE of best parameters: 0.499\n"
     ]
    }
   ],
   "source": [
    "from sklearn.model_selection import GridSearchCV\n",
    "from sklearn.linear_model import Ridge\n",
    "\n",
    "Xt = pd.concat([X, interactions], axis=1)\n",
    "\n",
    "ridge = Pipeline([(\"scaler\", StandardScaler()), (\"model\",Ridge())])\n",
    "search_grid = {'model__alpha': np.logspace(-6, 4, 20)}\n",
    "search = GridSearchCV(estimator=ridge, \n",
    "                      param_grid=search_grid, \n",
    "                      scoring='neg_mean_squared_error', \n",
    "                      refit=True, cv=crossvalidation)\n",
    "search.fit(Xt, y)\n",
    "print(f'Best parameters: {search.best_params_}')\n",
    "score = abs(search.best_score_)\n",
    "print(f'CV MSE of best parameters: {score:.3f}')"
   ]
  },
  {
   "cell_type": "markdown",
   "id": "e52f5ca1",
   "metadata": {
    "papermill": {
     "duration": 0.040454,
     "end_time": "2023-05-13T06:31:52.351727",
     "exception": false,
     "start_time": "2023-05-13T06:31:52.311273",
     "status": "completed"
    },
    "tags": []
   },
   "source": [
    "## Using the Lasso"
   ]
  },
  {
   "cell_type": "code",
   "execution_count": 9,
   "id": "2cdbd059",
   "metadata": {
    "execution": {
     "iopub.execute_input": "2023-05-13T06:31:52.406736Z",
     "iopub.status.busy": "2023-05-13T06:31:52.406173Z",
     "iopub.status.idle": "2023-05-13T06:32:44.561611Z",
     "shell.execute_reply": "2023-05-13T06:32:44.559133Z"
    },
    "papermill": {
     "duration": 52.207428,
     "end_time": "2023-05-13T06:32:44.592057",
     "exception": false,
     "start_time": "2023-05-13T06:31:52.384629",
     "status": "completed"
    },
    "tags": []
   },
   "outputs": [
    {
     "name": "stdout",
     "output_type": "stream",
     "text": [
      "Best parameters: {'model__alpha': 0.004832930238571752}\n",
      "CV MSE of best parameters: 0.493\n"
     ]
    }
   ],
   "source": [
    "from sklearn.linear_model import Lasso\n",
    "from warnings import simplefilter\n",
    "from sklearn.exceptions import ConvergenceWarning\n",
    "simplefilter(\"ignore\", category=ConvergenceWarning)\n",
    " \n",
    "lasso = Pipeline([(\"scaler\", StandardScaler()), (\"model\",Lasso(selection='random'))])\n",
    "\n",
    "search_grid = {'model__alpha': np.logspace(-6, 4, 20)}\n",
    "search = GridSearchCV(estimator=lasso, \n",
    "                      param_grid=search_grid, \n",
    "                      scoring='neg_mean_squared_error', \n",
    "                      refit=True, cv=crossvalidation)\n",
    "search.fit(Xt, y)\n",
    "best_alpha = search.best_params_\n",
    "print(f'Best parameters: {search.best_params_}')\n",
    "score = abs(search.best_score_)\n",
    "print(f'CV MSE of best parameters: {score:.3f}')"
   ]
  },
  {
   "cell_type": "markdown",
   "id": "7ad8de88",
   "metadata": {
    "papermill": {
     "duration": 0.03174,
     "end_time": "2023-05-13T06:32:44.666208",
     "exception": false,
     "start_time": "2023-05-13T06:32:44.634468",
     "status": "completed"
    },
    "tags": []
   },
   "source": [
    "## Leveraging regularization for feature selection"
   ]
  },
  {
   "cell_type": "code",
   "execution_count": 10,
   "id": "0cf7c453",
   "metadata": {
    "execution": {
     "iopub.execute_input": "2023-05-13T06:32:44.707994Z",
     "iopub.status.busy": "2023-05-13T06:32:44.707484Z",
     "iopub.status.idle": "2023-05-13T06:32:44.715941Z",
     "shell.execute_reply": "2023-05-13T06:32:44.714441Z"
    },
    "papermill": {
     "duration": 0.033097,
     "end_time": "2023-05-13T06:32:44.719065",
     "exception": false,
     "start_time": "2023-05-13T06:32:44.685968",
     "status": "completed"
    },
    "tags": []
   },
   "outputs": [
    {
     "name": "stdout",
     "output_type": "stream",
     "text": [
      "['MedInc', 'HouseAge', 'AveRooms', 'AveOccup', 'Latitude', 'Longitude', 'AveOccupRooms', 'AveOccupBedrms', 'Rooms_capita', 'Bedrms_capita', 'Bedrms_pct', 'MedInc HouseAge', 'MedInc Population', 'MedInc AveRooms', 'HouseAge Population', 'HouseAge AveOccup', 'Population AveRooms', 'Population AveOccup']\n"
     ]
    }
   ],
   "source": [
    "selection = np.abs(\n",
    "    search.best_estimator_[\"model\"].coef_) > 0\n",
    "print(Xt.columns[selection].tolist())"
   ]
  },
  {
   "cell_type": "markdown",
   "id": "00d0c1e6",
   "metadata": {
    "papermill": {
     "duration": 0.019438,
     "end_time": "2023-05-13T06:32:44.759030",
     "exception": false,
     "start_time": "2023-05-13T06:32:44.739592",
     "status": "completed"
    },
    "tags": []
   },
   "source": [
    "## Combining L1 & L2: Elasticnet"
   ]
  },
  {
   "cell_type": "code",
   "execution_count": 11,
   "id": "638d294f",
   "metadata": {
    "execution": {
     "iopub.execute_input": "2023-05-13T06:32:44.801878Z",
     "iopub.status.busy": "2023-05-13T06:32:44.800384Z",
     "iopub.status.idle": "2023-05-13T06:39:04.866256Z",
     "shell.execute_reply": "2023-05-13T06:39:04.864769Z"
    },
    "papermill": {
     "duration": 380.135125,
     "end_time": "2023-05-13T06:39:04.913877",
     "exception": false,
     "start_time": "2023-05-13T06:32:44.778752",
     "status": "completed"
    },
    "tags": []
   },
   "outputs": [
    {
     "name": "stdout",
     "output_type": "stream",
     "text": [
      "Best parameters: {'model__alpha': 0.004832930238571752, 'model__l1_ratio': 0.95}\n",
      "CV MSE of best parameters: 0.493\n"
     ]
    }
   ],
   "source": [
    "from sklearn.linear_model import ElasticNet\n",
    "\n",
    "elastic = Pipeline([(\"scaler\", StandardScaler()), (\"model\", ElasticNet(selection='random'))])\n",
    "search_grid = {'model__alpha': np.logspace(-6, 4, 20), \n",
    "               'model__l1_ratio': [0.05, 0.10 ,0.25, 0.5, 0.75, 0.90, 0.95]}\n",
    "search = GridSearchCV(estimator=elastic, \n",
    "                      param_grid=search_grid, \n",
    "                      scoring='neg_mean_squared_error', \n",
    "                      refit=True, cv=crossvalidation)\n",
    "search.fit(Xt, y)\n",
    "print(f'Best parameters: {search.best_params_}')\n",
    "score = abs(search.best_score_)\n",
    "print(f'CV MSE of best parameters: {score:.3f}')\n"
   ]
  },
  {
   "cell_type": "markdown",
   "id": "a63f323d",
   "metadata": {
    "papermill": {
     "duration": 0.03194,
     "end_time": "2023-05-13T06:39:04.987815",
     "exception": false,
     "start_time": "2023-05-13T06:39:04.955875",
     "status": "completed"
    },
    "tags": []
   },
   "source": [
    "# Fighting with Big Data Chunk by Chunk"
   ]
  },
  {
   "cell_type": "markdown",
   "id": "3352cb2c",
   "metadata": {
    "papermill": {
     "duration": 0.019683,
     "end_time": "2023-05-13T06:39:05.028021",
     "exception": false,
     "start_time": "2023-05-13T06:39:05.008338",
     "status": "completed"
    },
    "tags": []
   },
   "source": [
    "## Implementing Stochastic Gradient Descent"
   ]
  },
  {
   "cell_type": "code",
   "execution_count": 12,
   "id": "a0124858",
   "metadata": {
    "execution": {
     "iopub.execute_input": "2023-05-13T06:39:05.070559Z",
     "iopub.status.busy": "2023-05-13T06:39:05.070001Z",
     "iopub.status.idle": "2023-05-13T06:39:05.354863Z",
     "shell.execute_reply": "2023-05-13T06:39:05.352962Z"
    },
    "papermill": {
     "duration": 0.312474,
     "end_time": "2023-05-13T06:39:05.360389",
     "exception": false,
     "start_time": "2023-05-13T06:39:05.047915",
     "status": "completed"
    },
    "tags": []
   },
   "outputs": [
    {
     "name": "stdout",
     "output_type": "stream",
     "text": [
      "test MSE: 0.494\n"
     ]
    }
   ],
   "source": [
    "from sklearn.linear_model import SGDRegressor\n",
    "from sklearn.preprocessing import MinMaxScaler\n",
    "from sklearn.metrics import mean_squared_error\n",
    "from sklearn.model_selection import train_test_split\n",
    "\n",
    "scaling = MinMaxScaler(feature_range=(0, 1))\n",
    "scaled_X = scaling.fit_transform(Xt)\n",
    "\n",
    "X_tr, X_t, y_tr, y_t = train_test_split(scaled_X, y, \n",
    "                                        test_size=0.20, \n",
    "                                        random_state=0)\n",
    "\n",
    "SGD = SGDRegressor(loss='squared_error', \n",
    "                   penalty='l1', \n",
    "                   alpha=0.00001, \n",
    "                   max_iter=2000,\n",
    "                   learning_rate=\"adaptive\",\n",
    "                   random_state=0)\n",
    "\n",
    "SGD.fit(X_tr, y_tr)\n",
    "\n",
    "score = mean_squared_error(y_t, SGD.predict(X_t))\n",
    "print(f'test MSE: {score:.3f}')"
   ]
  },
  {
   "cell_type": "code",
   "execution_count": 13,
   "id": "de8c71b3",
   "metadata": {
    "execution": {
     "iopub.execute_input": "2023-05-13T06:39:05.447355Z",
     "iopub.status.busy": "2023-05-13T06:39:05.446564Z",
     "iopub.status.idle": "2023-05-13T06:39:45.461483Z",
     "shell.execute_reply": "2023-05-13T06:39:45.459478Z"
    },
    "papermill": {
     "duration": 40.106611,
     "end_time": "2023-05-13T06:39:45.508726",
     "exception": false,
     "start_time": "2023-05-13T06:39:05.402115",
     "status": "completed"
    },
    "tags": []
   },
   "outputs": [
    {
     "name": "stdout",
     "output_type": "stream",
     "text": [
      "test MSE: 0.472\n"
     ]
    }
   ],
   "source": [
    "SGD = SGDRegressor(loss='squared_error', \n",
    "                   penalty='l1', \n",
    "                   alpha=0.00001,\n",
    "                   learning_rate=\"adaptive\",\n",
    "                   random_state=0)\n",
    "\n",
    "improvements = list()\n",
    "\n",
    "for z in range(2000):\n",
    "    SGD.partial_fit(X_tr, y_tr)\n",
    "    score = mean_squared_error(y_t, SGD.predict(X_t))\n",
    "    improvements.append(score)\n",
    "    \n",
    "print(f'test MSE: {improvements[-1]:.3f}')"
   ]
  },
  {
   "cell_type": "code",
   "execution_count": 14,
   "id": "c2c8d64b",
   "metadata": {
    "execution": {
     "iopub.execute_input": "2023-05-13T06:39:45.586126Z",
     "iopub.status.busy": "2023-05-13T06:39:45.585616Z",
     "iopub.status.idle": "2023-05-13T06:39:45.951856Z",
     "shell.execute_reply": "2023-05-13T06:39:45.950420Z"
    },
    "papermill": {
     "duration": 0.405179,
     "end_time": "2023-05-13T06:39:45.955702",
     "exception": false,
     "start_time": "2023-05-13T06:39:45.550523",
     "status": "completed"
    },
    "scrolled": true,
    "tags": []
   },
   "outputs": [
    {
     "data": {
      "image/png": "[encoded data removed]",
      "text/plain": [
       "<Figure size 800x400 with 2 Axes>"
      ]
     },
     "metadata": {},
     "output_type": "display_data"
    }
   ],
   "source": [
    "%matplotlib inline\n",
    "import matplotlib.pyplot as plt\n",
    "\n",
    "plt.figure(figsize=(8, 4))\n",
    "plt.subplot(1,2,1)\n",
    "range_1 = range(0,100,10)\n",
    "score_1 = np.abs(improvements[0:100:10])\n",
    "plt.plot(range_1, score_1,'o--')\n",
    "plt.xlabel('Iterations up to 100')\n",
    "plt.ylabel('Test mean squared error')\n",
    "plt.subplot(1,2,2)\n",
    "range_2 = range(100,2000,100)\n",
    "score_2 = np.abs(improvements[100:2000:100])\n",
    "plt.plot(range_2, score_2,'o--')\n",
    "plt.xlabel('Iterations from 101 to 2000')\n",
    "plt.show()"
   ]
  },
  {
   "cell_type": "markdown",
   "id": "3563a9bb",
   "metadata": {
    "papermill": {
     "duration": 0.020393,
     "end_time": "2023-05-13T06:39:45.997136",
     "exception": false,
     "start_time": "2023-05-13T06:39:45.976743",
     "status": "completed"
    },
    "tags": []
   },
   "source": [
    "# Understanding Support Vector Machines"
   ]
  },
  {
   "cell_type": "markdown",
   "id": "32e9a4f2",
   "metadata": {
    "papermill": {
     "duration": 0.020381,
     "end_time": "2023-05-13T06:39:46.038395",
     "exception": false,
     "start_time": "2023-05-13T06:39:46.018014",
     "status": "completed"
    },
    "tags": []
   },
   "source": [
    "## Classifying with SVC"
   ]
  },
  {
   "cell_type": "code",
   "execution_count": 15,
   "id": "46825996",
   "metadata": {
    "execution": {
     "iopub.execute_input": "2023-05-13T06:39:46.081959Z",
     "iopub.status.busy": "2023-05-13T06:39:46.081390Z",
     "iopub.status.idle": "2023-05-13T06:39:46.208956Z",
     "shell.execute_reply": "2023-05-13T06:39:46.207573Z"
    },
    "papermill": {
     "duration": 0.153631,
     "end_time": "2023-05-13T06:39:46.212586",
     "exception": false,
     "start_time": "2023-05-13T06:39:46.058955",
     "status": "completed"
    },
    "tags": []
   },
   "outputs": [],
   "source": [
    "from sklearn import datasets\n",
    "digits = datasets.load_digits()\n",
    "X, y = digits.data, digits.target"
   ]
  },
  {
   "cell_type": "code",
   "execution_count": 16,
   "id": "fbb02683",
   "metadata": {
    "execution": {
     "iopub.execute_input": "2023-05-13T06:39:46.255900Z",
     "iopub.status.busy": "2023-05-13T06:39:46.255349Z",
     "iopub.status.idle": "2023-05-13T06:39:47.167822Z",
     "shell.execute_reply": "2023-05-13T06:39:47.166299Z"
    },
    "papermill": {
     "duration": 0.937859,
     "end_time": "2023-05-13T06:39:47.170946",
     "exception": false,
     "start_time": "2023-05-13T06:39:46.233087",
     "status": "completed"
    },
    "tags": []
   },
   "outputs": [
    {
     "data": {
      "image/png": "[encoded data removed]",
      "text/plain": [
       "<Figure size 640x480 with 10 Axes>"
      ]
     },
     "metadata": {},
     "output_type": "display_data"
    }
   ],
   "source": [
    "import matplotlib.pyplot as plt\n",
    "%matplotlib inline\n",
    "\n",
    "for k,img in enumerate(range(10)):\n",
    "    plt.subplot(2, 5, k+1)\n",
    "    plt.imshow(digits.images[img], \n",
    "               cmap='binary', \n",
    "               interpolation='none')\n",
    "plt.show()"
   ]
  },
  {
   "cell_type": "code",
   "execution_count": 17,
   "id": "e91225a0",
   "metadata": {
    "execution": {
     "iopub.execute_input": "2023-05-13T06:39:47.216430Z",
     "iopub.status.busy": "2023-05-13T06:39:47.215510Z",
     "iopub.status.idle": "2023-05-13T06:39:47.225055Z",
     "shell.execute_reply": "2023-05-13T06:39:47.223427Z"
    },
    "papermill": {
     "duration": 0.036688,
     "end_time": "2023-05-13T06:39:47.228946",
     "exception": false,
     "start_time": "2023-05-13T06:39:47.192258",
     "status": "completed"
    },
    "tags": []
   },
   "outputs": [
    {
     "name": "stdout",
     "output_type": "stream",
     "text": [
      "[ 0.  0.  5. 13.  9.  1.  0.  0.  0.  0. 13. 15. 10. 15.  5.  0.  0.  3.\n",
      " 15.  2.  0. 11.  8.  0.  0.  4. 12.  0.  0.  8.  8.  0.  0.  5.  8.  0.\n",
      "  0.  9.  8.  0.  0.  4. 11.  0.  1. 12.  7.  0.  0.  2. 14.  5. 10. 12.\n",
      "  0.  0.  0.  0.  6. 13. 10.  0.  0.  0.]\n"
     ]
    }
   ],
   "source": [
    "print(X[0])"
   ]
  },
  {
   "cell_type": "code",
   "execution_count": 18,
   "id": "3a101136",
   "metadata": {
    "execution": {
     "iopub.execute_input": "2023-05-13T06:39:47.274765Z",
     "iopub.status.busy": "2023-05-13T06:39:47.274187Z",
     "iopub.status.idle": "2023-05-13T06:39:47.283790Z",
     "shell.execute_reply": "2023-05-13T06:39:47.282109Z"
    },
    "papermill": {
     "duration": 0.036113,
     "end_time": "2023-05-13T06:39:47.286745",
     "exception": false,
     "start_time": "2023-05-13T06:39:47.250632",
     "status": "completed"
    },
    "tags": []
   },
   "outputs": [
    {
     "name": "stdout",
     "output_type": "stream",
     "text": [
      "[[ 0.  0.  5. 13.  9.  1.  0.  0.]\n",
      " [ 0.  0. 13. 15. 10. 15.  5.  0.]\n",
      " [ 0.  3. 15.  2.  0. 11.  8.  0.]\n",
      " [ 0.  4. 12.  0.  0.  8.  8.  0.]\n",
      " [ 0.  5.  8.  0.  0.  9.  8.  0.]\n",
      " [ 0.  4. 11.  0.  1. 12.  7.  0.]\n",
      " [ 0.  2. 14.  5. 10. 12.  0.  0.]\n",
      " [ 0.  0.  6. 13. 10.  0.  0.  0.]]\n"
     ]
    }
   ],
   "source": [
    "print(X[0].reshape(8,8))"
   ]
  },
  {
   "cell_type": "code",
   "execution_count": 19,
   "id": "951fbf47",
   "metadata": {
    "execution": {
     "iopub.execute_input": "2023-05-13T06:39:47.334202Z",
     "iopub.status.busy": "2023-05-13T06:39:47.333673Z",
     "iopub.status.idle": "2023-05-13T06:39:47.342937Z",
     "shell.execute_reply": "2023-05-13T06:39:47.341459Z"
    },
    "papermill": {
     "duration": 0.037391,
     "end_time": "2023-05-13T06:39:47.346157",
     "exception": false,
     "start_time": "2023-05-13T06:39:47.308766",
     "status": "completed"
    },
    "tags": []
   },
   "outputs": [
    {
     "data": {
      "text/plain": [
       "(array([0, 1, 2, 3, 4, 5, 6, 7, 8, 9]),\n",
       " array([178, 182, 177, 183, 181, 182, 181, 179, 174, 180], dtype=int64))"
      ]
     },
     "execution_count": 19,
     "metadata": {},
     "output_type": "execute_result"
    }
   ],
   "source": [
    "np.unique(y, return_counts=True)"
   ]
  },
  {
   "cell_type": "code",
   "execution_count": 20,
   "id": "29d9cf6d",
   "metadata": {
    "execution": {
     "iopub.execute_input": "2023-05-13T06:39:47.392105Z",
     "iopub.status.busy": "2023-05-13T06:39:47.391593Z",
     "iopub.status.idle": "2023-05-13T06:39:47.400498Z",
     "shell.execute_reply": "2023-05-13T06:39:47.398867Z"
    },
    "papermill": {
     "duration": 0.035654,
     "end_time": "2023-05-13T06:39:47.403693",
     "exception": false,
     "start_time": "2023-05-13T06:39:47.368039",
     "status": "completed"
    },
    "tags": []
   },
   "outputs": [],
   "source": [
    "from sklearn.model_selection import train_test_split \n",
    "from sklearn.model_selection import cross_val_score\n",
    "from sklearn.preprocessing import MinMaxScaler\n",
    "X_tr, X_t, y_tr, y_t = train_test_split(\n",
    "    X, y, test_size=0.3, random_state=0)"
   ]
  },
  {
   "cell_type": "code",
   "execution_count": 21,
   "id": "4b9e1298",
   "metadata": {
    "execution": {
     "iopub.execute_input": "2023-05-13T06:39:47.449420Z",
     "iopub.status.busy": "2023-05-13T06:39:47.448885Z",
     "iopub.status.idle": "2023-05-13T06:39:47.458861Z",
     "shell.execute_reply": "2023-05-13T06:39:47.457454Z"
    },
    "papermill": {
     "duration": 0.036532,
     "end_time": "2023-05-13T06:39:47.462012",
     "exception": false,
     "start_time": "2023-05-13T06:39:47.425480",
     "status": "completed"
    },
    "tags": []
   },
   "outputs": [],
   "source": [
    "scaling = MinMaxScaler(feature_range=(-1, 1)).fit(X_tr)\n",
    "X_tr = scaling.transform(X_tr)\n",
    "X_t = scaling.transform(X_t)"
   ]
  },
  {
   "cell_type": "code",
   "execution_count": 22,
   "id": "ba94811c",
   "metadata": {
    "execution": {
     "iopub.execute_input": "2023-05-13T06:39:47.508660Z",
     "iopub.status.busy": "2023-05-13T06:39:47.508083Z",
     "iopub.status.idle": "2023-05-13T06:39:47.515325Z",
     "shell.execute_reply": "2023-05-13T06:39:47.513750Z"
    },
    "papermill": {
     "duration": 0.033879,
     "end_time": "2023-05-13T06:39:47.518186",
     "exception": false,
     "start_time": "2023-05-13T06:39:47.484307",
     "status": "completed"
    },
    "tags": []
   },
   "outputs": [],
   "source": [
    "from sklearn.svm import SVC\n",
    "svc = SVC(kernel='linear', \n",
    "          class_weight='balanced')"
   ]
  },
  {
   "cell_type": "code",
   "execution_count": 23,
   "id": "610857f8",
   "metadata": {
    "execution": {
     "iopub.execute_input": "2023-05-13T06:39:47.564613Z",
     "iopub.status.busy": "2023-05-13T06:39:47.563071Z",
     "iopub.status.idle": "2023-05-13T06:39:47.852260Z",
     "shell.execute_reply": "2023-05-13T06:39:47.850771Z"
    },
    "papermill": {
     "duration": 0.316008,
     "end_time": "2023-05-13T06:39:47.855693",
     "exception": false,
     "start_time": "2023-05-13T06:39:47.539685",
     "status": "completed"
    },
    "tags": []
   },
   "outputs": [],
   "source": [
    "cv = cross_val_score(svc, X_tr, y_tr, cv=10)\n",
    "test_score = svc.fit(X_tr, y_tr).score(X_t, y_t)"
   ]
  },
  {
   "cell_type": "code",
   "execution_count": 24,
   "id": "9cfff61b",
   "metadata": {
    "execution": {
     "iopub.execute_input": "2023-05-13T06:39:47.903698Z",
     "iopub.status.busy": "2023-05-13T06:39:47.902354Z",
     "iopub.status.idle": "2023-05-13T06:39:47.911010Z",
     "shell.execute_reply": "2023-05-13T06:39:47.909401Z"
    },
    "papermill": {
     "duration": 0.036962,
     "end_time": "2023-05-13T06:39:47.914262",
     "exception": false,
     "start_time": "2023-05-13T06:39:47.877300",
     "status": "completed"
    },
    "tags": []
   },
   "outputs": [
    {
     "name": "stdout",
     "output_type": "stream",
     "text": [
      "CV accuracy score: 0.981\n",
      "Test accuracy score: 0.976\n"
     ]
    }
   ],
   "source": [
    "print(f'CV accuracy score: {np.mean(cv):.3f}')\n",
    "print(f'Test accuracy score: {test_score:.3f}')"
   ]
  },
  {
   "cell_type": "code",
   "execution_count": 25,
   "id": "e7350ec1",
   "metadata": {
    "execution": {
     "iopub.execute_input": "2023-05-13T06:39:47.962151Z",
     "iopub.status.busy": "2023-05-13T06:39:47.960663Z",
     "iopub.status.idle": "2023-05-13T06:39:54.059566Z",
     "shell.execute_reply": "2023-05-13T06:39:54.057921Z"
    },
    "papermill": {
     "duration": 6.125468,
     "end_time": "2023-05-13T06:39:54.062527",
     "exception": false,
     "start_time": "2023-05-13T06:39:47.937059",
     "status": "completed"
    },
    "tags": []
   },
   "outputs": [
    {
     "data": {
      "text/html": [
       "<style>#sk-container-id-1 {color: black;background-color: white;}#sk-container-id-1 pre{padding: 0;}#sk-container-id-1 div.sk-toggleable {background-color: white;}#sk-container-id-1 label.sk-toggleable__label {cursor: pointer;display: block;width: 100%;margin-bottom: 0;padding: 0.3em;box-sizing: border-box;text-align: center;}#sk-container-id-1 label.sk-toggleable__label-arrow:before {content: \"▸\";float: left;margin-right: 0.25em;color: #696969;}#sk-container-id-1 label.sk-toggleable__label-arrow:hover:before {color: black;}#sk-container-id-1 div.sk-estimator:hover label.sk-toggleable__label-arrow:before {color: black;}#sk-container-id-1 div.sk-toggleable__content {max-height: 0;max-width: 0;overflow: hidden;text-align: left;background-color: #f0f8ff;}#sk-container-id-1 div.sk-toggleable__content pre {margin: 0.2em;color: black;border-radius: 0.25em;background-color: #f0f8ff;}#sk-container-id-1 input.sk-toggleable__control:checked~div.sk-toggleable__content {max-height: 200px;max-width: 100%;overflow: auto;}#sk-container-id-1 input.sk-toggleable__control:checked~label.sk-toggleable__label-arrow:before {content: \"▾\";}#sk-container-id-1 div.sk-estimator input.sk-toggleable__control:checked~label.sk-toggleable__label {background-color: #d4ebff;}#sk-container-id-1 div.sk-label input.sk-toggleable__control:checked~label.sk-toggleable__label {background-color: #d4ebff;}#sk-container-id-1 input.sk-hidden--visually {border: 0;clip: rect(1px 1px 1px 1px);clip: rect(1px, 1px, 1px, 1px);height: 1px;margin: -1px;overflow: hidden;padding: 0;position: absolute;width: 1px;}#sk-container-id-1 div.sk-estimator {font-family: monospace;background-color: #f0f8ff;border: 1px dotted black;border-radius: 0.25em;box-sizing: border-box;margin-bottom: 0.5em;}#sk-container-id-1 div.sk-estimator:hover {background-color: #d4ebff;}#sk-container-id-1 div.sk-parallel-item::after {content: \"\";width: 100%;border-bottom: 1px solid gray;flex-grow: 1;}#sk-container-id-1 div.sk-label:hover label.sk-toggleable__label {background-color: #d4ebff;}#sk-container-id-1 div.sk-serial::before {content: \"\";position: absolute;border-left: 1px solid gray;box-sizing: border-box;top: 0;bottom: 0;left: 50%;z-index: 0;}#sk-container-id-1 div.sk-serial {display: flex;flex-direction: column;align-items: center;background-color: white;padding-right: 0.2em;padding-left: 0.2em;position: relative;}#sk-container-id-1 div.sk-item {position: relative;z-index: 1;}#sk-container-id-1 div.sk-parallel {display: flex;align-items: stretch;justify-content: center;background-color: white;position: relative;}#sk-container-id-1 div.sk-item::before, #sk-container-id-1 div.sk-parallel-item::before {content: \"\";position: absolute;border-left: 1px solid gray;box-sizing: border-box;top: 0;bottom: 0;left: 50%;z-index: -1;}#sk-container-id-1 div.sk-parallel-item {display: flex;flex-direction: column;z-index: 1;position: relative;background-color: white;}#sk-container-id-1 div.sk-parallel-item:first-child::after {align-self: flex-end;width: 50%;}#sk-container-id-1 div.sk-parallel-item:last-child::after {align-self: flex-start;width: 50%;}#sk-container-id-1 div.sk-parallel-item:only-child::after {width: 0;}#sk-container-id-1 div.sk-dashed-wrapped {border: 1px dashed gray;margin: 0 0.4em 0.5em 0.4em;box-sizing: border-box;padding-bottom: 0.4em;background-color: white;}#sk-container-id-1 div.sk-label label {font-family: monospace;font-weight: bold;display: inline-block;line-height: 1.2em;}#sk-container-id-1 div.sk-label-container {text-align: center;}#sk-container-id-1 div.sk-container {/* jupyter's `normalize.less` sets `[hidden] { display: none; }` but bootstrap.min.css set `[hidden] { display: none !important; }` so we also need the `!important` here to be able to override the default hidden behavior on the sphinx rendered scikit-learn.org. See: https://github.com/scikit-learn/scikit-learn/issues/21755 */display: inline-block !important;position: relative;}#sk-container-id-1 div.sk-text-repr-fallback {display: none;}</style><div id=\"sk-container-id-1\" class=\"sk-top-container\"><div class=\"sk-text-repr-fallback\"><pre>GridSearchCV(cv=10, estimator=SVC(class_weight=&#x27;balanced&#x27;, random_state=1),\n",
       "             param_grid={&#x27;C&#x27;: array([1.e-03, 1.e-02, 1.e-01, 1.e+00, 1.e+01, 1.e+02, 1.e+03])},\n",
       "             scoring=&#x27;accuracy&#x27;)</pre><b>In a Jupyter environment, please rerun this cell to show the HTML representation or trust the notebook. <br />On GitHub, the HTML representation is unable to render, please try loading this page with nbviewer.org.</b></div><div class=\"sk-container\" hidden><div class=\"sk-item sk-dashed-wrapped\"><div class=\"sk-label-container\"><div class=\"sk-label sk-toggleable\"><input class=\"sk-toggleable__control sk-hidden--visually\" id=\"sk-estimator-id-1\" type=\"checkbox\" ><label for=\"sk-estimator-id-1\" class=\"sk-toggleable__label sk-toggleable__label-arrow\">GridSearchCV</label><div class=\"sk-toggleable__content\"><pre>GridSearchCV(cv=10, estimator=SVC(class_weight=&#x27;balanced&#x27;, random_state=1),\n",
       "             param_grid={&#x27;C&#x27;: array([1.e-03, 1.e-02, 1.e-01, 1.e+00, 1.e+01, 1.e+02, 1.e+03])},\n",
       "             scoring=&#x27;accuracy&#x27;)</pre></div></div></div><div class=\"sk-parallel\"><div class=\"sk-parallel-item\"><div class=\"sk-item\"><div class=\"sk-label-container\"><div class=\"sk-label sk-toggleable\"><input class=\"sk-toggleable__control sk-hidden--visually\" id=\"sk-estimator-id-2\" type=\"checkbox\" ><label for=\"sk-estimator-id-2\" class=\"sk-toggleable__label sk-toggleable__label-arrow\">estimator: SVC</label><div class=\"sk-toggleable__content\"><pre>SVC(class_weight=&#x27;balanced&#x27;, random_state=1)</pre></div></div></div><div class=\"sk-serial\"><div class=\"sk-item\"><div class=\"sk-estimator sk-toggleable\"><input class=\"sk-toggleable__control sk-hidden--visually\" id=\"sk-estimator-id-3\" type=\"checkbox\" ><label for=\"sk-estimator-id-3\" class=\"sk-toggleable__label sk-toggleable__label-arrow\">SVC</label><div class=\"sk-toggleable__content\"><pre>SVC(class_weight=&#x27;balanced&#x27;, random_state=1)</pre></div></div></div></div></div></div></div></div></div></div>"
      ],
      "text/plain": [
       "GridSearchCV(cv=10, estimator=SVC(class_weight='balanced', random_state=1),\n",
       "             param_grid={'C': array([1.e-03, 1.e-02, 1.e-01, 1.e+00, 1.e+01, 1.e+02, 1.e+03])},\n",
       "             scoring='accuracy')"
      ]
     },
     "execution_count": 25,
     "metadata": {},
     "output_type": "execute_result"
    }
   ],
   "source": [
    "from sklearn.model_selection  import GridSearchCV\n",
    "svc = SVC(class_weight='balanced', random_state=1)\n",
    "search_space = {'C': np.logspace(-3, 3, 7)}\n",
    "gridsearch = GridSearchCV(svc, \n",
    "                          param_grid=search_space, \n",
    "                          scoring='accuracy', \n",
    "                          refit=True, cv=10)\n",
    "gridsearch.fit(X_tr,y_tr)"
   ]
  },
  {
   "cell_type": "code",
   "execution_count": 26,
   "id": "fc72bd3c",
   "metadata": {
    "execution": {
     "iopub.execute_input": "2023-05-13T06:39:54.110450Z",
     "iopub.status.busy": "2023-05-13T06:39:54.109158Z",
     "iopub.status.idle": "2023-05-13T06:39:54.151344Z",
     "shell.execute_reply": "2023-05-13T06:39:54.149486Z"
    },
    "papermill": {
     "duration": 0.069973,
     "end_time": "2023-05-13T06:39:54.154781",
     "exception": false,
     "start_time": "2023-05-13T06:39:54.084808",
     "status": "completed"
    },
    "tags": []
   },
   "outputs": [],
   "source": [
    "cv = gridsearch.best_score_\n",
    "test_score = gridsearch.score(X_t, y_t)\n",
    "best_c =  gridsearch.best_params_['C']"
   ]
  },
  {
   "cell_type": "code",
   "execution_count": 27,
   "id": "1b228863",
   "metadata": {
    "execution": {
     "iopub.execute_input": "2023-05-13T06:39:54.200328Z",
     "iopub.status.busy": "2023-05-13T06:39:54.199771Z",
     "iopub.status.idle": "2023-05-13T06:39:54.207815Z",
     "shell.execute_reply": "2023-05-13T06:39:54.205844Z"
    },
    "papermill": {
     "duration": 0.034252,
     "end_time": "2023-05-13T06:39:54.210809",
     "exception": false,
     "start_time": "2023-05-13T06:39:54.176557",
     "status": "completed"
    },
    "tags": []
   },
   "outputs": [
    {
     "name": "stdout",
     "output_type": "stream",
     "text": [
      "CV accuracy score: 0.990\n",
      "Test accuracy score: 0.993\n",
      "Best C parameter: 10.0\n"
     ]
    }
   ],
   "source": [
    "print(f'CV accuracy score: {cv:.3f}')\n",
    "print(f'Test accuracy score: {test_score:.3f}')\n",
    "print(f'Best C parameter: {best_c:.1f}')"
   ]
  },
  {
   "cell_type": "markdown",
   "id": "8375e186",
   "metadata": {
    "papermill": {
     "duration": 0.022244,
     "end_time": "2023-05-13T06:39:54.254770",
     "exception": false,
     "start_time": "2023-05-13T06:39:54.232526",
     "status": "completed"
    },
    "tags": []
   },
   "source": [
    "## Going nonlinear is easy"
   ]
  },
  {
   "cell_type": "code",
   "execution_count": 28,
   "id": "b991f660",
   "metadata": {
    "execution": {
     "iopub.execute_input": "2023-05-13T06:39:54.300118Z",
     "iopub.status.busy": "2023-05-13T06:39:54.299575Z",
     "iopub.status.idle": "2023-05-13T06:41:21.941277Z",
     "shell.execute_reply": "2023-05-13T06:41:21.939557Z"
    },
    "papermill": {
     "duration": 87.690978,
     "end_time": "2023-05-13T06:41:21.966796",
     "exception": false,
     "start_time": "2023-05-13T06:39:54.275818",
     "status": "completed"
    },
    "tags": []
   },
   "outputs": [
    {
     "name": "stdout",
     "output_type": "stream",
     "text": [
      "CV accuracy score: 0.990\n",
      "Test accuracy score: 0.993\n",
      "Best parameters: {'C': 1.0, 'degree': 2, 'gamma': 0.1, 'kernel': 'rbf'}\n"
     ]
    }
   ],
   "source": [
    "from sklearn.model_selection import GridSearchCV\n",
    "svc = SVC(class_weight='balanced', random_state=1)\n",
    "search_space = [{'kernel': ['linear'], \n",
    "                 'C': np.logspace(-3, 3, 7)},\n",
    "                {'kernel': ['rbf'], \n",
    "                 'degree':[2, 3, 4], \n",
    "                 'C':np.logspace(-3, 3, 7), \n",
    "                 'gamma': np.logspace(-3, 2, 6)}]\n",
    "gridsearch = GridSearchCV(svc, \n",
    "                          param_grid=search_space, \n",
    "                          scoring='accuracy', \n",
    "                          refit=True, cv=10,\n",
    "                          n_jobs=-1)\n",
    "gridsearch.fit(X_tr, y_tr)\n",
    "cv = gridsearch.best_score_\n",
    "test_score = gridsearch.score(X_t, y_t)\n",
    "print(f'CV accuracy score: {cv:0.3f}')\n",
    "print(f'Test accuracy score: {test_score:0.3f}')\n",
    "print(f'Best parameters: {gridsearch.best_params_}')"
   ]
  },
  {
   "cell_type": "markdown",
   "id": "f1f77cc9",
   "metadata": {
    "papermill": {
     "duration": 0.021889,
     "end_time": "2023-05-13T06:41:22.010659",
     "exception": false,
     "start_time": "2023-05-13T06:41:21.988770",
     "status": "completed"
    },
    "tags": []
   },
   "source": [
    "## Performing regression with SVR"
   ]
  },
  {
   "cell_type": "code",
   "execution_count": 29,
   "id": "f1d9bb64",
   "metadata": {
    "execution": {
     "iopub.execute_input": "2023-05-13T06:41:22.058381Z",
     "iopub.status.busy": "2023-05-13T06:41:22.057859Z",
     "iopub.status.idle": "2023-05-13T06:41:22.072255Z",
     "shell.execute_reply": "2023-05-13T06:41:22.070878Z"
    },
    "papermill": {
     "duration": 0.042139,
     "end_time": "2023-05-13T06:41:22.075588",
     "exception": false,
     "start_time": "2023-05-13T06:41:22.033449",
     "status": "completed"
    },
    "tags": []
   },
   "outputs": [],
   "source": [
    "from sklearn.model_selection import train_test_split\n",
    "from sklearn.model_selection import cross_val_score\n",
    "from sklearn.model_selection import GridSearchCV\n",
    "from sklearn.preprocessing import MinMaxScaler\n",
    "from sklearn.svm import SVR\n",
    "from sklearn.datasets import make_regression\n",
    "\n",
    "X, y = make_regression(n_samples=500, \n",
    "                       n_features=15, \n",
    "                       n_informative=3, \n",
    "                       noise=10,\n",
    "                       random_state=101)\n",
    "\n",
    "X_tr, X_t, y_tr, y_t = train_test_split(X, y, \n",
    "                                        test_size=0.3, \n",
    "                                        random_state=0)\n",
    "scaling = MinMaxScaler(feature_range=(-1, 1)).fit(X_tr)\n",
    "X_tr = scaling.transform(X_tr)\n",
    "X_t  = scaling.transform(X_t)"
   ]
  },
  {
   "cell_type": "code",
   "execution_count": 30,
   "id": "0d6ef5f0",
   "metadata": {
    "execution": {
     "iopub.execute_input": "2023-05-13T06:41:22.123880Z",
     "iopub.status.busy": "2023-05-13T06:41:22.122624Z",
     "iopub.status.idle": "2023-05-13T06:41:56.536897Z",
     "shell.execute_reply": "2023-05-13T06:41:56.535183Z"
    },
    "papermill": {
     "duration": 34.462687,
     "end_time": "2023-05-13T06:41:56.561070",
     "exception": false,
     "start_time": "2023-05-13T06:41:22.098383",
     "status": "completed"
    },
    "tags": []
   },
   "outputs": [
    {
     "name": "stdout",
     "output_type": "stream",
     "text": [
      "CV R2 score: 0.990\n",
      "Test R2 score: 0.992\n",
      "Best parameters: {'C': 100.0, 'epsilon': 0.5, 'kernel': 'linear'}\n"
     ]
    }
   ],
   "source": [
    "svr = SVR()\n",
    "search_space = [{'kernel': ['linear'], \n",
    "                 'C': np.logspace(-3, 2, 6), \n",
    "                 'epsilon': [0, 0.01, 0.1, 0.5, 1, 2, 4]},\n",
    "                {'kernel': ['rbf'], \n",
    "                 'degree':[2,3], \n",
    "                 'C':np.logspace(-3, 3, 7), \n",
    "                 'gamma': np.logspace(-3, 2, 6), \n",
    "                 'epsilon': [0, 0.01, 0.1, 0.5, 1, 2, 4]}]\n",
    "gridsearch = GridSearchCV(svr, \n",
    "                          param_grid=search_space, \n",
    "                          refit=True, \n",
    "                          scoring= 'r2',\n",
    "                          cv=10, n_jobs=-1)\n",
    "gridsearch.fit(X_tr, y_tr)\n",
    "cv = gridsearch.best_score_\n",
    "test_score = gridsearch.score(X_t, y_t)\n",
    "print(f'CV R2 score: {cv:.3f}')\n",
    "print(f'Test R2 score: {test_score:.3f}')\n",
    "print(f'Best parameters: {gridsearch.best_params_}')"
   ]
  },
  {
   "cell_type": "markdown",
   "id": "86386928",
   "metadata": {
    "papermill": {
     "duration": 0.021764,
     "end_time": "2023-05-13T06:41:56.606256",
     "exception": false,
     "start_time": "2023-05-13T06:41:56.584492",
     "status": "completed"
    },
    "tags": []
   },
   "source": [
    "## Creating a stochastic solution with SVM"
   ]
  },
  {
   "cell_type": "code",
   "execution_count": 31,
   "id": "dc4573d5",
   "metadata": {
    "execution": {
     "iopub.execute_input": "2023-05-13T06:41:56.653089Z",
     "iopub.status.busy": "2023-05-13T06:41:56.652588Z",
     "iopub.status.idle": "2023-05-13T06:41:56.707390Z",
     "shell.execute_reply": "2023-05-13T06:41:56.705410Z"
    },
    "papermill": {
     "duration": 0.082299,
     "end_time": "2023-05-13T06:41:56.710907",
     "exception": false,
     "start_time": "2023-05-13T06:41:56.628608",
     "status": "completed"
    },
    "tags": []
   },
   "outputs": [
    {
     "name": "stdout",
     "output_type": "stream",
     "text": [
      "SVC test accuracy: 0.787\n",
      "LinearSVC test accuracy: 0.787\n"
     ]
    }
   ],
   "source": [
    "from sklearn.datasets import make_classification\n",
    "from sklearn.model_selection import train_test_split\n",
    "\n",
    "X,y = make_classification(n_samples=500, \n",
    "                          n_features=15, \n",
    "                          n_informative=5, \n",
    "                          random_state=101)\n",
    "X_tr, X_t, y_tr, y_t = train_test_split(X, y, \n",
    "                                        test_size=0.3, \n",
    "                                        random_state=1)\n",
    "\n",
    "from sklearn.svm import SVC, LinearSVC\n",
    "svc = SVC(kernel='linear', random_state=0)\n",
    "linear = LinearSVC(loss='hinge', max_iter=100_000, random_state=0)\n",
    "\n",
    "svc.fit(X_tr, y_tr)\n",
    "linear.fit(X_tr, y_tr)\n",
    "svc_score = svc.score(X_t, y_t)\n",
    "libsvc_score = linear.score(X_t, y_t)\n",
    "print(f'SVC test accuracy: {svc_score:.3f}')\n",
    "print(f'LinearSVC test accuracy: {libsvc_score:.3f}')"
   ]
  },
  {
   "cell_type": "code",
   "execution_count": 33,
   "id": "08d2b4b9",
   "metadata": {
    "execution": {
     "iopub.execute_input": "2023-05-13T06:41:56.759241Z",
     "iopub.status.busy": "2023-05-13T06:41:56.758697Z",
     "iopub.status.idle": "2023-05-13T06:41:57.036549Z",
     "shell.execute_reply": "2023-05-13T06:41:57.034279Z"
    },
    "papermill": {
     "duration": 0.306481,
     "end_time": "2023-05-13T06:41:57.040112",
     "exception": false,
     "start_time": "2023-05-13T06:41:56.733631",
     "status": "completed"
    },
    "tags": []
   },
   "outputs": [
    {
     "name": "stdout",
     "output_type": "stream",
     "text": [
      "best avg secs for SVC: 0.2\n",
      "best avg secs for LinearSVC: 0.1\n"
     ]
    }
   ],
   "source": [
    "import timeit\n",
    "import numpy as np\n",
    "\n",
    "X,y = make_classification(n_samples=10**3, \n",
    "                          n_features=15, \n",
    "                          n_informative=5, \n",
    "                          random_state=101)\n",
    "t_svc = timeit.timeit(\n",
    "    'svc.fit(X, y)',\n",
    "    'from __main__ import svc, X, y',\n",
    "    number=3)\n",
    "t_libsvc = timeit.timeit(\n",
    "    'linear.fit(X, y)',\n",
    "    'from __main__ import linear, X, y',\n",
    "    number=3)\n",
    "print(f'best avg secs for SVC: {np.mean(t_svc):0.1f}')\n",
    "print(f'best avg secs for LinearSVC: '\n",
    "      f'{np.mean(t_libsvc):0.1f}')"
   ]
  },
  {
   "cell_type": "code",
   "execution_count": 34,
   "id": "b3daee55",
   "metadata": {
    "execution": {
     "iopub.execute_input": "2023-05-13T06:41:57.097865Z",
     "iopub.status.busy": "2023-05-13T06:41:57.096364Z",
     "iopub.status.idle": "2023-05-13T06:41:58.998984Z",
     "shell.execute_reply": "2023-05-13T06:41:58.997025Z"
    },
    "papermill": {
     "duration": 1.931559,
     "end_time": "2023-05-13T06:41:59.002109",
     "exception": false,
     "start_time": "2023-05-13T06:41:57.070550",
     "status": "completed"
    },
    "tags": []
   },
   "outputs": [
    {
     "name": "stdout",
     "output_type": "stream",
     "text": [
      "Avg time for SVC: 1.5 secs\n",
      "Avg time for LinearSVC: 0.1 secs\n"
     ]
    }
   ],
   "source": [
    "X,y = make_classification(n_samples=3*10**3, \n",
    "                          n_features=15, \n",
    "                          n_informative=5, \n",
    "                          random_state=101)\n",
    "t_svc = timeit.timeit('svc.fit(X, y)',\n",
    "                      'from __main__ import svc, X, y', \n",
    "                      number=3)\n",
    "t_linear = timeit.timeit('linear.fit(X, y)',\n",
    "                         'from __main__ import linear, X, y', \n",
    "                         number=3)\n",
    "print(f'Avg time for SVC: {np.mean(t_svc):0.1f} secs')\n",
    "print(f'Avg time for LinearSVC: {np.mean(t_linear):0.1f} secs')"
   ]
  },
  {
   "cell_type": "code",
   "execution_count": 36,
   "id": "0b1fc345",
   "metadata": {
    "execution": {
     "iopub.execute_input": "2023-05-13T06:41:59.050744Z",
     "iopub.status.busy": "2023-05-13T06:41:59.049265Z",
     "iopub.status.idle": "2023-05-13T07:01:32.798753Z",
     "shell.execute_reply": "2023-05-13T07:01:32.797002Z"
    },
    "papermill": {
     "duration": 1173.79928,
     "end_time": "2023-05-13T07:01:32.824258",
     "exception": false,
     "start_time": "2023-05-13T06:41:59.024978",
     "status": "completed"
    },
    "tags": []
   },
   "outputs": [
    {
     "name": "stdout",
     "output_type": "stream",
     "text": [
      "Avg time for SVC: 901.6 secs\n",
      "Avg time for LinearSVC: 4.2 secs\n"
     ]
    }
   ],
   "source": [
    "X,y = make_classification(n_samples=5*10**4, \n",
    "                          n_features=15, \n",
    "                          n_informative=5, \n",
    "                          random_state=101)\n",
    "t_svc = timeit.timeit('svc.fit(X, y)',\n",
    "                      'from __main__ import svc, X, y', \n",
    "                      number=3)\n",
    "t_linear = timeit.timeit('linear.fit(X, y)',\n",
    "                         'from __main__ import linear, X, y', \n",
    "                         number=3)\n",
    "print(f'Avg time for SVC: {np.mean(t_svc):.1f} secs')\n",
    "print(f'Avg time for LinearSVC: {np.mean(t_linear):.1f} secs')"
   ]
  },
  {
   "cell_type": "code",
   "execution_count": 37,
   "id": "64221a37",
   "metadata": {
    "execution": {
     "iopub.execute_input": "2023-05-13T07:01:32.870053Z",
     "iopub.status.busy": "2023-05-13T07:01:32.869527Z",
     "iopub.status.idle": "2023-05-13T07:01:33.106422Z",
     "shell.execute_reply": "2023-05-13T07:01:33.104899Z"
    },
    "papermill": {
     "duration": 0.264209,
     "end_time": "2023-05-13T07:01:33.109933",
     "exception": false,
     "start_time": "2023-05-13T07:01:32.845724",
     "status": "completed"
    },
    "tags": []
   },
   "outputs": [],
   "source": [
    "from sklearn.datasets import make_classification\n",
    "from sklearn.model_selection import train_test_split\n",
    "from sklearn.model_selection import cross_val_score\n",
    "from sklearn.svm import LinearSVC\n",
    "import timeit\n",
    "\n",
    "from sklearn.linear_model import SGDClassifier\n",
    "X, y = make_classification(n_samples=10**5, \n",
    "                           n_features=15, \n",
    "                           n_informative=10, \n",
    "                           random_state=101)\n",
    "X_tr, X_t, y_tr, y_t = train_test_split(X, y,\n",
    "                                        test_size=0.3, \n",
    "                                        random_state=1)"
   ]
  },
  {
   "cell_type": "code",
   "execution_count": 38,
   "id": "7bf024ca",
   "metadata": {
    "execution": {
     "iopub.execute_input": "2023-05-13T07:01:33.157795Z",
     "iopub.status.busy": "2023-05-13T07:01:33.157233Z",
     "iopub.status.idle": "2023-05-13T07:01:49.434511Z",
     "shell.execute_reply": "2023-05-13T07:01:49.433035Z"
    },
    "papermill": {
     "duration": 16.304159,
     "end_time": "2023-05-13T07:01:49.437737",
     "exception": false,
     "start_time": "2023-05-13T07:01:33.133578",
     "status": "completed"
    },
    "tags": []
   },
   "outputs": [
    {
     "name": "stdout",
     "output_type": "stream",
     "text": [
      "LinearSVC test accuracy: 0.796\n",
      "Avg time for LinearSVC: 3.6 secs\n"
     ]
    }
   ],
   "source": [
    "linear = LinearSVC(penalty='l2', \n",
    "                   loss='hinge', \n",
    "                   dual=True,\n",
    "                   random_state=101)\n",
    "linear.fit(X_tr, y_tr)\n",
    "score = linear.score(X_t, y_t)\n",
    "t = timeit.timeit(\"linear.fit(X_tr, y_tr)\", \n",
    "        \"from __main__ import linear, X_tr, y_tr\", \n",
    "        number=1)\n",
    "print(f'LinearSVC test accuracy: {score:.3f}')\n",
    "print(f'Avg time for LinearSVC: {np.mean(t):.1f} secs')"
   ]
  },
  {
   "cell_type": "code",
   "execution_count": 39,
   "id": "10efb000",
   "metadata": {
    "execution": {
     "iopub.execute_input": "2023-05-13T07:01:49.484657Z",
     "iopub.status.busy": "2023-05-13T07:01:49.484134Z",
     "iopub.status.idle": "2023-05-13T07:01:49.785020Z",
     "shell.execute_reply": "2023-05-13T07:01:49.783132Z"
    },
    "papermill": {
     "duration": 0.328525,
     "end_time": "2023-05-13T07:01:49.788487",
     "exception": false,
     "start_time": "2023-05-13T07:01:49.459962",
     "status": "completed"
    },
    "tags": []
   },
   "outputs": [
    {
     "name": "stdout",
     "output_type": "stream",
     "text": [
      "SGDClassifier test accuracy: 0.796\n",
      "Avg time for SGDClassifier: 0.1 secs\n"
     ]
    }
   ],
   "source": [
    "sgd = SGDClassifier(loss='hinge',\n",
    "                    penalty='l2',\n",
    "                    alpha=0.1,\n",
    "                    max_iter=1000, \n",
    "                    shuffle=True, \n",
    "                    random_state=101)\n",
    "sgd.fit(X_tr, y_tr)\n",
    "score = sgd.score(X_t, y_t)\n",
    "t = timeit.timeit(\"sgd.fit(X_tr, y_tr)\", \n",
    "                  \"from __main__ import sgd, X_tr, y_tr\", \n",
    "                  number=1)\n",
    "print(f'SGDClassifier test accuracy: {score:.3f}')\n",
    "print(f'Avg time for SGDClassifier: {np.mean(t):.1f} secs')"
   ]
  },
  {
   "cell_type": "markdown",
   "id": "2c847a0c",
   "metadata": {
    "papermill": {
     "duration": 0.022692,
     "end_time": "2023-05-13T07:01:49.833812",
     "exception": false,
     "start_time": "2023-05-13T07:01:49.811120",
     "status": "completed"
    },
    "tags": []
   },
   "source": [
    "# Playing with Neural Networks"
   ]
  },
  {
   "cell_type": "code",
   "execution_count": 1,
   "id": "1b02acfd",
   "metadata": {
    "execution": {
     "iopub.execute_input": "2023-05-13T07:01:49.883478Z",
     "iopub.status.busy": "2023-05-13T07:01:49.883010Z",
     "iopub.status.idle": "2023-05-13T07:02:00.039112Z",
     "shell.execute_reply": "2023-05-13T07:02:00.037255Z"
    },
    "papermill": {
     "duration": 10.186169,
     "end_time": "2023-05-13T07:02:00.042947",
     "exception": false,
     "start_time": "2023-05-13T07:01:49.856778",
     "status": "completed"
    },
    "tags": []
   },
   "outputs": [],
   "source": [
    "import numpy as np\n",
    "from sklearn.model_selection import train_test_split \n",
    "from sklearn.preprocessing import MinMaxScaler\n",
    "from sklearn.datasets import load_digits\n",
    "from keras.models import Sequential\n",
    "from keras.layers import Dense, Dropout\n",
    "from sklearn.preprocessing import MinMaxScaler\n",
    "from sklearn.model_selection import train_test_split\n",
    "from sklearn.datasets import load_digits\n",
    "\n",
    "X, y = load_digits(return_X_y=True)\n",
    "X_train, X_test, y_train, y_test = train_test_split(X, y, test_size=0.2, random_state=0)"
   ]
  },
  {
   "cell_type": "code",
   "execution_count": 2,
   "id": "a3874ded",
   "metadata": {
    "execution": {
     "iopub.execute_input": "2023-05-13T07:02:00.093792Z",
     "iopub.status.busy": "2023-05-13T07:02:00.092036Z",
     "iopub.status.idle": "2023-05-13T07:02:00.103281Z",
     "shell.execute_reply": "2023-05-13T07:02:00.101623Z"
    },
    "papermill": {
     "duration": 0.041233,
     "end_time": "2023-05-13T07:02:00.107120",
     "exception": false,
     "start_time": "2023-05-13T07:02:00.065887",
     "status": "completed"
    },
    "tags": []
   },
   "outputs": [],
   "source": [
    "scaler = MinMaxScaler(feature_range=(-1, 1))\n",
    "X_train = scaler.fit_transform(X_train)\n",
    "X_test = scaler.transform(X_test)"
   ]
  },
  {
   "cell_type": "code",
   "execution_count": 3,
   "id": "a4ea2999",
   "metadata": {
    "execution": {
     "iopub.execute_input": "2023-05-13T07:02:00.156427Z",
     "iopub.status.busy": "2023-05-13T07:02:00.155185Z",
     "iopub.status.idle": "2023-05-13T07:02:00.162877Z",
     "shell.execute_reply": "2023-05-13T07:02:00.161586Z"
    },
    "papermill": {
     "duration": 0.036149,
     "end_time": "2023-05-13T07:02:00.166261",
     "exception": false,
     "start_time": "2023-05-13T07:02:00.130112",
     "status": "completed"
    },
    "tags": []
   },
   "outputs": [],
   "source": [
    "num_classes = 10\n",
    "y_train = np.eye(num_classes)[y_train]\n",
    "y_test = np.eye(num_classes)[y_test]"
   ]
  },
  {
   "cell_type": "code",
   "execution_count": 4,
   "id": "8c5990f2",
   "metadata": {
    "execution": {
     "iopub.execute_input": "2023-05-13T07:02:00.215987Z",
     "iopub.status.busy": "2023-05-13T07:02:00.215125Z",
     "iopub.status.idle": "2023-05-13T07:02:11.025583Z",
     "shell.execute_reply": "2023-05-13T07:02:11.023899Z"
    },
    "papermill": {
     "duration": 10.840258,
     "end_time": "2023-05-13T07:02:11.029351",
     "exception": false,
     "start_time": "2023-05-13T07:02:00.189093",
     "status": "completed"
    },
    "tags": []
   },
   "outputs": [
    {
     "name": "stdout",
     "output_type": "stream",
     "text": [
      "Epoch 1/50\n",
      "45/45 [==============================] - 3s 10ms/step - loss: 2.0582 - accuracy: 0.2770 - val_loss: 1.5657 - val_accuracy: 0.6139\n",
      "Epoch 2/50\n",
      "45/45 [==============================] - 0s 5ms/step - loss: 1.3471 - accuracy: 0.5706 - val_loss: 0.8581 - val_accuracy: 0.8389\n",
      "Epoch 3/50\n",
      "45/45 [==============================] - 0s 6ms/step - loss: 0.9317 - accuracy: 0.6924 - val_loss: 0.5482 - val_accuracy: 0.8972\n",
      "Epoch 4/50\n",
      "45/45 [==============================] - 0s 6ms/step - loss: 0.6953 - accuracy: 0.7704 - val_loss: 0.4121 - val_accuracy: 0.9111\n",
      "Epoch 5/50\n",
      "45/45 [==============================] - 0s 7ms/step - loss: 0.5457 - accuracy: 0.8114 - val_loss: 0.3224 - val_accuracy: 0.9361\n",
      "Epoch 6/50\n",
      "45/45 [==============================] - 0s 7ms/step - loss: 0.4699 - accuracy: 0.8448 - val_loss: 0.2698 - val_accuracy: 0.9333\n",
      "Epoch 7/50\n",
      "45/45 [==============================] - 0s 7ms/step - loss: 0.4037 - accuracy: 0.8789 - val_loss: 0.2392 - val_accuracy: 0.9389\n",
      "Epoch 8/50\n",
      "45/45 [==============================] - 0s 7ms/step - loss: 0.3400 - accuracy: 0.8894 - val_loss: 0.2044 - val_accuracy: 0.9472\n",
      "Epoch 9/50\n",
      "45/45 [==============================] - 0s 7ms/step - loss: 0.3135 - accuracy: 0.9054 - val_loss: 0.2038 - val_accuracy: 0.9333\n",
      "Epoch 10/50\n",
      "45/45 [==============================] - 0s 7ms/step - loss: 0.2849 - accuracy: 0.9137 - val_loss: 0.1861 - val_accuracy: 0.9333\n",
      "Epoch 11/50\n",
      "45/45 [==============================] - 0s 7ms/step - loss: 0.2659 - accuracy: 0.9207 - val_loss: 0.1728 - val_accuracy: 0.9500\n",
      "Epoch 12/50\n",
      "45/45 [==============================] - 0s 7ms/step - loss: 0.2327 - accuracy: 0.9241 - val_loss: 0.1559 - val_accuracy: 0.9472\n",
      "Epoch 13/50\n",
      "45/45 [==============================] - 0s 6ms/step - loss: 0.2087 - accuracy: 0.9402 - val_loss: 0.1401 - val_accuracy: 0.9667\n",
      "Epoch 14/50\n",
      "45/45 [==============================] - 0s 9ms/step - loss: 0.2091 - accuracy: 0.9332 - val_loss: 0.1363 - val_accuracy: 0.9611\n",
      "Epoch 15/50\n",
      "45/45 [==============================] - 0s 7ms/step - loss: 0.1956 - accuracy: 0.9395 - val_loss: 0.1309 - val_accuracy: 0.9694\n",
      "Epoch 16/50\n",
      "45/45 [==============================] - 0s 6ms/step - loss: 0.1697 - accuracy: 0.9443 - val_loss: 0.1214 - val_accuracy: 0.9667\n",
      "Epoch 17/50\n",
      "45/45 [==============================] - 0s 6ms/step - loss: 0.1686 - accuracy: 0.9457 - val_loss: 0.1161 - val_accuracy: 0.9722\n",
      "Epoch 18/50\n",
      "45/45 [==============================] - 0s 6ms/step - loss: 0.1614 - accuracy: 0.9478 - val_loss: 0.1127 - val_accuracy: 0.9750\n",
      "Epoch 19/50\n",
      "45/45 [==============================] - 0s 6ms/step - loss: 0.1452 - accuracy: 0.9541 - val_loss: 0.1225 - val_accuracy: 0.9722\n",
      "Epoch 20/50\n",
      "45/45 [==============================] - 0s 6ms/step - loss: 0.1367 - accuracy: 0.9576 - val_loss: 0.1215 - val_accuracy: 0.9639\n",
      "Epoch 21/50\n",
      "45/45 [==============================] - 0s 6ms/step - loss: 0.1287 - accuracy: 0.9589 - val_loss: 0.1152 - val_accuracy: 0.9694\n",
      "Epoch 22/50\n",
      "45/45 [==============================] - 0s 6ms/step - loss: 0.1349 - accuracy: 0.9555 - val_loss: 0.1128 - val_accuracy: 0.9694\n",
      "Epoch 23/50\n",
      "45/45 [==============================] - 0s 7ms/step - loss: 0.1200 - accuracy: 0.9652 - val_loss: 0.1106 - val_accuracy: 0.9694\n",
      "Epoch 24/50\n",
      "45/45 [==============================] - 0s 6ms/step - loss: 0.1104 - accuracy: 0.9673 - val_loss: 0.1087 - val_accuracy: 0.9722\n",
      "Epoch 25/50\n",
      "45/45 [==============================] - 0s 6ms/step - loss: 0.1160 - accuracy: 0.9645 - val_loss: 0.1047 - val_accuracy: 0.9667\n",
      "Epoch 26/50\n",
      "45/45 [==============================] - 0s 6ms/step - loss: 0.1051 - accuracy: 0.9694 - val_loss: 0.1216 - val_accuracy: 0.9611\n",
      "Epoch 27/50\n",
      "45/45 [==============================] - 0s 7ms/step - loss: 0.0976 - accuracy: 0.9701 - val_loss: 0.1057 - val_accuracy: 0.9750\n",
      "Epoch 28/50\n",
      "45/45 [==============================] - 0s 6ms/step - loss: 0.1024 - accuracy: 0.9652 - val_loss: 0.1052 - val_accuracy: 0.9694\n",
      "Epoch 29/50\n",
      "45/45 [==============================] - 0s 6ms/step - loss: 0.0959 - accuracy: 0.9687 - val_loss: 0.1162 - val_accuracy: 0.9667\n",
      "Epoch 30/50\n",
      "45/45 [==============================] - 0s 7ms/step - loss: 0.0973 - accuracy: 0.9722 - val_loss: 0.1024 - val_accuracy: 0.9722\n",
      "Epoch 31/50\n",
      "45/45 [==============================] - 0s 8ms/step - loss: 0.0821 - accuracy: 0.9743 - val_loss: 0.1078 - val_accuracy: 0.9667\n",
      "Epoch 32/50\n",
      "45/45 [==============================] - 0s 6ms/step - loss: 0.0954 - accuracy: 0.9673 - val_loss: 0.1018 - val_accuracy: 0.9722\n",
      "Epoch 33/50\n",
      "45/45 [==============================] - 0s 6ms/step - loss: 0.0878 - accuracy: 0.9659 - val_loss: 0.1063 - val_accuracy: 0.9722\n",
      "Epoch 34/50\n",
      "45/45 [==============================] - 0s 7ms/step - loss: 0.0659 - accuracy: 0.9826 - val_loss: 0.1133 - val_accuracy: 0.9667\n",
      "Epoch 35/50\n",
      "45/45 [==============================] - 0s 7ms/step - loss: 0.0773 - accuracy: 0.9756 - val_loss: 0.1076 - val_accuracy: 0.9722\n",
      "Epoch 36/50\n",
      "45/45 [==============================] - 0s 7ms/step - loss: 0.0680 - accuracy: 0.9791 - val_loss: 0.0993 - val_accuracy: 0.9694\n",
      "Epoch 37/50\n",
      "45/45 [==============================] - 0s 6ms/step - loss: 0.0734 - accuracy: 0.9763 - val_loss: 0.1060 - val_accuracy: 0.9694\n",
      "Epoch 38/50\n",
      "45/45 [==============================] - 0s 6ms/step - loss: 0.0651 - accuracy: 0.9812 - val_loss: 0.1006 - val_accuracy: 0.9778\n",
      "Epoch 39/50\n",
      "45/45 [==============================] - 0s 6ms/step - loss: 0.0578 - accuracy: 0.9833 - val_loss: 0.1084 - val_accuracy: 0.9667\n",
      "Epoch 40/50\n",
      "45/45 [==============================] - 0s 6ms/step - loss: 0.0734 - accuracy: 0.9763 - val_loss: 0.1011 - val_accuracy: 0.9722\n",
      "Epoch 41/50\n",
      "45/45 [==============================] - 0s 6ms/step - loss: 0.0706 - accuracy: 0.9784 - val_loss: 0.1116 - val_accuracy: 0.9667\n",
      "Epoch 42/50\n",
      "45/45 [==============================] - 0s 8ms/step - loss: 0.0512 - accuracy: 0.9875 - val_loss: 0.1079 - val_accuracy: 0.9722\n",
      "Epoch 43/50\n",
      "45/45 [==============================] - 0s 8ms/step - loss: 0.0694 - accuracy: 0.9798 - val_loss: 0.1097 - val_accuracy: 0.9694\n",
      "Epoch 44/50\n",
      "45/45 [==============================] - 0s 7ms/step - loss: 0.0641 - accuracy: 0.9784 - val_loss: 0.1080 - val_accuracy: 0.9750\n",
      "Epoch 45/50\n",
      "45/45 [==============================] - 0s 8ms/step - loss: 0.0652 - accuracy: 0.9798 - val_loss: 0.1066 - val_accuracy: 0.9694\n",
      "Epoch 46/50\n",
      "45/45 [==============================] - 0s 6ms/step - loss: 0.0508 - accuracy: 0.9861 - val_loss: 0.1081 - val_accuracy: 0.9722\n",
      "Epoch 47/50\n",
      "45/45 [==============================] - 0s 6ms/step - loss: 0.0563 - accuracy: 0.9798 - val_loss: 0.1071 - val_accuracy: 0.9750\n",
      "Epoch 48/50\n",
      "45/45 [==============================] - 0s 7ms/step - loss: 0.0554 - accuracy: 0.9833 - val_loss: 0.1115 - val_accuracy: 0.9750\n",
      "Epoch 49/50\n",
      "45/45 [==============================] - 0s 6ms/step - loss: 0.0528 - accuracy: 0.9840 - val_loss: 0.0996 - val_accuracy: 0.9778\n",
      "Epoch 50/50\n",
      "45/45 [==============================] - 0s 6ms/step - loss: 0.0532 - accuracy: 0.9861 - val_loss: 0.1084 - val_accuracy: 0.9750\n"
     ]
    }
   ],
   "source": [
    "model = Sequential()\n",
    "model.add(Dense(64, activation='relu', input_shape=(64,)))\n",
    "model.add(Dropout(0.2))\n",
    "model.add(Dense(32, activation='relu'))\n",
    "model.add(Dropout(0.2))\n",
    "model.add(Dense(num_classes, activation='softmax'))\n",
    "\n",
    "model.compile(loss='categorical_crossentropy', optimizer='adam', metrics=['accuracy'])\n",
    "history = model.fit(X_train, y_train, epochs=50, batch_size=32, validation_data=(X_test, y_test))"
   ]
  },
  {
   "cell_type": "code",
   "execution_count": 5,
   "id": "6651a5f2",
   "metadata": {
    "execution": {
     "iopub.execute_input": "2023-05-13T07:02:11.127103Z",
     "iopub.status.busy": "2023-05-13T07:02:11.125257Z",
     "iopub.status.idle": "2023-05-13T07:02:11.241256Z",
     "shell.execute_reply": "2023-05-13T07:02:11.239368Z"
    },
    "papermill": {
     "duration": 0.164625,
     "end_time": "2023-05-13T07:02:11.244579",
     "exception": false,
     "start_time": "2023-05-13T07:02:11.079954",
     "status": "completed"
    },
    "tags": []
   },
   "outputs": [
    {
     "name": "stdout",
     "output_type": "stream",
     "text": [
      "12/12 [==============================] - 0s 5ms/step - loss: 0.1084 - accuracy: 0.9750\n",
      "Test accuracy score: 0.9750000238418579\n"
     ]
    }
   ],
   "source": [
    "loss, accuracy = model.evaluate(X_test, y_test)\n",
    "print('Test accuracy score:', accuracy)"
   ]
  },
  {
   "cell_type": "code",
   "execution_count": 7,
   "id": "ee7e5cf8",
   "metadata": {
    "execution": {
     "iopub.execute_input": "2023-05-13T07:02:11.334875Z",
     "iopub.status.busy": "2023-05-13T07:02:11.334445Z",
     "iopub.status.idle": "2023-05-13T07:02:11.653328Z",
     "shell.execute_reply": "2023-05-13T07:02:11.651754Z"
    },
    "papermill": {
     "duration": 0.367763,
     "end_time": "2023-05-13T07:02:11.656841",
     "exception": false,
     "start_time": "2023-05-13T07:02:11.289078",
     "status": "completed"
    },
    "tags": []
   },
   "outputs": [
    {
     "data": {
      "image/png": "[encoded data removed]",
      "text/plain": [
       "<Figure size 640x480 with 1 Axes>"
      ]
     },
     "metadata": {},
     "output_type": "display_data"
    }
   ],
   "source": [
    "import matplotlib.pyplot as plt\n",
    "\n",
    "train_loss = history.history['loss']\n",
    "val_loss = history.history['val_loss']\n",
    "\n",
    "# Plot the training and validation loss over epochs\n",
    "epochs = range(5, len(train_loss) + 1)\n",
    "plt.plot(epochs, train_loss[4:], 'b', \n",
    "         label='Training loss')\n",
    "plt.plot(epochs, val_loss[4:], 'r', \n",
    "         label='Validation loss')\n",
    "plt.axvline(x=val_loss.index(min(val_loss)), \n",
    "            color='r', linestyle='--')\n",
    "plt.title('Training and Validation Loss')\n",
    "plt.xlabel('Epochs')\n",
    "plt.ylabel('Loss')\n",
    "plt.legend()\n",
    "plt.show()"
   ]
  },
  {
   "cell_type": "code",
   "execution_count": null,
   "id": "f114e60a",
   "metadata": {},
   "outputs": [],
   "source": []
  }
 ],
 "metadata": {
  "kernelspec": {
   "display_name": "Python 3 (ipykernel)",
   "language": "python",
   "name": "python3"
  },
  "language_info": {
   "codemirror_mode": {
    "name": "ipython",
    "version": 3
   },
   "file_extension": ".py",
   "mimetype": "text/x-python",
   "name": "python",
   "nbconvert_exporter": "python",
   "pygments_lexer": "ipython3",
   "version": "3.10.9"
  },
  "papermill": {
   "default_parameters": {},
   "duration": 1861.882266,
   "end_time": "2023-05-13T07:02:14.337023",
   "environment_variables": {},
   "exception": null,
   "input_path": "__notebook__.ipynb",
   "output_path": "__notebook__.ipynb",
   "parameters": {},
   "start_time": "2023-05-13T06:31:12.454757",
   "version": "2.4.0"
  }
 },
 "nbformat": 4,
 "nbformat_minor": 5
}
