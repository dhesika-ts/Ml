{
 "cells": [
  {
   "cell_type": "markdown",
   "metadata": {},
   "source": [
    "# Working with Anaconda"
   ]
  },
  {
   "cell_type": "markdown",
   "metadata": {},
   "source": [
    "## Using Jupyter Notebook"
   ]
  },
  {
   "cell_type": "code",
   "execution_count": 5,
   "metadata": {},
   "outputs": [
    {
     "name": "stdout",
     "output_type": "stream",
     "text": [
      "Python Version:\n",
      " 3.10.9 | packaged by Anaconda, Inc. | (main, Mar  1 2023, 18:18:15) [MSC v.1916 64 bit (AMD64)]\n",
      "\n",
      "Anaconda Version:\n",
      " conda 23.1.0\n",
      "\n",
      "\n",
      "Jupyter Notebook Version:\n",
      " # packages in environment at C:\\Users\\John\\anaconda3:\n",
      "#\n",
      "# Name                    Version                   Build  Channel\n",
      "notebook                  6.5.2           py310haa95532_0  \n",
      "\n"
     ]
    }
   ],
   "source": [
    "import sys\n",
    "print('Python Version:\\n', sys.version)\n",
    "\n",
    "import os\n",
    "result = os.popen('conda --version').read()\n",
    "print('\\nAnaconda Version:\\n', result)\n",
    "\n",
    "result = os.popen('conda list notebook$').read()\n",
    "print('\\nJupyter Notebook Version:\\n', result)"
   ]
  },
  {
   "cell_type": "markdown",
   "metadata": {},
   "source": [
    "# Downloading the Datasets and Example Code"
   ]
  },
  {
   "cell_type": "markdown",
   "metadata": {},
   "source": [
    "## Defining the code repository"
   ]
  },
  {
   "cell_type": "markdown",
   "metadata": {},
   "source": [
    "### Adding notebook content"
   ]
  },
  {
   "cell_type": "code",
   "execution_count": 1,
   "metadata": {},
   "outputs": [
    {
     "name": "stdout",
     "output_type": "stream",
     "text": [
      "Python is really cool!\n"
     ]
    }
   ],
   "source": [
    "print('Python is really cool!')"
   ]
  },
  {
   "cell_type": "code",
   "execution_count": null,
   "metadata": {},
   "outputs": [],
   "source": []
  }
 ],
 "metadata": {
  "kernelspec": {
   "display_name": "Python 3 (ipykernel)",
   "language": "python",
   "name": "python3"
  },
  "language_info": {
   "codemirror_mode": {
    "name": "ipython",
    "version": 3
   },
   "file_extension": ".py",
   "mimetype": "text/x-python",
   "name": "python",
   "nbconvert_exporter": "python",
   "pygments_lexer": "ipython3",
   "version": "3.10.9"
  }
 },
 "nbformat": 4,
 "nbformat_minor": 2
}
