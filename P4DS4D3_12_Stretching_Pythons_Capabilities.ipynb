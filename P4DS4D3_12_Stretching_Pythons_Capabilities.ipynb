{
 "cells": [
  {
   "cell_type": "markdown",
   "id": "fc00a85a",
   "metadata": {
    "papermill": {
     "duration": 0.008716,
     "end_time": "2023-04-15T21:04:24.307852",
     "exception": false,
     "start_time": "2023-04-15T21:04:24.299136",
     "status": "completed"
    },
    "tags": []
   },
   "source": [
    "# Playing with Scikit-learn"
   ]
  },
  {
   "cell_type": "markdown",
   "id": "2d305b05",
   "metadata": {
    "papermill": {
     "duration": 0.006787,
     "end_time": "2023-04-15T21:04:24.321816",
     "exception": false,
     "start_time": "2023-04-15T21:04:24.315029",
     "status": "completed"
    },
    "tags": []
   },
   "source": [
    "## Defining applications for data science"
   ]
  },
  {
   "cell_type": "markdown",
   "id": "1dd052ab",
   "metadata": {
    "papermill": {
     "duration": 0.006706,
     "end_time": "2023-04-15T21:04:24.335961",
     "exception": false,
     "start_time": "2023-04-15T21:04:24.329255",
     "status": "completed"
    },
    "tags": []
   },
   "source": [
    "http://scikit-learn.org/stable/developers/<BR>\n",
    "http://scikit-learn.org/stable/faq.html<BR>"
   ]
  },
  {
   "cell_type": "markdown",
   "id": "a1351448",
   "metadata": {
    "papermill": {
     "duration": 0.006672,
     "end_time": "2023-04-15T21:04:24.349647",
     "exception": false,
     "start_time": "2023-04-15T21:04:24.342975",
     "status": "completed"
    },
    "tags": []
   },
   "source": [
    "The California Housing dataset is a popular dataset that contains information on the median house value, as well as other information about various neighborhoods in California. The dataset was obtained from the StatLib repository and is often used as a benchmark in machine learning tasks. It was collected by the US Census Bureau and various other sources, and contains information from the 1990 California census. The dataset includes features such as population, median income, median house value, latitude, and longitude, among others. The goal of many machine learning tasks using this dataset is to predict the median house value based on the other features available.\n",
    "\n",
    "In the California housing dataset, the target is the median house value for each block group, which ranges from $14,999 to $500,001.\n",
    "\n",
    "* The dataset consists of 20,640 observations on housing prices from the 1990 California census.\n",
    "* It contains eight input features, including latitude, longitude, median income, and the number of rooms, bedrooms, population, households, and median house age for each block group.\n",
    "* The target variable is the median house value for each block group.\n",
    "* The data has been preprocessed to remove any missing values, and the target variable has been scaled to range between 0.1 and 5.0.\n",
    "* The dataset is commonly used in machine learning regression tasks, as it provides a good opportunity to practice feature engineering and regression modeling."
   ]
  },
  {
   "cell_type": "code",
   "execution_count": 1,
   "id": "8e2fe423",
   "metadata": {
    "execution": {
     "iopub.execute_input": "2023-04-15T21:04:24.365436Z",
     "iopub.status.busy": "2023-04-15T21:04:24.364976Z",
     "iopub.status.idle": "2023-04-15T21:04:26.129077Z",
     "shell.execute_reply": "2023-04-15T21:04:26.127769Z"
    },
    "papermill": {
     "duration": 1.776304,
     "end_time": "2023-04-15T21:04:26.132872",
     "exception": false,
     "start_time": "2023-04-15T21:04:24.356568",
     "status": "completed"
    },
    "tags": []
   },
   "outputs": [
    {
     "name": "stdout",
     "output_type": "stream",
     "text": [
      "X:(20640, 8) y:(20640,)\n"
     ]
    }
   ],
   "source": [
    "import numpy as np\n",
    "import pandas as pd\n",
    "from sklearn.datasets import fetch_california_housing\n",
    "\n",
    "def load_california_housing_data():\n",
    "    dataset = fetch_california_housing()\n",
    "    X = pd.DataFrame(data=dataset.data, \n",
    "                     columns=dataset.feature_names)\n",
    "    y = pd.Series(data=dataset.target, name=\"target\")\n",
    "    return X, y\n",
    "\n",
    "X, y = load_california_housing_data()\n",
    "print(f\"X:{X.shape} y:{y.shape}\")"
   ]
  },
  {
   "cell_type": "code",
   "execution_count": 2,
   "id": "680acceb",
   "metadata": {
    "execution": {
     "iopub.execute_input": "2023-04-15T21:04:26.150460Z",
     "iopub.status.busy": "2023-04-15T21:04:26.149266Z",
     "iopub.status.idle": "2023-04-15T21:04:26.165279Z",
     "shell.execute_reply": "2023-04-15T21:04:26.163793Z"
    },
    "papermill": {
     "duration": 0.028007,
     "end_time": "2023-04-15T21:04:26.168487",
     "exception": false,
     "start_time": "2023-04-15T21:04:26.140480",
     "status": "completed"
    },
    "tags": []
   },
   "outputs": [],
   "source": [
    "from sklearn.preprocessing import StandardScaler\n",
    "\n",
    "scaler = StandardScaler()\n",
    "scaler.fit(X)\n",
    "scaled_X = scaler.transform(X)"
   ]
  },
  {
   "cell_type": "code",
   "execution_count": 3,
   "id": "e7423a4c",
   "metadata": {
    "execution": {
     "iopub.execute_input": "2023-04-15T21:04:26.185834Z",
     "iopub.status.busy": "2023-04-15T21:04:26.185001Z",
     "iopub.status.idle": "2023-04-15T21:04:26.360668Z",
     "shell.execute_reply": "2023-04-15T21:04:26.359201Z"
    },
    "papermill": {
     "duration": 0.189048,
     "end_time": "2023-04-15T21:04:26.364981",
     "exception": false,
     "start_time": "2023-04-15T21:04:26.175933",
     "status": "completed"
    },
    "tags": []
   },
   "outputs": [
    {
     "name": "stdout",
     "output_type": "stream",
     "text": [
      "[ 0.82962  0.11875 -0.26553  0.3057  -0.0045  -0.03933 -0.89989 -0.87054]\n"
     ]
    }
   ],
   "source": [
    "from sklearn.linear_model import LinearRegression\n",
    "\n",
    "linear_regression = LinearRegression()\n",
    "linear_regression.fit(scaled_X, y)\n",
    "print(linear_regression.coef_.round(5))"
   ]
  },
  {
   "cell_type": "code",
   "execution_count": 4,
   "id": "3c121466",
   "metadata": {
    "execution": {
     "iopub.execute_input": "2023-04-15T21:04:26.484944Z",
     "iopub.status.busy": "2023-04-15T21:04:26.484369Z",
     "iopub.status.idle": "2023-04-15T21:04:26.506200Z",
     "shell.execute_reply": "2023-04-15T21:04:26.504468Z"
    },
    "papermill": {
     "duration": 0.040501,
     "end_time": "2023-04-15T21:04:26.510546",
     "exception": false,
     "start_time": "2023-04-15T21:04:26.470045",
     "status": "completed"
    },
    "tags": []
   },
   "outputs": [
    {
     "name": "stdout",
     "output_type": "stream",
     "text": [
      "Estimated median house value: 141088.56 USD\n"
     ]
    }
   ],
   "source": [
    "values = [[1.21315, 32., 3.31767135, 1.07731985, 898., 2.1424809, 37.82, -122.27]]\n",
    "obs = pd.DataFrame(values, columns=X.columns)\n",
    "\n",
    "scaled_obs = scaler.transform(obs)\n",
    "\n",
    "pred = linear_regression.predict(scaled_obs)\n",
    "value = pred[0] * 100_000\n",
    "print(f\"Estimated median house value: {value:.2f} USD\")"
   ]
  },
  {
   "cell_type": "code",
   "execution_count": 5,
   "id": "899f40ee",
   "metadata": {},
   "outputs": [
    {
     "data": {
      "text/plain": [
       "0.606232685199805"
      ]
     },
     "execution_count": 5,
     "metadata": {},
     "output_type": "execute_result"
    }
   ],
   "source": [
    "linear_regression.score(scaled_X, y)"
   ]
  },
  {
   "cell_type": "markdown",
   "id": "c43ee874",
   "metadata": {},
   "source": [
    "# Using Transformative Functions"
   ]
  },
  {
   "cell_type": "markdown",
   "id": "b734170d",
   "metadata": {},
   "source": [
    "## Handling heterogeneous data"
   ]
  },
  {
   "cell_type": "code",
   "execution_count": 6,
   "id": "0ed6040b",
   "metadata": {
    "execution": {
     "iopub.execute_input": "2023-04-15T21:04:26.547482Z",
     "iopub.status.busy": "2023-04-15T21:04:26.547042Z",
     "iopub.status.idle": "2023-04-15T21:04:26.581979Z",
     "shell.execute_reply": "2023-04-15T21:04:26.580985Z"
    },
    "papermill": {
     "duration": 0.047052,
     "end_time": "2023-04-15T21:04:26.584753",
     "exception": false,
     "start_time": "2023-04-15T21:04:26.537701",
     "status": "completed"
    },
    "tags": []
   },
   "outputs": [],
   "source": [
    "from sklearn.compose \\\n",
    "    import ColumnTransformer, make_column_selector\n",
    "from sklearn.pipeline import FeatureUnion, Pipeline\n",
    "from sklearn.preprocessing \\\n",
    "    import StandardScaler, KBinsDiscretizer\n",
    "from sklearn.linear_model import LinearRegression\n",
    "\n",
    "X, y = load_california_housing_data()"
   ]
  },
  {
   "cell_type": "code",
   "execution_count": 7,
   "id": "003ed368",
   "metadata": {
    "execution": {
     "iopub.execute_input": "2023-04-15T21:04:26.602578Z",
     "iopub.status.busy": "2023-04-15T21:04:26.602108Z",
     "iopub.status.idle": "2023-04-15T21:04:26.608648Z",
     "shell.execute_reply": "2023-04-15T21:04:26.607419Z"
    },
    "papermill": {
     "duration": 0.018154,
     "end_time": "2023-04-15T21:04:26.610926",
     "exception": false,
     "start_time": "2023-04-15T21:04:26.592772",
     "status": "completed"
    },
    "tags": []
   },
   "outputs": [],
   "source": [
    "num_cols = ['MedInc', 'HouseAge', 'AveRooms', \n",
    "            'AveBedrms', 'Population', 'AveOccup']\n",
    "cords = ['Latitude', 'Longitude']\n",
    "\n",
    "num_transformer = ColumnTransformer([\n",
    "    (\"scaler\", StandardScaler(), num_cols)], \n",
    "    remainder=\"drop\")\n",
    "\n",
    "cords_transformer = ColumnTransformer([\n",
    "    (\"discretizer\", \n",
    "     KBinsDiscretizer(n_bins=20, encode=\"onehot-dense\"), \n",
    "     cords)])"
   ]
  },
  {
   "cell_type": "code",
   "execution_count": 8,
   "id": "d2c1a44b",
   "metadata": {
    "execution": {
     "iopub.execute_input": "2023-04-15T21:04:26.629425Z",
     "iopub.status.busy": "2023-04-15T21:04:26.628955Z",
     "iopub.status.idle": "2023-04-15T21:04:26.634760Z",
     "shell.execute_reply": "2023-04-15T21:04:26.633425Z"
    },
    "papermill": {
     "duration": 0.018307,
     "end_time": "2023-04-15T21:04:26.637331",
     "exception": false,
     "start_time": "2023-04-15T21:04:26.619024",
     "status": "completed"
    },
    "tags": []
   },
   "outputs": [],
   "source": [
    "preprocessor = FeatureUnion(\n",
    "    transformer_list=[(\"num_transformer\", \n",
    "                       num_transformer), \n",
    "                      (\"cords_transformer\", \n",
    "                       cords_transformer)])"
   ]
  },
  {
   "cell_type": "code",
   "execution_count": 9,
   "id": "8e9a0c41",
   "metadata": {
    "execution": {
     "iopub.execute_input": "2023-04-15T21:04:26.655745Z",
     "iopub.status.busy": "2023-04-15T21:04:26.655316Z",
     "iopub.status.idle": "2023-04-15T21:04:26.707778Z",
     "shell.execute_reply": "2023-04-15T21:04:26.706369Z"
    },
    "papermill": {
     "duration": 0.065112,
     "end_time": "2023-04-15T21:04:26.710581",
     "exception": false,
     "start_time": "2023-04-15T21:04:26.645469",
     "status": "completed"
    },
    "tags": []
   },
   "outputs": [
    {
     "data": {
      "text/plain": [
       "(20640, 46)"
      ]
     },
     "execution_count": 9,
     "metadata": {},
     "output_type": "execute_result"
    }
   ],
   "source": [
    "preprocessor.fit_transform(X).shape"
   ]
  },
  {
   "cell_type": "code",
   "execution_count": 10,
   "id": "acc89dfd",
   "metadata": {
    "execution": {
     "iopub.execute_input": "2023-04-15T21:04:26.728934Z",
     "iopub.status.busy": "2023-04-15T21:04:26.728504Z",
     "iopub.status.idle": "2023-04-15T21:04:26.734422Z",
     "shell.execute_reply": "2023-04-15T21:04:26.733215Z"
    },
    "papermill": {
     "duration": 0.018568,
     "end_time": "2023-04-15T21:04:26.737413",
     "exception": false,
     "start_time": "2023-04-15T21:04:26.718845",
     "status": "completed"
    },
    "tags": []
   },
   "outputs": [],
   "source": [
    "predictive_pipeline = Pipeline([\n",
    "    (\"preprocessor\", preprocessor), \n",
    "    (\"model\", LinearRegression())])"
   ]
  },
  {
   "cell_type": "code",
   "execution_count": 11,
   "id": "58aac108",
   "metadata": {
    "execution": {
     "iopub.execute_input": "2023-04-15T21:04:26.756476Z",
     "iopub.status.busy": "2023-04-15T21:04:26.755579Z",
     "iopub.status.idle": "2023-04-15T21:04:26.886477Z",
     "shell.execute_reply": "2023-04-15T21:04:26.884973Z"
    },
    "papermill": {
     "duration": 0.144422,
     "end_time": "2023-04-15T21:04:26.890303",
     "exception": false,
     "start_time": "2023-04-15T21:04:26.745881",
     "status": "completed"
    },
    "tags": []
   },
   "outputs": [
    {
     "data": {
      "text/plain": [
       "0.6667461802611925"
      ]
     },
     "execution_count": 11,
     "metadata": {},
     "output_type": "execute_result"
    }
   ],
   "source": [
    "predictive_pipeline.fit(X, y)\n",
    "predictive_pipeline.score(X, y)"
   ]
  },
  {
   "cell_type": "markdown",
   "id": "ec7a1e34",
   "metadata": {
    "papermill": {
     "duration": 0.013813,
     "end_time": "2023-04-15T21:04:26.917944",
     "exception": false,
     "start_time": "2023-04-15T21:04:26.904131",
     "status": "completed"
    },
    "tags": []
   },
   "source": [
    "# Considering Timing and Performance"
   ]
  },
  {
   "cell_type": "markdown",
   "id": "547b1f83",
   "metadata": {
    "papermill": {
     "duration": 0.013184,
     "end_time": "2023-04-15T21:04:26.944802",
     "exception": false,
     "start_time": "2023-04-15T21:04:26.931618",
     "status": "completed"
    },
    "tags": []
   },
   "source": [
    "## Benchmarking with timeit"
   ]
  },
  {
   "cell_type": "code",
   "execution_count": 12,
   "id": "f8f4dd15",
   "metadata": {
    "execution": {
     "iopub.execute_input": "2023-04-15T21:04:26.977372Z",
     "iopub.status.busy": "2023-04-15T21:04:26.975555Z",
     "iopub.status.idle": "2023-04-15T21:04:33.210945Z",
     "shell.execute_reply": "2023-04-15T21:04:33.208634Z"
    },
    "papermill": {
     "duration": 6.254261,
     "end_time": "2023-04-15T21:04:33.213773",
     "exception": false,
     "start_time": "2023-04-15T21:04:26.959512",
     "status": "completed"
    },
    "tags": []
   },
   "outputs": [
    {
     "name": "stdout",
     "output_type": "stream",
     "text": [
      "69.4 ms ± 1.2 ms per loop (mean ± std. dev. of 7 runs, 10 loops each)\n"
     ]
    }
   ],
   "source": [
    "%timeit l = [k for k in range(10**6)]"
   ]
  },
  {
   "cell_type": "code",
   "execution_count": 13,
   "id": "b2bdb41c",
   "metadata": {
    "execution": {
     "iopub.execute_input": "2023-04-15T21:04:33.233741Z",
     "iopub.status.busy": "2023-04-15T21:04:33.232385Z",
     "iopub.status.idle": "2023-04-15T21:04:40.889477Z",
     "shell.execute_reply": "2023-04-15T21:04:40.887839Z"
    },
    "papermill": {
     "duration": 7.670247,
     "end_time": "2023-04-15T21:04:40.892745",
     "exception": false,
     "start_time": "2023-04-15T21:04:33.222498",
     "status": "completed"
    },
    "tags": []
   },
   "outputs": [
    {
     "name": "stdout",
     "output_type": "stream",
     "text": [
      "70.3 ms ± 1.17 ms per loop (mean ± std. dev. of 5 runs, 20 loops each)\n"
     ]
    }
   ],
   "source": [
    "%timeit -n 20 -r 5 l = [k for k in range(10**6)]"
   ]
  },
  {
   "cell_type": "code",
   "execution_count": 14,
   "id": "356010c2",
   "metadata": {
    "execution": {
     "iopub.execute_input": "2023-04-15T21:04:40.912935Z",
     "iopub.status.busy": "2023-04-15T21:04:40.911982Z",
     "iopub.status.idle": "2023-04-15T21:04:51.016549Z",
     "shell.execute_reply": "2023-04-15T21:04:51.015152Z"
    },
    "papermill": {
     "duration": 10.117803,
     "end_time": "2023-04-15T21:04:51.019542",
     "exception": false,
     "start_time": "2023-04-15T21:04:40.901739",
     "status": "completed"
    },
    "tags": []
   },
   "outputs": [
    {
     "name": "stdout",
     "output_type": "stream",
     "text": [
      "112 ms ± 1.51 ms per loop (mean ± std. dev. of 7 runs, 10 loops each)\n"
     ]
    }
   ],
   "source": [
    "%%timeit \n",
    "l = list()\n",
    "for k in range(10**6):\n",
    "    l.append(k)"
   ]
  },
  {
   "cell_type": "code",
   "execution_count": 15,
   "id": "c6a99acf",
   "metadata": {
    "execution": {
     "iopub.execute_input": "2023-04-15T21:04:51.039924Z",
     "iopub.status.busy": "2023-04-15T21:04:51.039497Z",
     "iopub.status.idle": "2023-04-15T21:04:51.051145Z",
     "shell.execute_reply": "2023-04-15T21:04:51.049603Z"
    },
    "papermill": {
     "duration": 0.025419,
     "end_time": "2023-04-15T21:04:51.053947",
     "exception": false,
     "start_time": "2023-04-15T21:04:51.028528",
     "status": "completed"
    },
    "tags": []
   },
   "outputs": [],
   "source": [
    "import sklearn.feature_extraction.text as txt\n",
    "count_vectorizer = txt.CountVectorizer(\n",
    "    binary=True, max_features=20)\n",
    "\n",
    "texts = [\"Python for data science\", \n",
    "         \"Python for machine learning\",\n",
    "         \"Artificial intelligence in Python\"]\n",
    "\n",
    "count_vectorizer.fit(texts)\n",
    "vectorized = count_vectorizer.transform(texts)\n"
   ]
  },
  {
   "cell_type": "code",
   "execution_count": 16,
   "id": "86049505",
   "metadata": {
    "execution": {
     "iopub.execute_input": "2023-04-15T21:04:51.074925Z",
     "iopub.status.busy": "2023-04-15T21:04:51.074046Z",
     "iopub.status.idle": "2023-04-15T21:04:53.654789Z",
     "shell.execute_reply": "2023-04-15T21:04:53.653403Z"
    },
    "papermill": {
     "duration": 2.594193,
     "end_time": "2023-04-15T21:04:53.657576",
     "exception": false,
     "start_time": "2023-04-15T21:04:51.063383",
     "status": "completed"
    },
    "tags": []
   },
   "outputs": [
    {
     "name": "stdout",
     "output_type": "stream",
     "text": [
      "575 µs ± 6.21 µs per loop (mean ± std. dev. of 7 runs, 1,000 loops each)\n"
     ]
    }
   ],
   "source": [
    "%timeit count_vectorizer.fit(texts)"
   ]
  },
  {
   "cell_type": "code",
   "execution_count": 17,
   "id": "45690d9a",
   "metadata": {
    "execution": {
     "iopub.execute_input": "2023-04-15T21:04:53.677937Z",
     "iopub.status.busy": "2023-04-15T21:04:53.677496Z",
     "iopub.status.idle": "2023-04-15T21:05:01.294466Z",
     "shell.execute_reply": "2023-04-15T21:05:01.293505Z"
    },
    "papermill": {
     "duration": 7.630066,
     "end_time": "2023-04-15T21:05:01.296957",
     "exception": false,
     "start_time": "2023-04-15T21:04:53.666891",
     "status": "completed"
    },
    "tags": []
   },
   "outputs": [
    {
     "name": "stdout",
     "output_type": "stream",
     "text": [
      "131 µs ± 1.17 µs per loop (mean ± std. dev. of 7 runs, 10,000 loops each)\n"
     ]
    }
   ],
   "source": [
    "%timeit vectorized = count_vectorizer.transform(texts)"
   ]
  },
  {
   "cell_type": "code",
   "execution_count": 18,
   "id": "c769207e",
   "metadata": {
    "execution": {
     "iopub.execute_input": "2023-04-15T21:05:01.317016Z",
     "iopub.status.busy": "2023-04-15T21:05:01.316606Z",
     "iopub.status.idle": "2023-04-15T21:05:02.282698Z",
     "shell.execute_reply": "2023-04-15T21:05:02.281104Z"
    },
    "papermill": {
     "duration": 0.97975,
     "end_time": "2023-04-15T21:05:02.285645",
     "exception": false,
     "start_time": "2023-04-15T21:05:01.305895",
     "status": "completed"
    },
    "tags": []
   },
   "outputs": [
    {
     "name": "stdout",
     "output_type": "stream",
     "text": [
      "0.0001340000200085342\n"
     ]
    }
   ],
   "source": [
    "import timeit\n",
    "cumulative_time = timeit.timeit(\n",
    "    \"vectorized = count_vectorizer.transform(texts)\", \n",
    "    setup=\"from __main__ import count_vectorizer, texts\", \n",
    "    number=10000)\n",
    "print(cumulative_time / 10000.0)"
   ]
  },
  {
   "cell_type": "markdown",
   "id": "cd1efd7b",
   "metadata": {
    "papermill": {
     "duration": 0.009446,
     "end_time": "2023-04-15T21:05:02.304684",
     "exception": false,
     "start_time": "2023-04-15T21:05:02.295238",
     "status": "completed"
    },
    "tags": []
   },
   "source": [
    "## Working with the memory profiler"
   ]
  },
  {
   "cell_type": "code",
   "execution_count": 19,
   "id": "973c0ef7",
   "metadata": {
    "execution": {
     "iopub.execute_input": "2023-04-15T21:05:02.325800Z",
     "iopub.status.busy": "2023-04-15T21:05:02.325391Z",
     "iopub.status.idle": "2023-04-15T21:05:14.570819Z",
     "shell.execute_reply": "2023-04-15T21:05:14.569377Z"
    },
    "papermill": {
     "duration": 12.25925,
     "end_time": "2023-04-15T21:05:14.573799",
     "exception": false,
     "start_time": "2023-04-15T21:05:02.314549",
     "status": "completed"
    },
    "tags": []
   },
   "outputs": [
    {
     "name": "stdout",
     "output_type": "stream",
     "text": [
      "Collecting memory_profiler\n",
      "  Using cached memory_profiler-0.61.0-py3-none-any.whl (31 kB)\n",
      "Requirement already satisfied: psutil in c:\\users\\john\\anaconda3\\lib\\site-packages (from memory_profiler) (5.9.0)\n",
      "Installing collected packages: memory_profiler\n",
      "Successfully installed memory_profiler-0.61.0\n"
     ]
    }
   ],
   "source": [
    "# Installation procedures\n",
    "import sys\n",
    "!{sys.executable} -m pip install memory_profiler"
   ]
  },
  {
   "cell_type": "code",
   "execution_count": 20,
   "id": "00b2c0a1",
   "metadata": {
    "execution": {
     "iopub.execute_input": "2023-04-15T21:05:14.595307Z",
     "iopub.status.busy": "2023-04-15T21:05:14.594875Z",
     "iopub.status.idle": "2023-04-15T21:05:14.609331Z",
     "shell.execute_reply": "2023-04-15T21:05:14.607859Z"
    },
    "papermill": {
     "duration": 0.029189,
     "end_time": "2023-04-15T21:05:14.612557",
     "exception": false,
     "start_time": "2023-04-15T21:05:14.583368",
     "status": "completed"
    },
    "tags": []
   },
   "outputs": [],
   "source": [
    "# Initialization from IPython (to be repeat at every IPython start)\n",
    "%load_ext memory_profiler"
   ]
  },
  {
   "cell_type": "code",
   "execution_count": 21,
   "id": "63adc969",
   "metadata": {
    "execution": {
     "iopub.execute_input": "2023-04-15T21:05:14.634110Z",
     "iopub.status.busy": "2023-04-15T21:05:14.633667Z",
     "iopub.status.idle": "2023-04-15T21:05:14.905624Z",
     "shell.execute_reply": "2023-04-15T21:05:14.904111Z"
    },
    "papermill": {
     "duration": 0.286116,
     "end_time": "2023-04-15T21:05:14.908574",
     "exception": false,
     "start_time": "2023-04-15T21:05:14.622458",
     "status": "completed"
    },
    "tags": []
   },
   "outputs": [
    {
     "name": "stdout",
     "output_type": "stream",
     "text": [
      "peak memory: 156.68 MiB, increment: 0.07 MiB\n"
     ]
    }
   ],
   "source": [
    "vectorized = count_vectorizer.transform(texts)\n",
    "%memit dense_hashing = vectorized.toarray()"
   ]
  },
  {
   "cell_type": "code",
   "execution_count": 22,
   "id": "5ff17584",
   "metadata": {
    "execution": {
     "iopub.execute_input": "2023-04-15T21:05:14.929915Z",
     "iopub.status.busy": "2023-04-15T21:05:14.929483Z",
     "iopub.status.idle": "2023-04-15T21:05:14.937863Z",
     "shell.execute_reply": "2023-04-15T21:05:14.936467Z"
    },
    "papermill": {
     "duration": 0.021974,
     "end_time": "2023-04-15T21:05:14.940263",
     "exception": false,
     "start_time": "2023-04-15T21:05:14.918289",
     "status": "completed"
    },
    "tags": []
   },
   "outputs": [
    {
     "name": "stdout",
     "output_type": "stream",
     "text": [
      "Overwriting example_code.py\n"
     ]
    }
   ],
   "source": [
    "%%writefile example_code.py\n",
    "\n",
    "import sklearn.feature_extraction.text as txt\n",
    "\n",
    "def comparison_test(text):    \n",
    "    count_vectorizer = txt.CountVectorizer(\n",
    "        binary=True, max_features=20)\n",
    "    count_vectorizer.fit(text)\n",
    "    vectorized = count_vectorizer.transform(text)\n",
    "    return vectorized.toarray()"
   ]
  },
  {
   "cell_type": "code",
   "execution_count": 23,
   "id": "a1938c7e",
   "metadata": {
    "execution": {
     "iopub.execute_input": "2023-04-15T21:05:14.961798Z",
     "iopub.status.busy": "2023-04-15T21:05:14.961068Z",
     "iopub.status.idle": "2023-04-15T21:05:15.076066Z",
     "shell.execute_reply": "2023-04-15T21:05:15.074810Z"
    },
    "papermill": {
     "duration": 0.12851,
     "end_time": "2023-04-15T21:05:15.078516",
     "exception": false,
     "start_time": "2023-04-15T21:05:14.950006",
     "status": "completed"
    },
    "tags": []
   },
   "outputs": [
    {
     "name": "stdout",
     "output_type": "stream",
     "text": [
      "\n"
     ]
    }
   ],
   "source": [
    "from example_code import comparison_test\n",
    "\n",
    "texts = [\"Python for data science\", \n",
    "         \"Python for machine learning\",\n",
    "         \"Artificial intelligence in Python\"]\n",
    "\n",
    "%mprun -f comparison_test comparison_test(texts)"
   ]
  },
  {
   "cell_type": "markdown",
   "id": "d9e132cd",
   "metadata": {
    "papermill": {
     "duration": 0.009303,
     "end_time": "2023-04-15T21:05:15.097522",
     "exception": false,
     "start_time": "2023-04-15T21:05:15.088219",
     "status": "completed"
    },
    "tags": []
   },
   "source": [
    "# Running in Parallel on Multiple Cores"
   ]
  },
  {
   "cell_type": "markdown",
   "id": "7f38f260",
   "metadata": {
    "papermill": {
     "duration": 0.009235,
     "end_time": "2023-04-15T21:05:15.116393",
     "exception": false,
     "start_time": "2023-04-15T21:05:15.107158",
     "status": "completed"
    },
    "tags": []
   },
   "source": [
    "## Demonstrating multiprocessing"
   ]
  },
  {
   "cell_type": "code",
   "execution_count": 24,
   "id": "c2a7939b",
   "metadata": {
    "execution": {
     "iopub.execute_input": "2023-04-15T21:05:15.137406Z",
     "iopub.status.busy": "2023-04-15T21:05:15.136955Z",
     "iopub.status.idle": "2023-04-15T21:05:15.234740Z",
     "shell.execute_reply": "2023-04-15T21:05:15.233649Z"
    },
    "papermill": {
     "duration": 0.111553,
     "end_time": "2023-04-15T21:05:15.237601",
     "exception": false,
     "start_time": "2023-04-15T21:05:15.126048",
     "status": "completed"
    },
    "tags": []
   },
   "outputs": [],
   "source": [
    "from sklearn.datasets import load_digits\n",
    "digits = load_digits()\n",
    "\n",
    "X, y = digits.data, digits.target\n",
    "from sklearn.svm import SVC\n",
    "from sklearn.model_selection import cross_val_score"
   ]
  },
  {
   "cell_type": "code",
   "execution_count": 26,
   "id": "5232b4b2",
   "metadata": {
    "execution": {
     "iopub.execute_input": "2023-04-15T21:05:15.259481Z",
     "iopub.status.busy": "2023-04-15T21:05:15.258521Z",
     "iopub.status.idle": "2023-04-15T21:05:26.579719Z",
     "shell.execute_reply": "2023-04-15T21:05:26.578213Z"
    },
    "papermill": {
     "duration": 11.335034,
     "end_time": "2023-04-15T21:05:26.582481",
     "exception": false,
     "start_time": "2023-04-15T21:05:15.247447",
     "status": "completed"
    },
    "tags": []
   },
   "outputs": [
    {
     "name": "stdout",
     "output_type": "stream",
     "text": [
      "1.67 s ± 20.9 ms per loop (mean ± std. dev. of 7 runs, 1 loop each)\n"
     ]
    }
   ],
   "source": [
    "%timeit single_core = cross_val_score( \\\n",
    "    SVC(), X, y, cv=20, n_jobs=1)"
   ]
  },
  {
   "cell_type": "code",
   "execution_count": 27,
   "id": "0a4376b3",
   "metadata": {
    "execution": {
     "iopub.execute_input": "2023-04-15T21:05:26.604254Z",
     "iopub.status.busy": "2023-04-15T21:05:26.603839Z",
     "iopub.status.idle": "2023-04-15T21:05:32.759807Z",
     "shell.execute_reply": "2023-04-15T21:05:32.758444Z"
    },
    "papermill": {
     "duration": 6.169841,
     "end_time": "2023-04-15T21:05:32.762420",
     "exception": false,
     "start_time": "2023-04-15T21:05:26.592579",
     "status": "completed"
    },
    "tags": []
   },
   "outputs": [
    {
     "name": "stdout",
     "output_type": "stream",
     "text": [
      "436 ms ± 6.47 ms per loop (mean ± std. dev. of 7 runs, 1 loop each)\n"
     ]
    }
   ],
   "source": [
    "%timeit multi_core = cross_val_score( \\\n",
    "    SVC(),X, y, cv=20, n_jobs=-1)"
   ]
  },
  {
   "cell_type": "code",
   "execution_count": 28,
   "id": "f69d2881",
   "metadata": {
    "execution": {
     "iopub.execute_input": "2023-04-15T21:05:32.785317Z",
     "iopub.status.busy": "2023-04-15T21:05:32.784864Z",
     "iopub.status.idle": "2023-04-15T21:05:38.459260Z",
     "shell.execute_reply": "2023-04-15T21:05:38.458324Z"
    },
    "papermill": {
     "duration": 5.689883,
     "end_time": "2023-04-15T21:05:38.462547",
     "exception": false,
     "start_time": "2023-04-15T21:05:32.772664",
     "status": "completed"
    },
    "tags": []
   },
   "outputs": [
    {
     "name": "stdout",
     "output_type": "stream",
     "text": [
      "438 ms ± 5.49 ms per loop (mean ± std. dev. of 7 runs, 1 loop each)\n"
     ]
    }
   ],
   "source": [
    "%timeit multi_core = cross_val_score( \\\n",
    "    SVC(), X, y, cv=20, n_jobs=-2)"
   ]
  },
  {
   "cell_type": "code",
   "execution_count": null,
   "id": "4c7cd19b",
   "metadata": {},
   "outputs": [],
   "source": []
  }
 ],
 "metadata": {
  "kernelspec": {
   "display_name": "Python 3 (ipykernel)",
   "language": "python",
   "name": "python3"
  },
  "language_info": {
   "codemirror_mode": {
    "name": "ipython",
    "version": 3
   },
   "file_extension": ".py",
   "mimetype": "text/x-python",
   "name": "python",
   "nbconvert_exporter": "python",
   "pygments_lexer": "ipython3",
   "version": "3.10.9"
  },
  "papermill": {
   "default_parameters": {},
   "duration": 87.92785,
   "end_time": "2023-04-15T21:05:41.099579",
   "environment_variables": {},
   "exception": null,
   "input_path": "__notebook__.ipynb",
   "output_path": "__notebook__.ipynb",
   "parameters": {},
   "start_time": "2023-04-15T21:04:13.171729",
   "version": "2.4.0"
  }
 },
 "nbformat": 4,
 "nbformat_minor": 5
}
