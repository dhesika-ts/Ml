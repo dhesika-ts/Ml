{
 "cells": [
  {
   "cell_type": "code",
   "execution_count": 1,
   "id": "51a2a9b4",
   "metadata": {
    "execution": {
     "iopub.execute_input": "2023-04-13T09:10:27.614521Z",
     "iopub.status.busy": "2023-04-13T09:10:27.614102Z",
     "iopub.status.idle": "2023-04-13T09:10:36.761602Z",
     "shell.execute_reply": "2023-04-13T09:10:36.760528Z"
    },
    "papermill": {
     "duration": 9.155756,
     "end_time": "2023-04-13T09:10:36.764526",
     "exception": false,
     "start_time": "2023-04-13T09:10:27.608770",
     "status": "completed"
    },
    "tags": []
   },
   "outputs": [],
   "source": [
    "from sklearn.datasets import fetch_openml\n",
    "import pandas as pd\n",
    "\n",
    "def load_mushroom_data():\n",
    "    features, target = fetch_openml(data_id=24, return_X_y=True, as_frame=True)\n",
    "    X = pd.get_dummies(features)\n",
    "    y = (target == \"p\").astype(int) # p=\"poisonous\"\n",
    "    return X, y\n",
    "\n",
    "\n",
    "X, y = load_mushroom_data()"
   ]
  },
  {
   "cell_type": "code",
   "execution_count": 2,
   "id": "f291a8c8",
   "metadata": {
    "execution": {
     "iopub.execute_input": "2023-04-13T09:10:36.771235Z",
     "iopub.status.busy": "2023-04-13T09:10:36.770878Z",
     "iopub.status.idle": "2023-04-13T09:10:38.946244Z",
     "shell.execute_reply": "2023-04-13T09:10:38.945220Z"
    },
    "papermill": {
     "duration": 2.181923,
     "end_time": "2023-04-13T09:10:38.949129",
     "exception": false,
     "start_time": "2023-04-13T09:10:36.767206",
     "status": "completed"
    },
    "tags": []
   },
   "outputs": [],
   "source": [
    "from sklearn.datasets import fetch_california_housing\n",
    "import pandas as pd\n",
    "\n",
    "def load_california_housing_data():\n",
    "    dataset = fetch_california_housing()\n",
    "    X = pd.DataFrame(data=dataset.data, columns=dataset.feature_names)\n",
    "    y = pd.Series(data=dataset.target, name=\"target\")\n",
    "    return X, y\n",
    "\n",
    "X, y = load_california_housing_data()"
   ]
  },
  {
   "cell_type": "code",
   "execution_count": 3,
   "id": "992e737d",
   "metadata": {
    "execution": {
     "iopub.execute_input": "2023-04-13T09:10:38.955857Z",
     "iopub.status.busy": "2023-04-13T09:10:38.955476Z",
     "iopub.status.idle": "2023-04-13T09:10:39.246360Z",
     "shell.execute_reply": "2023-04-13T09:10:39.245169Z"
    },
    "papermill": {
     "duration": 0.297608,
     "end_time": "2023-04-13T09:10:39.249219",
     "exception": false,
     "start_time": "2023-04-13T09:10:38.951611",
     "status": "completed"
    },
    "tags": []
   },
   "outputs": [],
   "source": [
    "# https://www.axxio.io/wp-content/uploads/2018/05/documentation.pdf\n",
    "import numpy as np\n",
    "import pandas as pd\n",
    "\n",
    "\n",
    "def load_german_credit_data():\n",
    "    url = \"https://archive.ics.uci.edu/ml/machine-learning-databases\"\n",
    "    url += \"/statlog/german/german.data-numeric\"\n",
    "\n",
    "    col_names = [\n",
    "        \"checking_account\", \"duration\", \"credit_history\", \"credit_amount\",\n",
    "        \"savings_account\", \"employment_duration\", \"personal_status\",\n",
    "        \"residence_duration\", \"property\", \"age\", \"other_installment_plans\",\n",
    "        \"number_credits\", \"people_liable\", \"telephone\", \"foreign_worker\",\n",
    "        \"purpose_car_new\", \"purpose_car_used\", \"other_debtors_none\",\n",
    "        \"other_debtors_coapplicant\", \"housing_rent\", \"housing_own\",\n",
    "        \"job_unskilled_non_resident\", \"job_unskilled_resident\",\n",
    "        \"job_employee\", \"credit_risk\"]\n",
    "\n",
    "    df = pd.read_csv(\n",
    "        url, header=None, names=col_names, delim_whitespace=True)\n",
    "\n",
    "    X = df.iloc[:, :-1]\n",
    "    y = (df.iloc[:, -1] == 2).astype(int) # 2 = \"Bad\"\n",
    "\n",
    "    return X, y\n",
    "\n",
    "X, y = load_german_credit_data()"
   ]
  },
  {
   "cell_type": "code",
   "execution_count": 4,
   "id": "795fbe95",
   "metadata": {
    "execution": {
     "iopub.execute_input": "2023-04-13T09:10:39.256032Z",
     "iopub.status.busy": "2023-04-13T09:10:39.255636Z",
     "iopub.status.idle": "2023-04-13T09:10:39.429479Z",
     "shell.execute_reply": "2023-04-13T09:10:39.428166Z"
    },
    "papermill": {
     "duration": 0.180652,
     "end_time": "2023-04-13T09:10:39.432474",
     "exception": false,
     "start_time": "2023-04-13T09:10:39.251822",
     "status": "completed"
    },
    "tags": []
   },
   "outputs": [],
   "source": [
    "import pandas as pd\n",
    "\n",
    "def load_palmer_penguins(only_numeric=True, no_missing=True, multiclass=True):\n",
    "    url = \"https://raw.githubusercontent.com/allisonhorst/palmerpenguins/main/inst/extdata/penguins.csv\"\n",
    "    numeric_features = [\"bill_length_mm\", \"bill_depth_mm\", \"flipper_length_mm\", \"body_mass_g\"]\n",
    "    categorical_features = [\"island\", \"sex\"]\n",
    "    data = pd.read_csv(url)\n",
    "    if no_missing:\n",
    "        data = data.dropna()\n",
    "    if multiclass:\n",
    "        target = data.species.replace({'Adelie':1, 'Gentoo':2, 'Chinstrap':3})\n",
    "    else:\n",
    "        target = data.species.replace({'Adelie':1, 'Gentoo':0, 'Chinstrap':0})\n",
    "    if only_numeric:\n",
    "        return data[numeric_features], target\n",
    "    else:\n",
    "        return data[numeric_features + categorical_features], target\n",
    "    \n",
    "X, y = load_palmer_penguins(only_numeric=True, no_missing=True, multiclass=False)"
   ]
  },
  {
   "cell_type": "code",
   "execution_count": 5,
   "id": "a475ca3c",
   "metadata": {
    "execution": {
     "iopub.execute_input": "2023-04-13T09:10:39.439073Z",
     "iopub.status.busy": "2023-04-13T09:10:39.438669Z",
     "iopub.status.idle": "2023-04-13T09:10:46.613512Z",
     "shell.execute_reply": "2023-04-13T09:10:46.612044Z"
    },
    "papermill": {
     "duration": 7.181688,
     "end_time": "2023-04-13T09:10:46.616654",
     "exception": false,
     "start_time": "2023-04-13T09:10:39.434966",
     "status": "completed"
    },
    "tags": []
   },
   "outputs": [],
   "source": [
    "import pandas as pd\n",
    "import urllib.request\n",
    "import zipfile\n",
    "\n",
    "def get_movielens():\n",
    "    url = \"http://files.grouplens.org/datasets/movielens/ml-1m.zip\"\n",
    "    filename = 'ml-1m.zip'\n",
    "    urllib.request.urlretrieve(url, filename)\n",
    "    params = {\"sep\":\"::\", \"engine\":\"python\", \"encoding\":\"latin-1\"}\n",
    "\n",
    "    with zipfile.ZipFile('ml-1m.zip', 'r') as zip_file:\n",
    "        with zip_file.open('ml-1m/users.dat') as file:\n",
    "            users = pd.read_csv(file, names=['user_id', 'gender', 'age', 'occupation', 'zip'], **params)\n",
    "        with zip_file.open('ml-1m/ratings.dat') as file:\n",
    "            ratings = pd.read_csv(file, names=['user_id', 'movie_id', 'rating', 'timestamp'], **params)\n",
    "        with zip_file.open('ml-1m/movies.dat') as file:\n",
    "            movies = pd.read_csv(file, names=['movie_id', 'title', 'genres'], **params)\n",
    "    return pd.merge(pd.merge(ratings, users), movies)\n",
    "        \n",
    "movielens = get_movielens()"
   ]
  }
 ],
 "metadata": {
  "kernelspec": {
   "display_name": "Python 3 (ipykernel)",
   "language": "python",
   "name": "python3"
  },
  "language_info": {
   "codemirror_mode": {
    "name": "ipython",
    "version": 3
   },
   "file_extension": ".py",
   "mimetype": "text/x-python",
   "name": "python",
   "nbconvert_exporter": "python",
   "pygments_lexer": "ipython3",
   "version": "3.10.9"
  },
  "papermill": {
   "default_parameters": {},
   "duration": 30.039475,
   "end_time": "2023-04-13T09:10:47.348497",
   "environment_variables": {},
   "exception": null,
   "input_path": "__notebook__.ipynb",
   "output_path": "__notebook__.ipynb",
   "parameters": {},
   "start_time": "2023-04-13T09:10:17.309022",
   "version": "2.4.0"
  }
 },
 "nbformat": 4,
 "nbformat_minor": 5
}
